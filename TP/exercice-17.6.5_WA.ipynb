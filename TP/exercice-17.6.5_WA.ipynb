{
 "cells": [
  {
   "cell_type": "markdown",
   "id": "935a1739-1e3e-4f1b-96d1-2caa1a0d05a3",
   "metadata": {},
   "source": [
    "# Exercice 17.6.5 : Analyse d'un jeu de données avec pandas\n",
    "---\n",
    "---\n",
    "#### importations des modules"
   ]
  },
  {
   "cell_type": "code",
   "execution_count": 1,
   "id": "0fbad514-71d8-4819-948f-9a36c8b37ee9",
   "metadata": {},
   "outputs": [],
   "source": [
    "import os\n",
    "import pandas as pd"
   ]
  },
  {
   "cell_type": "markdown",
   "id": "c1695fa2-b2dd-442f-8ef5-87769cce076c",
   "metadata": {},
   "source": [
    "---\n",
    "---\n",
    "## Téléchargement du jeu de données"
   ]
  },
  {
   "cell_type": "code",
   "execution_count": 2,
   "id": "381b284b-2bdc-4770-8ff3-53e1c5d08436",
   "metadata": {},
   "outputs": [
    {
     "name": "stdout",
     "output_type": "stream",
     "text": [
      "Downloading people.tsv file\n",
      "--2021-12-01 20:47:36--  https://python.sdv.univ-paris-diderot.fr/data-files/people.tsv\n",
      "Resolving python.sdv.univ-paris-diderot.fr... 2001:660:3301:8003::54, 194.254.61.54\n",
      "Connecting to python.sdv.univ-paris-diderot.fr|2001:660:3301:8003::54|:443... connected.\n",
      "HTTP request sent, awaiting response... 200 OK\n",
      "Length: 253 [text/tab-separated-values]\n",
      "Saving to: 'people.tsv'\n",
      "\n",
      "people.tsv          100%[===================>]     253  --.-KB/s    in 0s      \n",
      "\n",
      "2021-12-01 20:47:36 (7.54 MB/s) - 'people.tsv' saved [253/253]\n",
      "\n",
      "Done !\n"
     ]
    }
   ],
   "source": [
    "if not os.path.exists(\"people.tsv\"):\n",
    "    print(\"Downloading people.tsv file\")\n",
    "    try:\n",
    "        !wget https://python.sdv.univ-paris-diderot.fr/data-files/people.tsv\n",
    "    except:\n",
    "        print(\"Unable downloading file !\")\n",
    "    print(\"Done !\")"
   ]
  },
  {
   "cell_type": "markdown",
   "id": "5c852673-df9c-48a5-9e97-f7242bccb38d",
   "metadata": {},
   "source": [
    "---\n",
    "\n",
    "## Chargement du jeu de données"
   ]
  },
  {
   "cell_type": "code",
   "execution_count": 3,
   "id": "ab7a21ad-6b3b-4ac2-8ade-6fa2d0a1c253",
   "metadata": {},
   "outputs": [],
   "source": [
    "people = pd.read_csv(\"people.tsv\", sep=\"\\t\", index_col=\"name\")"
   ]
  },
  {
   "cell_type": "code",
   "execution_count": 4,
   "id": "6d06caeb-7194-4329-a729-2dbb77031c77",
   "metadata": {},
   "outputs": [
    {
     "data": {
      "text/html": [
       "<div>\n",
       "<style scoped>\n",
       "    .dataframe tbody tr th:only-of-type {\n",
       "        vertical-align: middle;\n",
       "    }\n",
       "\n",
       "    .dataframe tbody tr th {\n",
       "        vertical-align: top;\n",
       "    }\n",
       "\n",
       "    .dataframe thead th {\n",
       "        text-align: right;\n",
       "    }\n",
       "</style>\n",
       "<table border=\"1\" class=\"dataframe\">\n",
       "  <thead>\n",
       "    <tr style=\"text-align: right;\">\n",
       "      <th></th>\n",
       "      <th>sex</th>\n",
       "      <th>size</th>\n",
       "      <th>age</th>\n",
       "    </tr>\n",
       "    <tr>\n",
       "      <th>name</th>\n",
       "      <th></th>\n",
       "      <th></th>\n",
       "      <th></th>\n",
       "    </tr>\n",
       "  </thead>\n",
       "  <tbody>\n",
       "    <tr>\n",
       "      <th>simon</th>\n",
       "      <td>male</td>\n",
       "      <td>175</td>\n",
       "      <td>33</td>\n",
       "    </tr>\n",
       "    <tr>\n",
       "      <th>clara</th>\n",
       "      <td>female</td>\n",
       "      <td>167</td>\n",
       "      <td>45</td>\n",
       "    </tr>\n",
       "    <tr>\n",
       "      <th>serge</th>\n",
       "      <td>male</td>\n",
       "      <td>181</td>\n",
       "      <td>44</td>\n",
       "    </tr>\n",
       "    <tr>\n",
       "      <th>claire</th>\n",
       "      <td>female</td>\n",
       "      <td>174</td>\n",
       "      <td>31</td>\n",
       "    </tr>\n",
       "    <tr>\n",
       "      <th>patrick</th>\n",
       "      <td>male</td>\n",
       "      <td>172</td>\n",
       "      <td>52</td>\n",
       "    </tr>\n",
       "    <tr>\n",
       "      <th>julie</th>\n",
       "      <td>female</td>\n",
       "      <td>168</td>\n",
       "      <td>37</td>\n",
       "    </tr>\n",
       "  </tbody>\n",
       "</table>\n",
       "</div>"
      ],
      "text/plain": [
       "            sex  size  age\n",
       "name                      \n",
       "simon      male   175   33\n",
       "clara    female   167   45\n",
       "serge      male   181   44\n",
       "claire   female   174   31\n",
       "patrick    male   172   52\n",
       "julie    female   168   37"
      ]
     },
     "execution_count": 4,
     "metadata": {},
     "output_type": "execute_result"
    }
   ],
   "source": [
    "# Affichage des 6 première lignes de `people`\n",
    "people.head(6)"
   ]
  },
  {
   "cell_type": "code",
   "execution_count": 5,
   "id": "9c32e15d-55e2-4f69-b820-54542259be57",
   "metadata": {},
   "outputs": [
    {
     "name": "stdout",
     "output_type": "stream",
     "text": [
      "Le dataframe people contient 12 lignes et 3 colonnes\n"
     ]
    }
   ],
   "source": [
    "print(f\"Le dataframe people contient {people.shape[0]} lignes et \"\n",
    "      f\"{people.shape[1]} colonnes\")"
   ]
  },
  {
   "cell_type": "markdown",
   "id": "3e6b0b12-4434-495d-9f23-2e194ec6624a",
   "metadata": {},
   "source": [
    "---\n",
    "## Sélection"
   ]
  },
  {
   "cell_type": "code",
   "execution_count": 6,
   "id": "a9cc51d2-d5fd-42cc-843c-8f3c1ecdeb14",
   "metadata": {},
   "outputs": [
    {
     "name": "stdout",
     "output_type": "stream",
     "text": [
      "Claire fait 174 cm\n"
     ]
    }
   ],
   "source": [
    "# Détermination de la taille de Claire.\n",
    "print(f\"Claire fait {people.loc['claire']['size']} cm\")"
   ]
  },
  {
   "cell_type": "code",
   "execution_count": 7,
   "id": "510ce367-a598-41f2-9452-fcad5b3ffdf3",
   "metadata": {},
   "outputs": [
    {
     "data": {
      "text/html": [
       "<div>\n",
       "<style scoped>\n",
       "    .dataframe tbody tr th:only-of-type {\n",
       "        vertical-align: middle;\n",
       "    }\n",
       "\n",
       "    .dataframe tbody tr th {\n",
       "        vertical-align: top;\n",
       "    }\n",
       "\n",
       "    .dataframe thead th {\n",
       "        text-align: right;\n",
       "    }\n",
       "</style>\n",
       "<table border=\"1\" class=\"dataframe\">\n",
       "  <thead>\n",
       "    <tr style=\"text-align: right;\">\n",
       "      <th></th>\n",
       "      <th>size</th>\n",
       "    </tr>\n",
       "    <tr>\n",
       "      <th>name</th>\n",
       "      <th></th>\n",
       "    </tr>\n",
       "  </thead>\n",
       "  <tbody>\n",
       "    <tr>\n",
       "      <th>claire</th>\n",
       "      <td>174</td>\n",
       "    </tr>\n",
       "  </tbody>\n",
       "</table>\n",
       "</div>"
      ],
      "text/plain": [
       "        size\n",
       "name        \n",
       "claire   174"
      ]
     },
     "execution_count": 7,
     "metadata": {},
     "output_type": "execute_result"
    }
   ],
   "source": [
    "people.loc[[\"claire\"],[\"size\"]]"
   ]
  },
  {
   "cell_type": "code",
   "execution_count": 8,
   "id": "160295f0-2210-43a8-835a-c7ace11bca92",
   "metadata": {},
   "outputs": [
    {
     "name": "stdout",
     "output_type": "stream",
     "text": [
      "Baptiste à 39 ans\n"
     ]
    }
   ],
   "source": [
    "# Détermination de l'age de Baptiste.\n",
    "print(f\"Baptiste à {people.loc['baptiste']['age']} ans\")"
   ]
  },
  {
   "cell_type": "code",
   "execution_count": 9,
   "id": "f0aa7f4a-78ce-4012-ad39-77fd8cb04919",
   "metadata": {},
   "outputs": [
    {
     "data": {
      "text/html": [
       "<div>\n",
       "<style scoped>\n",
       "    .dataframe tbody tr th:only-of-type {\n",
       "        vertical-align: middle;\n",
       "    }\n",
       "\n",
       "    .dataframe tbody tr th {\n",
       "        vertical-align: top;\n",
       "    }\n",
       "\n",
       "    .dataframe thead th {\n",
       "        text-align: right;\n",
       "    }\n",
       "</style>\n",
       "<table border=\"1\" class=\"dataframe\">\n",
       "  <thead>\n",
       "    <tr style=\"text-align: right;\">\n",
       "      <th></th>\n",
       "      <th>age</th>\n",
       "    </tr>\n",
       "    <tr>\n",
       "      <th>name</th>\n",
       "      <th></th>\n",
       "    </tr>\n",
       "  </thead>\n",
       "  <tbody>\n",
       "    <tr>\n",
       "      <th>baptiste</th>\n",
       "      <td>39</td>\n",
       "    </tr>\n",
       "  </tbody>\n",
       "</table>\n",
       "</div>"
      ],
      "text/plain": [
       "          age\n",
       "name         \n",
       "baptiste   39"
      ]
     },
     "execution_count": 9,
     "metadata": {},
     "output_type": "execute_result"
    }
   ],
   "source": [
    "people.loc[[\"baptiste\"],[\"age\"]]"
   ]
  },
  {
   "cell_type": "code",
   "execution_count": 10,
   "id": "56ef98e9-aa9b-487b-abb5-f30baefd9705",
   "metadata": {},
   "outputs": [
    {
     "data": {
      "text/html": [
       "<div>\n",
       "<style scoped>\n",
       "    .dataframe tbody tr th:only-of-type {\n",
       "        vertical-align: middle;\n",
       "    }\n",
       "\n",
       "    .dataframe tbody tr th {\n",
       "        vertical-align: top;\n",
       "    }\n",
       "\n",
       "    .dataframe thead th {\n",
       "        text-align: right;\n",
       "    }\n",
       "</style>\n",
       "<table border=\"1\" class=\"dataframe\">\n",
       "  <thead>\n",
       "    <tr style=\"text-align: right;\">\n",
       "      <th></th>\n",
       "      <th>age</th>\n",
       "    </tr>\n",
       "    <tr>\n",
       "      <th>name</th>\n",
       "      <th></th>\n",
       "    </tr>\n",
       "  </thead>\n",
       "  <tbody>\n",
       "    <tr>\n",
       "      <th>paul</th>\n",
       "      <td>29</td>\n",
       "    </tr>\n",
       "    <tr>\n",
       "      <th>bob</th>\n",
       "      <td>33</td>\n",
       "    </tr>\n",
       "  </tbody>\n",
       "</table>\n",
       "</div>"
      ],
      "text/plain": [
       "      age\n",
       "name     \n",
       "paul   29\n",
       "bob    33"
      ]
     },
     "execution_count": 10,
     "metadata": {},
     "output_type": "execute_result"
    }
   ],
   "source": [
    "# Affichage, en une seule commande, l'âge de Paul et Bob.\n",
    "people.loc[[\"paul\", \"bob\"], [\"age\"]]"
   ]
  },
  {
   "cell_type": "markdown",
   "id": "3ab34e83-4e0d-4d3a-9aac-b05427a0204a",
   "metadata": {},
   "source": [
    "---\n",
    "## Statistiques descriptives et table de comptage\n",
    "### Détermination de la moyenne et la valeur minimale de la taille et l'âge des individus."
   ]
  },
  {
   "cell_type": "code",
   "execution_count": 11,
   "id": "562a4220-8129-49ff-8dd0-69890412781b",
   "metadata": {},
   "outputs": [
    {
     "name": "stdout",
     "output_type": "stream",
     "text": [
      "La Taille moyenne des individus est de 173.75 cm\n"
     ]
    }
   ],
   "source": [
    "print(f\"La Taille moyenne des individus est de {people['size'].mean():.2f} cm\")"
   ]
  },
  {
   "cell_type": "code",
   "execution_count": 12,
   "id": "5c4ab459-f64d-4625-840e-12db2a8dad9b",
   "metadata": {},
   "outputs": [
    {
     "name": "stdout",
     "output_type": "stream",
     "text": [
      "La taille minimum des individus est de 159.00 cm\n"
     ]
    }
   ],
   "source": [
    "print(f\"La taille minimum des individus est de {people['size'].min():.2f} cm\")"
   ]
  },
  {
   "cell_type": "code",
   "execution_count": 13,
   "id": "94caa63f-af32-4149-9f5d-ba0446e18a47",
   "metadata": {},
   "outputs": [
    {
     "name": "stdout",
     "output_type": "stream",
     "text": [
      "L'age moyen des individus est de 42 ans\n"
     ]
    }
   ],
   "source": [
    "print(f\"L'age moyen des individus est de {people['age'].mean():.0f} ans\")"
   ]
  },
  {
   "cell_type": "code",
   "execution_count": 14,
   "id": "541e5ab5-7ed4-426c-8597-5faa625ce460",
   "metadata": {},
   "outputs": [
    {
     "name": "stdout",
     "output_type": "stream",
     "text": [
      "L'age minimum des individus est de 29 ans\n"
     ]
    }
   ],
   "source": [
    "print(f\"L'age minimum des individus est de {people['age'].min()} ans\")"
   ]
  },
  {
   "cell_type": "markdown",
   "id": "c5645106-5dc7-4815-ae41-33921e4cd72c",
   "metadata": {},
   "source": [
    "### Comptage du nombre de personnes en fonction du sexe."
   ]
  },
  {
   "cell_type": "code",
   "execution_count": 15,
   "id": "4fda44d3-f04d-4764-b243-a4ab666753ea",
   "metadata": {},
   "outputs": [
    {
     "name": "stdout",
     "output_type": "stream",
     "text": [
      "Il y a 6 femmes et 6 hommes\n"
     ]
    }
   ],
   "source": [
    "print(f\"Il y a {people[people['sex'] == 'female'].shape[0]} femmes \"\n",
    "      f\"et {people[people['sex'] == 'male'].shape[0]} hommes\")"
   ]
  },
  {
   "cell_type": "markdown",
   "id": "268bc369-a150-4af4-9a1e-9d436f1616e1",
   "metadata": {},
   "source": [
    "---\n",
    "## Statistiques par groupe"
   ]
  },
  {
   "cell_type": "code",
   "execution_count": 16,
   "id": "23fd0f56-edab-4708-9c3d-9cf436bac432",
   "metadata": {},
   "outputs": [
    {
     "name": "stdout",
     "output_type": "stream",
     "text": [
      "La taille moyenne des femmes est de 168.00 cm et l'age moyen est de 46 ans\n",
      "La taille moyenne des hommes est de 179.50 cm et l'age moyen est de 38 ans\n"
     ]
    }
   ],
   "source": [
    "group = people.groupby(by=\"sex\").mean()\n",
    "print(f\"La taille moyenne des femmes est de {group['size']['female']:.2f} cm et \"\n",
    "      f\"l'age moyen est de {group['age']['female']:.0f} ans\")\n",
    "print(f\"La taille moyenne des hommes est de {group['size']['male']:.2f} cm et \"\n",
    "      f\"l'age moyen est de {group['age']['male']:.0f} ans\")"
   ]
  },
  {
   "cell_type": "code",
   "execution_count": 17,
   "id": "259bcd89-2be1-44d6-af1c-cf5ea944d177",
   "metadata": {},
   "outputs": [
    {
     "data": {
      "text/html": [
       "<div>\n",
       "<style scoped>\n",
       "    .dataframe tbody tr th:only-of-type {\n",
       "        vertical-align: middle;\n",
       "    }\n",
       "\n",
       "    .dataframe tbody tr th {\n",
       "        vertical-align: top;\n",
       "    }\n",
       "\n",
       "    .dataframe thead th {\n",
       "        text-align: right;\n",
       "    }\n",
       "</style>\n",
       "<table border=\"1\" class=\"dataframe\">\n",
       "  <thead>\n",
       "    <tr style=\"text-align: right;\">\n",
       "      <th></th>\n",
       "      <th>size</th>\n",
       "      <th>age</th>\n",
       "    </tr>\n",
       "    <tr>\n",
       "      <th>sex</th>\n",
       "      <th></th>\n",
       "      <th></th>\n",
       "    </tr>\n",
       "  </thead>\n",
       "  <tbody>\n",
       "    <tr>\n",
       "      <th>female</th>\n",
       "      <td>168.0</td>\n",
       "      <td>46.333333</td>\n",
       "    </tr>\n",
       "    <tr>\n",
       "      <th>male</th>\n",
       "      <td>179.5</td>\n",
       "      <td>38.333333</td>\n",
       "    </tr>\n",
       "  </tbody>\n",
       "</table>\n",
       "</div>"
      ],
      "text/plain": [
       "         size        age\n",
       "sex                     \n",
       "female  168.0  46.333333\n",
       "male    179.5  38.333333"
      ]
     },
     "execution_count": 17,
     "metadata": {},
     "output_type": "execute_result"
    }
   ],
   "source": [
    "group"
   ]
  },
  {
   "cell_type": "markdown",
   "id": "b97d69d6-e4ef-4460-8ed1-65d04efba48b",
   "metadata": {},
   "source": [
    "## Sélections par filtre"
   ]
  },
  {
   "cell_type": "code",
   "execution_count": 18,
   "id": "c3056241-5ce3-4d7f-a450-90fcaa45099b",
   "metadata": {},
   "outputs": [
    {
     "name": "stdout",
     "output_type": "stream",
     "text": [
      "Il y a 3 individus qui mesurent plus de 1,80 m\n"
     ]
    }
   ],
   "source": [
    "# Détermination du nombre d'individus qui mesurent plus de 1.80 m.\n",
    "print(f\"Il y a {people[people['size'] > 180].shape[0]} individus \"\n",
    "      \"qui mesurent plus de 1,80 m\")"
   ]
  },
  {
   "cell_type": "code",
   "execution_count": 19,
   "id": "fa9e2c28-50f5-4386-b5e2-fe1092056e73",
   "metadata": {},
   "outputs": [
    {
     "name": "stdout",
     "output_type": "stream",
     "text": [
      "La femme de moins de 35 ans est claire\n"
     ]
    }
   ],
   "source": [
    "# Détermination de la femme qui à moins de 35 ans.\n",
    "print(\"La femme de moins de 35 ans est \"\n",
    "      f\"{people[(people['sex'] == 'female') & (people['age'] < 35)].index[0]}\")"
   ]
  },
  {
   "cell_type": "markdown",
   "id": "13e2dde4-de89-40af-a7d7-b4d8f7c54600",
   "metadata": {},
   "source": [
    "---\n",
    "## Sélections et statistiques"
   ]
  },
  {
   "cell_type": "code",
   "execution_count": 20,
   "id": "7bf0f017-d43d-45b1-958d-51f5463601f7",
   "metadata": {},
   "outputs": [
    {
     "name": "stdout",
     "output_type": "stream",
     "text": [
      "L'age moyen des individus qui meusurent plus de 1,80 m est de 35 ans\n"
     ]
    }
   ],
   "source": [
    "# Détermination de l'âge moyen des individus qui mesurent plus de 1,80 m.\n",
    "print(\"L'age moyen des individus qui meusurent plus de 1,80 m est de \"\n",
    "      f\"{people[people['size'] > 180]['age'].mean():.0f} ans\")"
   ]
  },
  {
   "cell_type": "code",
   "execution_count": 21,
   "id": "f7c322a6-b66e-42b7-9c94-261ecc2f9f93",
   "metadata": {},
   "outputs": [
    {
     "name": "stdout",
     "output_type": "stream",
     "text": [
      "La taille maximale des femmes qui ont plus de 35 ans est de 172 cm\n"
     ]
    }
   ],
   "source": [
    "# Détermination de la taille maximale des femmes qui ont plus de 35 ans.\n",
    "print(\"La taille maximale des femmes qui ont plus de 35 ans est de \"\n",
    "      f\"{people[(people['sex'] == 'female') & (people['age'] > 35)]['size'].max()} cm\")"
   ]
  }
 ],
 "metadata": {
  "kernelspec": {
   "display_name": "Python 3",
   "language": "python",
   "name": "python3"
  },
  "language_info": {
   "codemirror_mode": {
    "name": "ipython",
    "version": 3
   },
   "file_extension": ".py",
   "mimetype": "text/x-python",
   "name": "python",
   "nbconvert_exporter": "python",
   "pygments_lexer": "ipython3",
   "version": "3.8.11"
  }
 },
 "nbformat": 4,
 "nbformat_minor": 5
}
