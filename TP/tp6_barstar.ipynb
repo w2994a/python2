{
 "cells": [
  {
   "cell_type": "markdown",
   "id": "dd0ecbce-89d8-4fb6-873e-bb7ea0853bb4",
   "metadata": {},
   "source": [
    "# Distance entre deux atomes carbones alpha consécutifs de la barstar"
   ]
  },
  {
   "cell_type": "code",
   "execution_count": 105,
   "id": "f5729037-7a30-4521-8752-80ef106f7a55",
   "metadata": {},
   "outputs": [],
   "source": [
    "import numpy as np\n",
    "import os\n",
    "import sys\n",
    "from Bio import Entrez\n"
   ]
  },
  {
   "cell_type": "markdown",
   "id": "265647f9-533e-4fa9-b234-a779e86bc9ab",
   "metadata": {},
   "source": [
    "## Téléchargement du fichier PDB de la barstar"
   ]
  },
  {
   "cell_type": "code",
   "execution_count": 4,
   "id": "51312604-9e18-46d3-badf-750c01c3c47f",
   "metadata": {},
   "outputs": [],
   "source": [
    "if not os.path.exists(\"1BTA.pdb\"):\n",
    "    !wget https://files.rcsb.org/download/1BTA.pdb"
   ]
  },
  {
   "cell_type": "markdown",
   "id": "5f9d1f28-c1f1-4620-9c16-a9292fe5abd2",
   "metadata": {},
   "source": [
    "## Extraction des coordonnées atomiques"
   ]
  },
  {
   "cell_type": "code",
   "execution_count": 9,
   "id": "87ce8570-9267-46f8-be46-6ebdca84d904",
   "metadata": {},
   "outputs": [],
   "source": [
    "with open(\"1BTA.pdb\", \"r\") as f_pdb, open(\"1bta_CA.txt\", \"w\") as f_CA:\n",
    "    for ligne in f_pdb:\n",
    "          if ligne.startswith(\"ATOM\") and ligne[12:16].strip() == \"CA\":\n",
    "                x = ligne[30:38]\n",
    "                y = ligne[38:46]\n",
    "                z = ligne[46:54]\n",
    "                f_CA.write(f\"{x} {y} {z} \")"
   ]
  },
  {
   "cell_type": "markdown",
   "id": "c8082b5a-d25f-4222-9eec-086fa04f6fc1",
   "metadata": {},
   "source": [
    "## Lecture des coordonnées"
   ]
  },
  {
   "cell_type": "code",
   "execution_count": 41,
   "id": "222e993b-b0f6-4de1-937a-090f5c33121f",
   "metadata": {},
   "outputs": [
    {
     "name": "stdout",
     "output_type": "stream",
     "text": [
      "Nombre total de coordonnées : 267\n"
     ]
    }
   ],
   "source": [
    "c_alpha = None\n",
    "with open(\"1bta_CA.txt\") as f_ca:\n",
    "    for ligne in f_ca:\n",
    "        c_alpha = [float(coord) for coord in ligne.split()]\n",
    "print(f\"Nombre total de coordonnées : {len(c_alpha)}\")"
   ]
  },
  {
   "cell_type": "markdown",
   "id": "ec8c7ae2-b409-49d5-9897-d4abf89cb3f8",
   "metadata": {},
   "source": [
    "## Construction de la matrice de coordonnées\n",
    "\n",
    "Il y a 89 acides aminées constituant la barstar"
   ]
  },
  {
   "cell_type": "code",
   "execution_count": 42,
   "id": "3b7f29af-71fa-46bd-9686-7bb88f8ab11f",
   "metadata": {},
   "outputs": [
    {
     "name": "stdout",
     "output_type": "stream",
     "text": [
      "Dimenssions de la matrice c_alpha : (89, 3)\n"
     ]
    }
   ],
   "source": [
    "c_alpha = np.array(c_alpha)\n",
    "c_alpha = c_alpha.reshape(89, 3)\n",
    "print(f\"Dimenssions de la matrice c_alpha : {c_alpha.shape}\") "
   ]
  },
  {
   "cell_type": "markdown",
   "id": "5f4d532b-e935-476c-87ef-e2f72b0ca7ec",
   "metadata": {},
   "source": [
    "## Calcul de la distance"
   ]
  },
  {
   "cell_type": "code",
   "execution_count": 53,
   "id": "0f5219ef-41e2-4b81-af3f-a28bc7a4d412",
   "metadata": {},
   "outputs": [
    {
     "name": "stdout",
     "output_type": "stream",
     "text": [
      "Ok !!\n"
     ]
    }
   ],
   "source": [
    "c_alpha_first = c_alpha[1:, :]\n",
    "c_alpha_dernier = c_alpha[:-1, :]\n",
    "if c_alpha_dernier.shape[0] == c_alpha_first.shape[0]:\n",
    "    print(\"Ok !!\")\n",
    "else:\n",
    "    print(\"Erreur de construction des array !!\")"
   ]
  },
  {
   "cell_type": "code",
   "execution_count": 103,
   "id": "084bd2de-a572-425c-b1b7-b9f031f2b6be",
   "metadata": {},
   "outputs": [],
   "source": [
    "dist = (c_alpha_dernier - c_alpha_first)**2\n",
    "dist = dist[:, 0] + dist[:, 1] + dist[:, 2]"
   ]
  },
  {
   "cell_type": "code",
   "execution_count": 104,
   "id": "96f396e8-f3d6-469e-8bb3-d0b3a2047905",
   "metadata": {},
   "outputs": [
    {
     "name": "stdout",
     "output_type": "stream",
     "text": [
      " 1 : 14.447\n",
      " 2 : 14.467\n",
      " 3 : 14.662\n",
      " 4 : 14.569\n",
      " 5 : 14.507\n",
      " 6 : 14.642\n",
      " 7 : 14.595\n",
      " 8 : 14.571\n",
      " 9 : 14.633\n",
      "10 : 14.465\n",
      "11 : 14.609\n",
      "12 : 14.552\n",
      "13 : 14.540\n",
      "14 : 14.489\n",
      "15 : 14.520\n",
      "16 : 14.432\n",
      "17 : 14.478\n",
      "18 : 14.453\n",
      "19 : 14.543\n",
      "20 : 14.448\n",
      "21 : 14.507\n",
      "22 : 14.417\n",
      "23 : 14.454\n",
      "24 : 14.598\n",
      "25 : 14.623\n",
      "26 : 14.532\n",
      "27 : 14.559\n",
      "28 : 14.566\n",
      "29 : 14.734\n",
      "30 : 14.730\n",
      "31 : 14.835\n",
      "32 : 14.817\n",
      "33 : 14.570\n",
      "34 : 14.420\n",
      "35 : 14.536\n",
      "36 : 14.314\n",
      "37 : 14.235\n",
      "38 : 14.250\n",
      "39 : 14.457\n",
      "40 : 14.632\n",
      "41 : 14.592\n",
      "42 : 14.658\n",
      "43 : 14.626\n",
      "44 : 14.536\n",
      "45 : 14.581\n",
      "46 : 14.552\n",
      "47 : 8.265\n",
      "48 : 14.642\n",
      "49 : 14.417\n",
      "50 : 14.510\n",
      "51 : 14.372\n",
      "52 : 14.365\n",
      "53 : 14.549\n",
      "54 : 14.597\n",
      "55 : 14.615\n",
      "56 : 14.670\n",
      "57 : 14.509\n",
      "58 : 14.599\n",
      "59 : 14.523\n",
      "60 : 14.623\n",
      "61 : 14.772\n",
      "62 : 14.522\n",
      "63 : 14.746\n",
      "64 : 14.585\n",
      "65 : 14.596\n",
      "66 : 14.650\n",
      "67 : 14.552\n",
      "68 : 14.776\n",
      "69 : 14.624\n",
      "70 : 14.424\n",
      "71 : 14.532\n",
      "72 : 14.284\n",
      "73 : 14.650\n",
      "74 : 14.605\n",
      "75 : 14.378\n",
      "76 : 14.392\n",
      "77 : 14.461\n",
      "78 : 14.319\n",
      "79 : 14.484\n",
      "80 : 14.599\n",
      "81 : 14.535\n",
      "82 : 14.609\n",
      "83 : 14.658\n",
      "84 : 14.710\n",
      "85 : 14.624\n",
      "86 : 14.628\n",
      "87 : 14.633\n",
      "88 : 14.634\n"
     ]
    }
   ],
   "source": [
    "for num_ca, dist_ca in enumerate(dist):\n",
    "    print(f\"{num_ca + 1:>2} : {dist_ca:.3f}\")"
   ]
  },
  {
   "cell_type": "markdown",
   "id": "2b7a7db3-5351-4d74-a7e4-d748380ab5e5",
   "metadata": {},
   "source": [
    "# Années de publication des articles relatifs à la barstar\n",
    "## Requête avec un mot-clé"
   ]
  },
  {
   "cell_type": "code",
   "execution_count": 115,
   "id": "3ed8df3f-837d-4e15-8053-6567e88dffe0",
   "metadata": {},
   "outputs": [],
   "source": [
    "Entrez.email = \"w_amory@orange.fr\"\n",
    "requete = Entrez.esearch(db=\"pubmed\", term=\"barstar\")"
   ]
  },
  {
   "cell_type": "code",
   "execution_count": 116,
   "id": "ce8d48f3-0f57-4bdc-aeef-3fba1ff7505e",
   "metadata": {},
   "outputs": [
    {
     "data": {
      "text/plain": [
       "{'Count': '361', 'RetMax': '20', 'RetStart': '0', 'IdList': ['34740723', '34532345', '34454498', '33723075', '33639768', '32951089', '32821230', '32744407', '32338002', '32251595', '32128342', '32052127', '31851424', '31740929', '31593627', '31492061', '31321476', '31293612', '30967850', '30950525'], 'TranslationSet': [{'From': 'barstar', 'To': '\"barstar protein, Bacillus amyloliquefaciens\"[Supplementary Concept] OR \"barstar protein, Bacillus amyloliquefaciens\"[All Fields] OR \"barstar\"[All Fields]'}], 'TranslationStack': [{'Term': '\"barstar protein, Bacillus amyloliquefaciens\"[Supplementary Concept]', 'Field': 'Supplementary Concept', 'Count': '254', 'Explode': 'N'}, {'Term': '\"barstar protein, Bacillus amyloliquefaciens\"[All Fields]', 'Field': 'All Fields', 'Count': '254', 'Explode': 'N'}, 'OR', {'Term': '\"barstar\"[All Fields]', 'Field': 'All Fields', 'Count': '361', 'Explode': 'N'}, 'OR', 'GROUP'], 'QueryTranslation': '\"barstar protein, Bacillus amyloliquefaciens\"[Supplementary Concept] OR \"barstar protein, Bacillus amyloliquefaciens\"[All Fields] OR \"barstar\"[All Fields]'}"
      ]
     },
     "execution_count": 116,
     "metadata": {},
     "output_type": "execute_result"
    }
   ],
   "source": [
    "Entrez.read(requete)"
   ]
  },
  {
   "cell_type": "code",
   "execution_count": null,
   "id": "e2ed3f07-7058-4377-a709-40281cf61316",
   "metadata": {},
   "outputs": [],
   "source": [
    "requete."
   ]
  }
 ],
 "metadata": {
  "kernelspec": {
   "display_name": "Python 3 (ipykernel)",
   "language": "python",
   "name": "python3"
  },
  "language_info": {
   "codemirror_mode": {
    "name": "ipython",
    "version": 3
   },
   "file_extension": ".py",
   "mimetype": "text/x-python",
   "name": "python",
   "nbconvert_exporter": "python",
   "pygments_lexer": "ipython3",
   "version": "3.7.9"
  }
 },
 "nbformat": 4,
 "nbformat_minor": 5
}
