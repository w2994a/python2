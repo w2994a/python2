{
 "cells": [
  {
   "cell_type": "markdown",
   "id": "d08d3184",
   "metadata": {},
   "source": [
    "# TP Chapitre 13 : Dictionnaires, tuples et sets"
   ]
  },
  {
   "cell_type": "code",
   "execution_count": 16,
   "id": "8d6612e5",
   "metadata": {},
   "outputs": [],
   "source": [
    "import os\n",
    "import sys\n",
    "from urllib.request import urlretrieve\n",
    "\n",
    "%load_ext autoreload\n",
    "%autoreload 2"
   ]
  },
  {
   "cell_type": "markdown",
   "id": "efb16abf-23b4-43a6-a741-02c474f1aad4",
   "metadata": {},
   "source": [
    "## Ex 13.6.1 : Composition en acides aminés"
   ]
  },
  {
   "cell_type": "code",
   "execution_count": 1,
   "id": "55b765b5-c38c-45d1-9653-d60151e85c55",
   "metadata": {},
   "outputs": [
    {
     "name": "stdout",
     "output_type": "stream",
     "text": [
      "{'A': 7, 'G': 6, 'W': 3, 'P': 2, 'S': 3, 'L': 3, 'I': 2, 'M': 1}\n"
     ]
    }
   ],
   "source": [
    "def get_occurence_aa(seq):\n",
    "    aa_dict = {}\n",
    "    for aa in seq:\n",
    "        aa_dict[aa] = aa_dict.get(aa, 0) + 1\n",
    "    return aa_dict\n",
    "\n",
    "\n",
    "seq_aa = \"AGWPSGGASAGLAILWGASAIMPGALW\"\n",
    "occurence_aa = get_occurence_aa(seq_aa)\n",
    "print(occurence_aa)"
   ]
  },
  {
   "cell_type": "markdown",
   "id": "25f96616-bd68-47b1-ac3b-ff364240b0f2",
   "metadata": {},
   "source": [
    "## Ex 13.6.2 : Mots de 2 et 3 lettres dans une séquence d'ADN"
   ]
  },
  {
   "cell_type": "code",
   "execution_count": 10,
   "id": "2947feb8-a591-4fb5-a718-ef2246d65fd3",
   "metadata": {},
   "outputs": [
    {
     "name": "stdout",
     "output_type": "stream",
     "text": [
      "Mots de 2 lettres\n",
      "AC :   1\n",
      "CC :   3\n",
      "CT :   8\n",
      "TA :   7\n",
      "AG :   7\n",
      "GC :   7\n",
      "CA :   1\n",
      "AT :   2\n",
      "TG :   2\n",
      "GT :   1\n",
      "GA :   1\n",
      "AA :   1\n",
      "TC :   2\n",
      "CG :   1\n",
      "GG :   1\n",
      "TT :   2\n",
      "\n",
      "\n",
      "Mots de 3 lettres\n",
      "ACC :   1\n",
      "CCT :   2\n",
      "CTA :   5\n",
      "TAG :   7\n",
      "AGC :   5\n",
      "GCC :   2\n",
      "CCA :   1\n",
      "CAT :   1\n",
      "ATG :   1\n",
      "TGT :   1\n",
      "GTA :   1\n",
      "AGA :   1\n",
      "GAA :   1\n",
      "AAT :   1\n",
      "ATC :   1\n",
      "TCG :   1\n",
      "CGC :   1\n",
      "AGG :   1\n",
      "GGC :   1\n",
      "GCT :   5\n",
      "CTT :   1\n",
      "TTT :   1\n",
      "TTA :   1\n",
      "CTC :   1\n",
      "TCT :   1\n",
      "CTG :   1\n"
     ]
    }
   ],
   "source": [
    "def compt_mot_2_lettres(seq):\n",
    "    occur_mot_2_lettres = {}\n",
    "    for i in range(len(seq)-1):\n",
    "        mot = seq[i:i+2]\n",
    "        occur_mot_2_lettres[mot] = occur_mot_2_lettres.get(mot, 0) + 1\n",
    "    return occur_mot_2_lettres\n",
    "\n",
    "\n",
    "def compt_mot_3_lettres(seq):\n",
    "    occur_mot_3_lettres = {}\n",
    "    for i in range(len(seq)-2):\n",
    "        mot = seq[i:i+3]\n",
    "        occur_mot_3_lettres[mot] = occur_mot_3_lettres.get(mot, 0) + 1\n",
    "    return occur_mot_3_lettres\n",
    "\n",
    "\n",
    "def affichage_mots_in_seq(mot_dict, nb_lettres):\n",
    "    print(f\"Mots de {nb_lettres} lettres\")\n",
    "    for mot, nb_mot in mot_dict.items():\n",
    "        print(f\"{mot} : {nb_mot:>3d}\")\n",
    "    return\n",
    "\n",
    "\n",
    "seq_adn = \"ACCTAGCCATGTAGAATCGCCTAGGCTTTAGCTAGCTCTAGCTAGCTG\"\n",
    "occur_mot_2_lettres = compt_mot_2_lettres(seq_adn)\n",
    "occur_mot_3_lettres = compt_mot_3_lettres(seq_adn)\n",
    "\n",
    "affichage_mots_in_seq(occur_mot_2_lettres, 2)\n",
    "print(\"\\n\")\n",
    "affichage_mots_in_seq(occur_mot_3_lettres, 3)"
   ]
  },
  {
   "cell_type": "markdown",
   "id": "3a341d4e-a8a6-412a-ae93-0a09d705e537",
   "metadata": {},
   "source": [
    "## Ex 13.6.3 : Mots de 2 lettres dans la séquence du chromosome $\\mathrm{I}$ de _Saccharomyces cerevisiae_"
   ]
  },
  {
   "cell_type": "code",
   "execution_count": 17,
   "id": "0203e4e8-46af-4549-ab92-1f55c4a17529",
   "metadata": {},
   "outputs": [
    {
     "name": "stdout",
     "output_type": "stream",
     "text": [
      "Downloading the FASTA file for Saccharomyces cerevisiae...\n",
      "Done!\n"
     ]
    }
   ],
   "source": [
    "# Téléchargement du fichier NC_001133.fna s'il n'est pas présent dans\n",
    "# le répertoire courant.\n",
    "\n",
    "if not os.path.isfile('NC_001133.fna'):\n",
    "    print('Downloading the FASTA file for Saccharomyces cerevisiae...')\n",
    "    try:\n",
    "        urlretrieve(\"https://python.sdv.univ-paris-diderot.fr/data-files/\"\n",
    "                    \"NC_001133.fna\", \"NC_001133.fna\")\n",
    "    except:\n",
    "        print(\"Unable to download the file!\")\n",
    "    print('Done!')"
   ]
  },
  {
   "cell_type": "code",
   "execution_count": 20,
   "id": "c303a237-a124-42e2-a12b-49e7be827258",
   "metadata": {},
   "outputs": [
    {
     "name": "stdout",
     "output_type": "stream",
     "text": [
      "Mots de 2 lettres\n",
      "CC : 9215\n",
      "CA : 15231\n",
      "AC : 12491\n",
      "AT : 19769\n",
      "TC : 14015\n",
      "CT : 13111\n",
      "TA : 16183\n",
      "AA : 23948\n",
      "AG : 13628\n",
      "GC : 8919\n",
      "TG : 15622\n",
      "GG : 9432\n",
      "GT : 12940\n",
      "TT : 24155\n",
      "CG : 7084\n",
      "GA : 14474\n"
     ]
    }
   ],
   "source": [
    "def lit_fasta(name_file):\n",
    "    if not os.path.exists(name_file):\n",
    "        sys.exit(f\"{name_file} don't exist\")\n",
    "    with open(name_file, \"r\") as filin:\n",
    "        seq = \"\"\n",
    "        for line in filin:\n",
    "            if line.startswith(\">\"):\n",
    "                continue\n",
    "            seq += line.strip()\n",
    "    return seq\n",
    "\n",
    "\n",
    "seq_adn = lit_fasta(\"NC_001133.fna\")\n",
    "occur_mot = compt_mot_2_lettres(seq_adn)\n",
    "affichage_mots_in_seq(occur_mot, 2)"
   ]
  },
  {
   "cell_type": "markdown",
   "id": "4be9e2ac-4c88-45f6-9397-71241f1991fb",
   "metadata": {},
   "source": [
    "## Ex 13.6.4 : Mots de $n$ lettres dans un fichier FASTA"
   ]
  },
  {
   "cell_type": "code",
   "execution_count": 21,
   "id": "b1943ece-cfb4-4607-8744-6b5abe737b9e",
   "metadata": {},
   "outputs": [
    {
     "name": "stdout",
     "output_type": "stream",
     "text": [
      "Downloading the FASTA file for Saccharomyces cerevisiae...\n",
      "Done!\n"
     ]
    }
   ],
   "source": [
    "# Téléchargement du fichier NC_000913.fna s'il n'est pas présent dans\n",
    "# le répertoire courant.\n",
    "\n",
    "if not os.path.isfile('NC_000913.fna'):\n",
    "    print('Downloading the FASTA file for Saccharomyces cerevisiae...')\n",
    "    try:\n",
    "        urlretrieve(\"https://python.sdv.univ-paris-diderot.fr/data-files/\"\n",
    "                    \"NC_000913.fna\", \"NC_000913.fna\")\n",
    "    except:\n",
    "        print(\"Unable to download the file!\")\n",
    "    print('Done!')"
   ]
  },
  {
   "cell_type": "code",
   "execution_count": 26,
   "id": "f6f42c7d-685a-430c-bfbf-f0dd83509f0c",
   "metadata": {},
   "outputs": [
    {
     "name": "stdout",
     "output_type": "stream",
     "text": [
      "Mots de 2 lettres\n",
      "CC :  9215\n",
      "CA : 15231\n",
      "AC : 12491\n",
      "AT : 19769\n",
      "TC : 14015\n",
      "CT : 13111\n",
      "TA : 16183\n",
      "AA : 23948\n",
      "AG : 13628\n",
      "GC :  8919\n",
      "TG : 15622\n",
      "GG :  9432\n",
      "GT : 12940\n",
      "TT : 24155\n",
      "CG :  7084\n",
      "GA : 14474\n",
      "CPU times: user 5.16 ms, sys: 9.66 ms, total: 14.8 ms\n",
      "Wall time: 246 ms\n"
     ]
    }
   ],
   "source": [
    "%%time\n",
    "!python extract_words.py NC_001133.fna 2"
   ]
  },
  {
   "cell_type": "code",
   "execution_count": 27,
   "id": "f71d9227-1f3f-474b-ab7a-b9a83abc56f8",
   "metadata": {},
   "outputs": [
    {
     "name": "stdout",
     "output_type": "stream",
     "text": [
      "Mots de 2 lettres\n",
      "CC :  9215\n",
      "CA : 15231\n",
      "AC : 12491\n",
      "AT : 19769\n",
      "TC : 14015\n",
      "CT : 13111\n",
      "TA : 16183\n",
      "AA : 23948\n",
      "AG : 13628\n",
      "GC :  8919\n",
      "TG : 15622\n",
      "GG :  9432\n",
      "GT : 12940\n",
      "TT : 24155\n",
      "CG :  7084\n",
      "GA : 14474\n",
      "CPU times: user 4.64 ms, sys: 9.36 ms, total: 14 ms\n",
      "Wall time: 238 ms\n"
     ]
    }
   ],
   "source": [
    "%%time\n",
    "!python extract_words.py NC_001133.fna 2"
   ]
  },
  {
   "cell_type": "code",
   "execution_count": null,
   "id": "2b3ab049-0305-407a-b280-6d29e9903a01",
   "metadata": {},
   "outputs": [],
   "source": []
  }
 ],
 "metadata": {
  "kernelspec": {
   "display_name": "Python 3 (ipykernel)",
   "language": "python",
   "name": "python3"
  },
  "language_info": {
   "codemirror_mode": {
    "name": "ipython",
    "version": 3
   },
   "file_extension": ".py",
   "mimetype": "text/x-python",
   "name": "python",
   "nbconvert_exporter": "python",
   "pygments_lexer": "ipython3",
   "version": "3.7.9"
  }
 },
 "nbformat": 4,
 "nbformat_minor": 5
}
