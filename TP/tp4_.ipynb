{
 "cells": [
  {
   "cell_type": "markdown",
   "id": "6ac5308e-7a1a-4852-b030-8cbf22547e00",
   "metadata": {},
   "source": [
    "# TP Chapitre 10 : "
   ]
  },
  {
   "cell_type": "code",
   "execution_count": 3,
   "id": "1d0888c8-858b-4a04-9cfe-95a2fae7169c",
   "metadata": {},
   "outputs": [],
   "source": [
    "import os\n",
    "import sys"
   ]
  },
  {
   "cell_type": "markdown",
   "id": "a8fbb414-deaf-4f34-9f83-18f4868e49e4",
   "metadata": {},
   "source": [
    "## Ex 10.8.1 :"
   ]
  },
  {
   "cell_type": "code",
   "execution_count": 2,
   "id": "275d03ec-03ce-4902-9374-be2d99023240",
   "metadata": {},
   "outputs": [
    {
     "name": "stdout",
     "output_type": "stream",
     "text": [
      "girafe 6 caractères\n",
      "tigre 5 caractères\n",
      "singe 5 caractères\n",
      "souris 6 caractères\n"
     ]
    }
   ],
   "source": [
    "animaux = ['girafe', 'tigre', 'singe', 'souris']\n",
    "for animal in animaux:\n",
    "    print(f\"{animal} {len(animal)} caractères\")"
   ]
  },
  {
   "cell_type": "markdown",
   "id": "87a8cccd-b8f8-4d07-b835-5e96186e6841",
   "metadata": {},
   "source": [
    "## Ex 10.8.2"
   ]
  },
  {
   "cell_type": "code",
   "execution_count": 6,
   "id": "57c2dc53-1fff-4182-b571-c2b63cd6a97f",
   "metadata": {},
   "outputs": [
    {
     "name": "stdout",
     "output_type": "stream",
     "text": [
      "UBI4_SCerevisiae.fasta\n",
      "La séquence contient 1146\n",
      "La longueur de la séquence est un multiple de 3 nucléotides\n",
      "La séquence possède 382 codons\n",
      "10 premières bases : ATGCAGATTTT\n",
      "10 dernières bases : GTGGTAACTGA\n"
     ]
    }
   ],
   "source": [
    "def lit_fasta(file_name):\n",
    "    if not os.path.exists(file_name):\n",
    "        sys.exit(f\"{file_name} does not exist.\")\n",
    "    seq = \"\"\n",
    "    with open(file_name, \"r\") as filin:\n",
    "        for line in filin:\n",
    "            if line.startswith(\">\"):\n",
    "                continue\n",
    "            seq += line.strip()\n",
    "    return seq\n",
    "\n",
    "file_name = \"UBI4_SCerevisiae.fasta\"\n",
    "seq = lit_fasta(file_name)\n",
    "print(file_name)\n",
    "print(f\"La séquence contient {len(seq)}\")\n",
    "if len(seq) % 3 == 0:\n",
    "    print(\"La longueur de la séquence est un multiple de 3 nucléotides\")\n",
    "else:\n",
    "    print(\"La longueur de la séquence n'est pas un multiple de 3 nucléotides\")\n",
    "print(f\"La séquence possède {int(len(seq)/3)} codons\")\n",
    "print(f\"10 premières bases : {seq[:11]}\")\n",
    "print(f\"10 dernières bases : {seq[-11:]}\")"
   ]
  },
  {
   "cell_type": "markdown",
   "id": "2bebd352-0b7a-4280-8499-867f09838858",
   "metadata": {},
   "source": [
    "## Ex 10.8.3"
   ]
  },
  {
   "cell_type": "code",
   "execution_count": 8,
   "id": "81698f77-6a50-4d6e-b3ce-6c5d502e4305",
   "metadata": {},
   "outputs": [
    {
     "name": "stdout",
     "output_type": "stream",
     "text": [
      "fréquence A : 17.65\n",
      "fréquence C : 20.59\n",
      "fréquence T : 29.41\n",
      "fréquence G : 32.35\n"
     ]
    }
   ],
   "source": [
    "seq = \"ATATACGGATCGGCTGTTGCCTGCGTAGTAGCGT\"\n",
    "bases = [\"A\", \"C\", \"T\", \"G\"]\n",
    "for base in bases:\n",
    "    print(f\"fréquence {base} : {(seq.count(base)/len(seq))*100:.2f}\")"
   ]
  },
  {
   "cell_type": "markdown",
   "id": "176dd138-2731-4e37-b578-58db4ba21fed",
   "metadata": {},
   "source": [
    "# 10.8.4"
   ]
  },
  {
   "cell_type": "code",
   "execution_count": 19,
   "id": "0af695a4-1004-428c-b8d0-0193833dfdf9",
   "metadata": {},
   "outputs": [
    {
     "name": "stdout",
     "output_type": "stream",
     "text": [
      "AGERWYSGAW\n"
     ]
    }
   ],
   "source": [
    "code_aa = {\"ALA\" : \"A\",\n",
    "           \"ARG\" : \"R\",\n",
    "           \"ASN\" : \"N\",\n",
    "           \"ASP\" : \"D\",\n",
    "           \"CYS\" : \"C\",\n",
    "           \"GLU\" : \"E\",\n",
    "           \"GLN\" : \"Q\",\n",
    "           \"GLY\" : \"G\",\n",
    "           \"HIT\" : \"H\",\n",
    "           \"ILE\" : \"I\",\n",
    "           \"LEU\" : \"L\",\n",
    "           \"LYS\" : \"K\",\n",
    "           \"MET\" : \"M\",\n",
    "           \"PHE\" : \"F\",\n",
    "           \"PRO\" : \"P\",\n",
    "           \"SER\" : \"S\",\n",
    "           \"THR\" : \"T\",\n",
    "           \"TYR\" : \"Y\",\n",
    "           \"TRP\" : \"W\",\n",
    "           \"VAL\" : \"V\"}\n",
    "seq = \"ALA GLY GLU ARG TRP TYR SER GLY ALA TRP\"\n",
    "\n",
    "def convert_3_lettres_1_lettre(seq):\n",
    "    seq_1_lettre = []\n",
    "    seq = seq.split()\n",
    "    for aa in seq:\n",
    "        seq_1_lettre.append(code_aa[aa])\n",
    "    return \"\".join(seq_1_lettre)\n",
    "seq_1_lettre = convert_3_lettres_1_lettre(seq)\n",
    "print(seq_1_lettre)"
   ]
  },
  {
   "cell_type": "markdown",
   "id": "7a25ae3f-e81b-415c-aca1-b826fa4b5716",
   "metadata": {},
   "source": [
    "## Ex 10.8.5 :"
   ]
  },
  {
   "cell_type": "code",
   "execution_count": 21,
   "id": "d596e71f-86d0-4463-9603-881ee677c198",
   "metadata": {},
   "outputs": [
    {
     "name": "stdout",
     "output_type": "stream",
     "text": [
      "3\n",
      "4\n"
     ]
    }
   ],
   "source": [
    "def dist_hamming(seq_a, seq_b):\n",
    "    count = 0\n",
    "    if len(seq_a) != len(seq_b):\n",
    "        print(\"Les deux sequence ne sont pas de même longueur\")\n",
    "    for i in range(len(seq_a)):\n",
    "        if seq_a[i] != seq_b[i]:\n",
    "            count += 1\n",
    "    return count\n",
    "\n",
    "print(dist_hamming(\"AGWPSGGASAGLAIL\" ,\"IGWPSAGASAGLWIL\"))\n",
    "print(dist_hamming(\"ATTCATACGTTACGATT\", \"ATACTTACGTAACCATT\"))"
   ]
  },
  {
   "cell_type": "markdown",
   "id": "2ccbb21b-797f-47fc-aab9-be2c31bc53c3",
   "metadata": {},
   "source": [
    "## Ex 10.8.6 "
   ]
  },
  {
   "cell_type": "code",
   "execution_count": 24,
   "id": "696e36ec-0307-4d9e-b5ed-9c18cd53b6c1",
   "metadata": {},
   "outputs": [],
   "source": [
    "def test_palindrome(chaine):\n",
    "    reverse_string = chaine[::-1]\n",
    "    for i in range(len(chaine)):\n",
    "        if chaine[i] != reverse_string[i]:\n",
    "            print(f\"{chaine} n'est pas un palindrome\")\n",
    "            break\n",
    "    print(f\"{chaine} est un palindrome\")"
   ]
  },
  {
   "cell_type": "code",
   "execution_count": 26,
   "id": "d86bcaf1-5b2a-4e97-bf2f-5693661e6497",
   "metadata": {},
   "outputs": [
    {
     "name": "stdout",
     "output_type": "stream",
     "text": [
      "radare n'est pas un palindrome\n",
      "radare est un palindrome\n"
     ]
    }
   ],
   "source": [
    "test_palindrome(\"radare\")"
   ]
  },
  {
   "cell_type": "code",
   "execution_count": null,
   "id": "99c31c54-9f43-4d98-ac38-acc4cc37ed92",
   "metadata": {},
   "outputs": [],
   "source": []
  }
 ],
 "metadata": {
  "kernelspec": {
   "display_name": "Python 3 (ipykernel)",
   "language": "python",
   "name": "python3"
  },
  "language_info": {
   "codemirror_mode": {
    "name": "ipython",
    "version": 3
   },
   "file_extension": ".py",
   "mimetype": "text/x-python",
   "name": "python",
   "nbconvert_exporter": "python",
   "pygments_lexer": "ipython3",
   "version": "3.8.11"
  }
 },
 "nbformat": 4,
 "nbformat_minor": 5
}
