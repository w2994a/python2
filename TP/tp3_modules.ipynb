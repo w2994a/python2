{
 "cells": [
  {
   "cell_type": "markdown",
   "id": "222de9bf-0306-487a-845c-7399be04dd1d",
   "metadata": {},
   "source": [
    "# TP Chapitre 8 : Modules"
   ]
  },
  {
   "cell_type": "code",
   "execution_count": 1,
   "id": "f2dc0de8-f3c2-41ae-8a80-c1c82ada734e",
   "metadata": {},
   "outputs": [],
   "source": [
    "import math\n",
    "import os\n",
    "import sys\n",
    "import random as rand\n",
    "import time\n",
    "\n",
    "%load_ext autoreload\n",
    "%autoreload 2"
   ]
  },
  {
   "cell_type": "markdown",
   "id": "bc9aff5e-269b-4507-a095-e9b53de7e7e4",
   "metadata": {},
   "source": [
    "## ex 8.8.1 : Racine carrée"
   ]
  },
  {
   "cell_type": "code",
   "execution_count": 2,
   "id": "757b84d4-33d6-4721-8f80-fafb739aec30",
   "metadata": {},
   "outputs": [
    {
     "name": "stdout",
     "output_type": "stream",
     "text": [
      "10 3.162\n",
      "11 3.317\n",
      "12 3.464\n",
      "13 3.606\n",
      "14 3.742\n",
      "15 3.873\n",
      "16 4.000\n",
      "17 4.123\n",
      "18 4.243\n",
      "19 4.359\n",
      "20 4.472\n"
     ]
    }
   ],
   "source": [
    "for i in range(10, 21):\n",
    "    print(f\"{i} {math.sqrt(i):.3f}\")"
   ]
  },
  {
   "cell_type": "markdown",
   "id": "3dfe5f17-45fe-4d3c-baa5-cc017fc92b5e",
   "metadata": {},
   "source": [
    "## ex 8.8.2 : Cosinus"
   ]
  },
  {
   "cell_type": "code",
   "execution_count": 3,
   "id": "ea97d981-f123-48e1-8659-966436baaf10",
   "metadata": {},
   "outputs": [
    {
     "name": "stdout",
     "output_type": "stream",
     "text": [
      "6.123233995736766e-17\n"
     ]
    }
   ],
   "source": [
    "print(math.cos(math.pi/2))"
   ]
  },
  {
   "cell_type": "markdown",
   "id": "067d6aef-778d-433f-823d-85183b664deb",
   "metadata": {},
   "source": [
    "## ex 8.8.3 : Nom et contenu du répertoire courrant"
   ]
  },
  {
   "cell_type": "code",
   "execution_count": 4,
   "id": "5d5b7490-3b82-48a7-9016-f5848302db62",
   "metadata": {},
   "outputs": [
    {
     "name": "stdout",
     "output_type": "stream",
     "text": [
      "/Users/william/cours_master/M1-IPFB/python2/TP\n",
      "['tp3_fichiers.ipynb', 'notes.txt', 'Untitled.ipynb', 'tp3_fonctions.ipynb', 'tp2_boucles.ipynb', 'exo_chap4.py', 'spirale.dat', 'tp2_tests.ipynb', 'exo_chap3.py', 'perc_GC.py', 'spirale.png', '.ipynb_checkpoints', 'tp3_modules.ipynb', 'notes2.txt', 'UBI4_SCerevisiae.fasta', 'tp4_.ipynb']\n"
     ]
    }
   ],
   "source": [
    "print(os.getcwd())\n",
    "print(os.listdir())"
   ]
  },
  {
   "cell_type": "markdown",
   "id": "0908d749-00ff-457b-a3a8-1a4862702179",
   "metadata": {},
   "source": [
    "# ex 8.8.4 : Affichage temporisé"
   ]
  },
  {
   "cell_type": "code",
   "execution_count": 5,
   "id": "ceeb9aa6-e1ac-4eb0-8910-8b73b95056b6",
   "metadata": {},
   "outputs": [
    {
     "name": "stdout",
     "output_type": "stream",
     "text": [
      "1\n",
      "2\n",
      "3\n",
      "4\n",
      "5\n",
      "6\n",
      "7\n",
      "8\n",
      "9\n",
      "10\n"
     ]
    }
   ],
   "source": [
    "for i in range(10):\n",
    "    print(i+1)\n",
    "    time.sleep(1)"
   ]
  },
  {
   "cell_type": "markdown",
   "id": "8b51cd50-aac5-41cc-b706-fb3c65e59178",
   "metadata": {},
   "source": [
    "## ex 8.8.5 : Séquences aléatoires de chiffres "
   ]
  },
  {
   "cell_type": "code",
   "execution_count": 6,
   "id": "f3fa1163-7152-4a9c-8ff4-7785c2bcefb6",
   "metadata": {},
   "outputs": [
    {
     "name": "stdout",
     "output_type": "stream",
     "text": [
      "[5, 2, 1, 2, 4, 2]\n"
     ]
    }
   ],
   "source": [
    "nb = []\n",
    "for i in range(6):\n",
    "    nb.append(rand.randint(1, 5))\n",
    "print(nb)"
   ]
  },
  {
   "cell_type": "markdown",
   "id": "f2128215-b30b-455b-a4a1-64bfaf09b4a4",
   "metadata": {},
   "source": [
    "## ex 8.8.6 : Séquences aléatoires d'ADN"
   ]
  },
  {
   "cell_type": "code",
   "execution_count": 7,
   "id": "86c8e5fc-b7d4-4096-a336-844735234386",
   "metadata": {},
   "outputs": [
    {
     "name": "stdout",
     "output_type": "stream",
     "text": [
      "CAAGCACGTCAGAACTCGTC\n"
     ]
    }
   ],
   "source": [
    "bases = [\"A\", \"T\", \"C\", \"G\"]\n",
    "seq = rand.choices(bases, k = 20)\n",
    "print(\"\".join(seq))"
   ]
  },
  {
   "cell_type": "markdown",
   "id": "cd0bd8af-1a27-4a76-b461-ec654b5ccacf",
   "metadata": {},
   "source": [
    "## ex 8.8.7 : Séquence aléatoires d'ADN avec argument"
   ]
  },
  {
   "cell_type": "code",
   "execution_count": 8,
   "id": "614da449-e9e0-4c68-83a8-b4cde1d59b09",
   "metadata": {},
   "outputs": [
    {
     "name": "stdin",
     "output_type": "stream",
     "text": [
      "entrer la longueur de la sequence d'ADN aléatoire (entier positf) :  25\n"
     ]
    },
    {
     "name": "stdout",
     "output_type": "stream",
     "text": [
      "TGATGCCCGACGCCTCAAAGGTACT\n"
     ]
    }
   ],
   "source": [
    "nb_bases = int(input(\"entrer la longueur de la sequence d'ADN aléatoire \"\n",
    "                     \"(entier positf) : \"))\n",
    "bases = [\"A\", \"T\", \"C\", \"G\"]\n",
    "seq = rand.choices(bases, k = nb_bases)\n",
    "print(\"\".join(seq))"
   ]
  },
  {
   "cell_type": "markdown",
   "id": "435dedac-938c-4986-a335-50e066e33278",
   "metadata": {},
   "source": [
    "## ex 8.8.8 : Compteur de lignes\n",
    "### Méthode 1 :"
   ]
  },
  {
   "cell_type": "code",
   "execution_count": 9,
   "id": "c36871a0-7632-41e1-bbed-289af83936b6",
   "metadata": {},
   "outputs": [
    {
     "name": "stdout",
     "output_type": "stream",
     "text": [
      "spirale.dat contient 126\n"
     ]
    }
   ],
   "source": [
    "file_name = \"spirale.dat\"\n",
    "nb_lignes = 0\n",
    "if not os.path.exists(file_name):\n",
    "    sys.exit(f\"{file_name} don't exist\")\n",
    "\n",
    "with open(file_name, \"r\") as filin:\n",
    "    for ligne in filin:\n",
    "        nb_lignes += 1\n",
    "print(f\"{file_name} contient {nb_lignes}\")"
   ]
  },
  {
   "cell_type": "markdown",
   "id": "bbe6d32b-640f-46be-9aa8-bc667ac58bf4",
   "metadata": {},
   "source": [
    "### Méthode 2 : utilisation de la _magic command_ des notebooks"
   ]
  },
  {
   "cell_type": "code",
   "execution_count": 10,
   "id": "1eb48519-5478-4e03-a717-5db9311b128d",
   "metadata": {},
   "outputs": [
    {
     "name": "stdout",
     "output_type": "stream",
     "text": [
      "spirale.dat contient 126 lignes, 252 mots, 2772 caractères\n"
     ]
    }
   ],
   "source": [
    "file_name = \"spirale.dat\"\n",
    "wc_cmd = !wc $file_name\n",
    "wc_cmd = wc_cmd[0]\n",
    "wc_cmd = wc_cmd.split()\n",
    "nb_lignes = int(wc_cmd[0])\n",
    "nb_mots = int(wc_cmd[1])\n",
    "nb_caractères = int(wc_cmd[2])\n",
    "print(f\"{file_name} contient {nb_lignes} lignes, {nb_mots} mots, \"\n",
    "      f\"{nb_caractères} caractères\")"
   ]
  },
  {
   "cell_type": "markdown",
   "id": "545b779e-b607-4d64-a10a-bed971da9297",
   "metadata": {},
   "source": [
    "### Méthode 3 :  sans _magic command_ et avec le module subprocess"
   ]
  },
  {
   "cell_type": "code",
   "execution_count": 11,
   "id": "15dccd9b-60d5-49cb-92be-87833e521fca",
   "metadata": {},
   "outputs": [
    {
     "name": "stdout",
     "output_type": "stream",
     "text": [
      "spirale.dat contient 126 lignes, 252 mots, 2772 caractères\n"
     ]
    }
   ],
   "source": [
    "import subprocess\n",
    "\n",
    "\n",
    "file_name = \"spirale.dat\"\n",
    "wc_cmd = subprocess.check_output(['wc', file_name])\n",
    "wc_cmd = wc_cmd.decode()\n",
    "wc_cmd = wc_cmd.split()\n",
    "nb_lignes = int(wc_cmd[0])\n",
    "nb_mots = int(wc_cmd[1])\n",
    "nb_caractères = int(wc_cmd[2])\n",
    "print(f\"{file_name} contient {nb_lignes} lignes, {nb_mots} mots, \"\n",
    "      f\"{nb_caractères} caractères\") "
   ]
  },
  {
   "cell_type": "markdown",
   "id": "90edfd4e-7bf0-4174-a5ae-ffbb296fef47",
   "metadata": {},
   "source": [
    "## ex 8.8.9 : Détermination du nombre $\\pi$ par la méthode Monte carlo"
   ]
  },
  {
   "cell_type": "code",
   "execution_count": 12,
   "id": "417d71e7-1b68-4f29-955e-376c41858955",
   "metadata": {},
   "outputs": [
    {
     "name": "stdout",
     "output_type": "stream",
     "text": [
      "pi estimé : 3.144000000000\n",
      "pi réél :   3.141592653590\n"
     ]
    }
   ],
   "source": [
    "rayon = 1\n",
    "compteur = 10000\n",
    "n = 0\n",
    "for i in range(compteur):\n",
    "    x = rand.uniform(-1, 1)\n",
    "    y = rand.uniform(-1, 1)\n",
    "    dist = math.sqrt((x**2) + (y**2))\n",
    "    if dist <= rayon:\n",
    "        n += 1\n",
    "pi = 4*(n/compteur)\n",
    "print(f\"pi estimé : {pi:>.12f}\")\n",
    "print(f\"pi réél : {math.pi:>16.12f}\")\n",
    "    "
   ]
  }
 ],
 "metadata": {
  "kernelspec": {
   "display_name": "Python 3 (ipykernel)",
   "language": "python",
   "name": "python3"
  },
  "language_info": {
   "codemirror_mode": {
    "name": "ipython",
    "version": 3
   },
   "file_extension": ".py",
   "mimetype": "text/x-python",
   "name": "python",
   "nbconvert_exporter": "python",
   "pygments_lexer": "ipython3",
   "version": "3.7.9"
  }
 },
 "nbformat": 4,
 "nbformat_minor": 5
}
