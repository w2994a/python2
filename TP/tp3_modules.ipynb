{
 "cells": [
  {
   "cell_type": "markdown",
   "id": "222de9bf-0306-487a-845c-7399be04dd1d",
   "metadata": {},
   "source": [
    "# TP 3 : Modules"
   ]
  },
  {
   "cell_type": "code",
   "execution_count": 7,
   "id": "f2dc0de8-f3c2-41ae-8a80-c1c82ada734e",
   "metadata": {},
   "outputs": [],
   "source": [
    "import math\n",
    "import os\n",
    "import random as rand\n",
    "import time"
   ]
  },
  {
   "cell_type": "markdown",
   "id": "bc9aff5e-269b-4507-a095-e9b53de7e7e4",
   "metadata": {},
   "source": [
    "## ex 8.8.1 :"
   ]
  },
  {
   "cell_type": "code",
   "execution_count": 2,
   "id": "757b84d4-33d6-4721-8f80-fafb739aec30",
   "metadata": {},
   "outputs": [
    {
     "name": "stdout",
     "output_type": "stream",
     "text": [
      "10 3.162\n",
      "11 3.317\n",
      "12 3.464\n",
      "13 3.606\n",
      "14 3.742\n",
      "15 3.873\n",
      "16 4.000\n",
      "17 4.123\n",
      "18 4.243\n",
      "19 4.359\n",
      "20 4.472\n"
     ]
    }
   ],
   "source": [
    "for i in range(10, 21):\n",
    "    print(f\"{i} {math.sqrt(i):.3f}\")"
   ]
  },
  {
   "cell_type": "markdown",
   "id": "3dfe5f17-45fe-4d3c-baa5-cc017fc92b5e",
   "metadata": {},
   "source": [
    "## ex 8.8.2 :"
   ]
  },
  {
   "cell_type": "code",
   "execution_count": 3,
   "id": "ea97d981-f123-48e1-8659-966436baaf10",
   "metadata": {},
   "outputs": [
    {
     "name": "stdout",
     "output_type": "stream",
     "text": [
      "1.5707963267948966\n"
     ]
    }
   ],
   "source": [
    "print(math.pi/2)"
   ]
  },
  {
   "cell_type": "markdown",
   "id": "067d6aef-778d-433f-823d-85183b664deb",
   "metadata": {},
   "source": [
    "## ex 8.8.3 :"
   ]
  },
  {
   "cell_type": "code",
   "execution_count": 5,
   "id": "5d5b7490-3b82-48a7-9016-f5848302db62",
   "metadata": {},
   "outputs": [
    {
     "name": "stdout",
     "output_type": "stream",
     "text": [
      "/home/sdv/m1bi-ipfb/wamory/python2/TP\n",
      "['.ipynb_checkpoints', 'Untitled.ipynb', 'tp2_boucles.ipynb', 'perc_GC.py', 'exo_chap4.py', 'notes2.txt', 'notes.txt', 'exo_chap3.py', 'tp3_fichiers.ipynb', 'tp2_tests.ipynb']\n"
     ]
    }
   ],
   "source": [
    "print(os.getcwd())\n",
    "print(os.listdir())"
   ]
  },
  {
   "cell_type": "markdown",
   "id": "0908d749-00ff-457b-a3a8-1a4862702179",
   "metadata": {},
   "source": [
    "# ex 8.8.4 :"
   ]
  },
  {
   "cell_type": "code",
   "execution_count": 8,
   "id": "ceeb9aa6-e1ac-4eb0-8910-8b73b95056b6",
   "metadata": {},
   "outputs": [
    {
     "name": "stdout",
     "output_type": "stream",
     "text": [
      "1\n",
      "2\n",
      "3\n",
      "4\n",
      "5\n",
      "6\n",
      "7\n",
      "8\n",
      "9\n",
      "10\n"
     ]
    }
   ],
   "source": [
    "for i in range(10):\n",
    "    print(i+1)\n",
    "    time.sleep(1)"
   ]
  },
  {
   "cell_type": "code",
   "execution_count": 13,
   "id": "f3fa1163-7152-4a9c-8ff4-7785c2bcefb6",
   "metadata": {},
   "outputs": [
    {
     "name": "stdout",
     "output_type": "stream",
     "text": [
      "[2, 3, 1, 4, 2, 4]\n"
     ]
    }
   ],
   "source": [
    "nb = []\n",
    "for i in range(6):\n",
    "    nb.append(rand.randint(1, 5))\n",
    "print(nb)"
   ]
  },
  {
   "cell_type": "markdown",
   "id": "f2128215-b30b-455b-a4a1-64bfaf09b4a4",
   "metadata": {},
   "source": [
    "## ex 8.8.6 :"
   ]
  },
  {
   "cell_type": "code",
   "execution_count": 16,
   "id": "86c8e5fc-b7d4-4096-a336-844735234386",
   "metadata": {},
   "outputs": [
    {
     "name": "stdout",
     "output_type": "stream",
     "text": [
      "['G', 'G', 'C', 'A', 'T', 'G', 'G', 'G', 'G', 'T', 'T', 'T', 'G', 'C', 'C', 'T', 'T', 'T', 'G', 'C']\n"
     ]
    }
   ],
   "source": [
    "bases = [\"A\", \"T\", \"C\", \"G\"]\n",
    "seq = rand.choices(bases, k = 20)\n",
    "print(seq)"
   ]
  },
  {
   "cell_type": "markdown",
   "id": "cd0bd8af-1a27-4a76-b461-ec654b5ccacf",
   "metadata": {},
   "source": [
    "## ex 8.8.7 :"
   ]
  },
  {
   "cell_type": "code",
   "execution_count": 17,
   "id": "1ccb7504-41f4-4764-b775-35134b3b6b58",
   "metadata": {},
   "outputs": [],
   "source": [
    "# a refaire "
   ]
  },
  {
   "cell_type": "markdown",
   "id": "90edfd4e-7bf0-4174-a5ae-ffbb296fef47",
   "metadata": {},
   "source": [
    "## ex 8.8.9 :"
   ]
  },
  {
   "cell_type": "code",
   "execution_count": 31,
   "id": "417d71e7-1b68-4f29-955e-376c41858955",
   "metadata": {},
   "outputs": [
    {
     "name": "stdout",
     "output_type": "stream",
     "text": [
      "pi estimé : 3.142205600000\n",
      "pi réél :   3.141592653590\n"
     ]
    }
   ],
   "source": [
    "rayon = 1\n",
    "compteur = 10000\n",
    "n = 0\n",
    "for i in range(compteur):\n",
    "    x = rand.uniform(-1, 1)\n",
    "    y = rand.uniform(-1, 1)\n",
    "    dist = math.sqrt((x**2) + (y**2))\n",
    "    if dist <= rayon:\n",
    "        n += 1\n",
    "pi = 4*(n/compteur)\n",
    "print(f\"pi estimé : {pi:>.12f}\")\n",
    "print(f\"pi réél : {math.pi:>16.12f}\")\n",
    "    "
   ]
  },
  {
   "cell_type": "code",
   "execution_count": null,
   "id": "cd4d293a-800a-4cf7-8875-7cbb180b5da8",
   "metadata": {},
   "outputs": [],
   "source": []
  }
 ],
 "metadata": {
  "kernelspec": {
   "display_name": "Python 3 (ipykernel)",
   "language": "python",
   "name": "python3"
  },
  "language_info": {
   "codemirror_mode": {
    "name": "ipython",
    "version": 3
   },
   "file_extension": ".py",
   "mimetype": "text/x-python",
   "name": "python",
   "nbconvert_exporter": "python",
   "pygments_lexer": "ipython3",
   "version": "3.8.11"
  }
 },
 "nbformat": 4,
 "nbformat_minor": 5
}
