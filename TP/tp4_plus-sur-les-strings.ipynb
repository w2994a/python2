{
 "cells": [
  {
   "cell_type": "markdown",
   "id": "ebf64bd3",
   "metadata": {},
   "source": [
    "# TP Chapitre 10 : Plus sur les chaines de caractères"
   ]
  },
  {
   "cell_type": "code",
   "execution_count": 1,
   "id": "b7749da4",
   "metadata": {},
   "outputs": [],
   "source": [
    "import os\n",
    "import sys\n",
    "from urllib.request import urlretrieve\n",
    "\n",
    "%load_ext autoreload\n",
    "%autoreload 2"
   ]
  },
  {
   "cell_type": "markdown",
   "id": "7ddcede8",
   "metadata": {},
   "source": [
    "## Ex 10.8.1 : Parcours d'une liste de chaine de caractère"
   ]
  },
  {
   "cell_type": "code",
   "execution_count": 2,
   "id": "7c194159",
   "metadata": {},
   "outputs": [
    {
     "name": "stdout",
     "output_type": "stream",
     "text": [
      "girafe 6 caractères\n",
      "tigre 5 caractères\n",
      "singe 5 caractères\n",
      "souris 6 caractères\n"
     ]
    }
   ],
   "source": [
    "animaux = ['girafe', 'tigre', 'singe', 'souris']\n",
    "for animal in animaux:\n",
    "    print(f\"{animal} {len(animal)} caractères\")"
   ]
  },
  {
   "cell_type": "markdown",
   "id": "c87e0985",
   "metadata": {},
   "source": [
    "## Ex 10.8.2 : Lecture d'une séquence à partir d'un fichier FASTA"
   ]
  },
  {
   "cell_type": "code",
   "execution_count": 3,
   "id": "aa4c7b6a",
   "metadata": {},
   "outputs": [],
   "source": [
    "# Téléchargement du fichier UBI4_SCerevisiae.fasta s'il n'est pas présent dans\n",
    "# le répertoire courant.\n",
    "\n",
    "if not os.path.isfile('UBI4_SCerevisiae.fasta'):\n",
    "    print('Downloading the FASTA file for Saccharomyces cerevisiae...')\n",
    "    try:\n",
    "        urlretrieve(\"https://python.sdv.univ-paris-diderot.fr/data-files/\"\n",
    "                    \"UBI4_SCerevisiae.fasta\", \"UBI4_SCerevisiae.fasta\")\n",
    "    except:\n",
    "        print(\"Unable to download the file!\")\n",
    "    print('Done!')"
   ]
  },
  {
   "cell_type": "code",
   "execution_count": 4,
   "id": "1737bcae",
   "metadata": {},
   "outputs": [
    {
     "name": "stdout",
     "output_type": "stream",
     "text": [
      "UBI4_SCerevisiae.fasta\n",
      "La séquence contient 1146\n",
      "La longueur de la séquence est un multiple de 3 nucléotides\n",
      "La séquence possède 382 codons\n",
      "10 premières bases : ATGCAGATTTT\n",
      "10 dernières bases : GTGGTAACTGA\n"
     ]
    }
   ],
   "source": [
    "def lit_fasta(file_name):\n",
    "    if not os.path.exists(file_name):\n",
    "        sys.exit(f\"{file_name} does not exist.\")\n",
    "    seq = \"\"\n",
    "    with open(file_name, \"r\") as filin:\n",
    "        for line in filin:\n",
    "            if line.startswith(\">\"):\n",
    "                continue\n",
    "            seq += line.strip()\n",
    "    return seq\n",
    "\n",
    "\n",
    "file_name = \"UBI4_SCerevisiae.fasta\"\n",
    "seq = lit_fasta(file_name)\n",
    "print(file_name)\n",
    "print(f\"La séquence contient {len(seq)}\")\n",
    "if len(seq) % 3 == 0:\n",
    "    print(\"La longueur de la séquence est un multiple de 3 nucléotides\")\n",
    "else:\n",
    "    print(\"La longueur de la séquence n'est pas un multiple de 3 nucléotides\")\n",
    "print(f\"La séquence possède {int(len(seq)/3)} codons\")\n",
    "print(f\"10 premières bases : {seq[:11]}\")\n",
    "print(f\"10 dernières bases : {seq[-11:]}\")"
   ]
  },
  {
   "cell_type": "markdown",
   "id": "d5e39cc8",
   "metadata": {},
   "source": [
    "## Ex 10.8.3 : Fréquences des bases dans une séquence d'ADN"
   ]
  },
  {
   "cell_type": "code",
   "execution_count": 5,
   "id": "c8149f8e",
   "metadata": {},
   "outputs": [
    {
     "name": "stdout",
     "output_type": "stream",
     "text": [
      "fréquence A : 17.65\n",
      "fréquence C : 20.59\n",
      "fréquence T : 29.41\n",
      "fréquence G : 32.35\n"
     ]
    }
   ],
   "source": [
    "seq = \"ATATACGGATCGGCTGTTGCCTGCGTAGTAGCGT\"\n",
    "bases = [\"A\", \"C\", \"T\", \"G\"]\n",
    "for base in bases:\n",
    "    print(f\"fréquence {base} : {(seq.count(base)/len(seq))*100:.2f}\")"
   ]
  },
  {
   "cell_type": "markdown",
   "id": "418893b0",
   "metadata": {},
   "source": [
    "## 10.8.4 : Convertion des acides aminés du code trois lettres au code une lettre"
   ]
  },
  {
   "cell_type": "code",
   "execution_count": 6,
   "id": "d18ec690",
   "metadata": {},
   "outputs": [
    {
     "name": "stdout",
     "output_type": "stream",
     "text": [
      "AGERWYSGAW\n"
     ]
    }
   ],
   "source": [
    "code_aa = {\"ALA\" : \"A\",\n",
    "           \"ARG\" : \"R\",\n",
    "           \"ASN\" : \"N\",\n",
    "           \"ASP\" : \"D\",\n",
    "           \"CYS\" : \"C\",\n",
    "           \"GLU\" : \"E\",\n",
    "           \"GLN\" : \"Q\",\n",
    "           \"GLY\" : \"G\",\n",
    "           \"HIT\" : \"H\",\n",
    "           \"ILE\" : \"I\",\n",
    "           \"LEU\" : \"L\",\n",
    "           \"LYS\" : \"K\",\n",
    "           \"MET\" : \"M\",\n",
    "           \"PHE\" : \"F\",\n",
    "           \"PRO\" : \"P\",\n",
    "           \"SER\" : \"S\",\n",
    "           \"THR\" : \"T\",\n",
    "           \"TYR\" : \"Y\",\n",
    "           \"TRP\" : \"W\",\n",
    "           \"VAL\" : \"V\"}\n",
    "seq = \"ALA GLY GLU ARG TRP TYR SER GLY ALA TRP\"\n",
    "\n",
    "def convert_3_lettres_1_lettre(seq):\n",
    "    seq_1_lettre = []\n",
    "    seq = seq.split()\n",
    "    for aa in seq:\n",
    "        seq_1_lettre.append(code_aa[aa])\n",
    "    return \"\".join(seq_1_lettre)\n",
    "\n",
    "\n",
    "seq_1_lettre = convert_3_lettres_1_lettre(seq)\n",
    "print(seq_1_lettre)"
   ]
  },
  {
   "cell_type": "markdown",
   "id": "58678e46",
   "metadata": {},
   "source": [
    "## Ex 10.8.5 : Distance de Hamming"
   ]
  },
  {
   "cell_type": "code",
   "execution_count": 7,
   "id": "936fb39f",
   "metadata": {},
   "outputs": [
    {
     "name": "stdout",
     "output_type": "stream",
     "text": [
      "3\n",
      "4\n"
     ]
    }
   ],
   "source": [
    "def dist_hamming(seq_a, seq_b):\n",
    "    count = 0\n",
    "    if len(seq_a) != len(seq_b):\n",
    "        print(\"Les deux sequence ne sont pas de même longueur\")\n",
    "    for i in range(len(seq_a)):\n",
    "        if seq_a[i] != seq_b[i]:\n",
    "            count += 1\n",
    "    return count\n",
    "\n",
    "print(dist_hamming(\"AGWPSGGASAGLAIL\" ,\"IGWPSAGASAGLWIL\"))\n",
    "print(dist_hamming(\"ATTCATACGTTACGATT\", \"ATACTTACGTAACCATT\"))"
   ]
  },
  {
   "cell_type": "markdown",
   "id": "beef321e",
   "metadata": {},
   "source": [
    "## Ex 10.8.6 : Palindrome"
   ]
  },
  {
   "cell_type": "code",
   "execution_count": 8,
   "id": "df981cc2",
   "metadata": {},
   "outputs": [],
   "source": [
    "def test_palindrome(chaine):\n",
    "    chaine2 = chaine.lower()\n",
    "    chaine2 = chaine2.replace(\" \", \"\")\n",
    "    reverse_string = chaine2[::-1]\n",
    "    flag = 0\n",
    "    for i in range(len(chaine2)):\n",
    "        if chaine2[i] != reverse_string[i]:\n",
    "            flag = 1\n",
    "            break\n",
    "    if flag != 0:\n",
    "        print(f\"{chaine} n'est pas un palindrome\")\n",
    "    else:\n",
    "        print(f\"{chaine} est un palindrome\")"
   ]
  },
  {
   "cell_type": "code",
   "execution_count": 9,
   "id": "ad84a517",
   "metadata": {},
   "outputs": [
    {
     "name": "stdout",
     "output_type": "stream",
     "text": [
      "ressasser est un palindrome\n",
      "engage le jeu que je le gagne est un palindrome\n",
      "\n",
      "\n",
      "radar est un palindrome\n",
      "never odd or even est un palindrome\n",
      "karine alla en Iran n'est pas un palindrome\n",
      "un roc si biscornu est un palindrome\n"
     ]
    }
   ],
   "source": [
    "test_palindrome(\"ressasser\")\n",
    "test_palindrome(\"engage le jeu que je le gagne\")\n",
    "print(\"\\n\")\n",
    "test_palindrome(\"radar\")\n",
    "test_palindrome(\"never odd or even\")\n",
    "test_palindrome(\"karine alla en Iran\")\n",
    "test_palindrome(\"un roc si biscornu\")"
   ]
  },
  {
   "cell_type": "markdown",
   "id": "db45052f",
   "metadata": {},
   "source": [
    "## Ex 10.8.7 : Mot composable"
   ]
  },
  {
   "cell_type": "code",
   "execution_count": 10,
   "id": "77f62f9d",
   "metadata": {},
   "outputs": [],
   "source": [
    "def test_composable(mot, seq_lettres):\n",
    "    mot2 = mot.lower()\n",
    "    seq_lettres2 = seq_lettres.lower()\n",
    "    set_lettres = set(mot2)\n",
    "    flag = 0\n",
    "    for lettre in set_lettres:\n",
    "        if mot2.count(lettre) > seq_lettres2.count(lettre):\n",
    "            flag = 1\n",
    "            break\n",
    "        else:\n",
    "            continue\n",
    "    if flag != 0:\n",
    "        print(f\"Le mot {mot} n'est pas composable à partir de {seq_lettres}\")\n",
    "    else:\n",
    "        print(f\"Le mot {mot} est composable à partir de {seq_lettres}\")"
   ]
  },
  {
   "cell_type": "code",
   "execution_count": 11,
   "id": "30e53a8e",
   "metadata": {},
   "outputs": [
    {
     "name": "stdout",
     "output_type": "stream",
     "text": [
      "Le mot python est composable à partir de aophrtkny\n",
      "Le mot python n'est pas composable à partir de aeiouyhpq\n",
      "Le mot coucou est composable à partir de uocuoceokzezh\n",
      "Le mot fonction est composable à partir de nhwfnitvkloco\n"
     ]
    }
   ],
   "source": [
    "test_composable(\"python\", \"aophrtkny\")\n",
    "test_composable(\"python\", \"aeiouyhpq\")\n",
    "test_composable(\"coucou\", \"uocuoceokzezh\")\n",
    "test_composable(\"fonction\", \"nhwfnitvkloco\")"
   ]
  },
  {
   "cell_type": "markdown",
   "id": "a5baa5bd",
   "metadata": {},
   "source": [
    "## Ex 10.8.8 : Alphabet et pangramme"
   ]
  },
  {
   "cell_type": "code",
   "execution_count": 12,
   "id": "12712738",
   "metadata": {},
   "outputs": [],
   "source": [
    "def get_alphabet():\n",
    "    alphabet = \"\"\n",
    "    for i in range(97, 123):\n",
    "        alphabet += chr(i)\n",
    "    return alphabet\n",
    "\n",
    "\n",
    "def pangramme(phrase):\n",
    "    alphabet = get_alphabet()\n",
    "    tmp_phrase = phrase.replace(\" \", \"\")\n",
    "    tmp_phrase = tmp_phrase.lower()\n",
    "    set_phrase = set(tmp_phrase)\n",
    "    if len(set_phrase) != len(alphabet):\n",
    "        print(f\"{phrase} n'est pas un pangramme\")\n",
    "    else:\n",
    "        print(f\"{phrase} est un pangramme\")"
   ]
  },
  {
   "cell_type": "code",
   "execution_count": 71,
   "id": "1258855e",
   "metadata": {},
   "outputs": [],
   "source": [
    "def get_alphabet():\n",
    "    alphabet = \"\"\n",
    "    for i in range(97, 123):\n",
    "        alphabet += chr(i)\n",
    "    return alphabet\n",
    "\n",
    "\n",
    "def pangramme(phrase):\n",
    "    phrase2 = phrase.replace(\" \", \"\")\n",
    "    phrase2 = phrase2.lower()\n",
    "    phrase2 = set(phrase2)\n",
    "    phrase2 = \"\".join(phrase2)\n",
    "    alphabet = get_alphabet()\n",
    "    print(alphabet)\n",
    "    print(\"\".join(sorted(phrase2)))\n",
    "    if len(phrase2) != len(alphabet):\n",
    "        print(f\"{phrase} n'est pas un pangramme\")\n",
    "    else:\n",
    "        print(f\"{phrase} est un pangramme\")"
   ]
  },
  {
   "cell_type": "code",
   "execution_count": 13,
   "id": "5dee1470",
   "metadata": {},
   "outputs": [
    {
     "name": "stdout",
     "output_type": "stream",
     "text": [
      "Portez ce vieux whisky au juge blond qui fume est un pangramme\n",
      "Monsieur Jack vous dactylographiez bien mieux que votre ami Wolf est un pangramme\n",
      "Buvez de ce whisky que le patron juge fameux est un pangramme\n"
     ]
    }
   ],
   "source": [
    "pangramme(\"Portez ce vieux whisky au juge blond qui fume\")\n",
    "pangramme(\"Monsieur Jack vous dactylographiez bien mieux que votre ami Wolf\")\n",
    "pangramme(\"Buvez de ce whisky que le patron juge fameux\")"
   ]
  },
  {
   "cell_type": "markdown",
   "id": "0807a266",
   "metadata": {},
   "source": [
    "## Ex 10.8.9 : Lecture d'une séquence à partir d'un fichier GenBank"
   ]
  },
  {
   "cell_type": "code",
   "execution_count": 15,
   "id": "ae7eebed",
   "metadata": {},
   "outputs": [],
   "source": [
    "# Téléchargement du fichier NC_001133.gbk s'il n'est pas présent dans\n",
    "# le répertoire courant.\n",
    "\n",
    "if not os.path.isfile('NC_001133.gbk'):\n",
    "    print('Downloading the GenBank file for Saccharomyces cerevisiae...')\n",
    "    try:\n",
    "        urlretrieve(\"https://python.sdv.univ-paris-diderot.fr/data-files/\"\n",
    "                    \"NC_001133.gbk\", \"NC_001133.gbk\")\n",
    "    except:\n",
    "        print(\"Unable to download the file!\")\n",
    "    print('Done!')"
   ]
  },
  {
   "cell_type": "code",
   "execution_count": 16,
   "id": "c1dd6bb2",
   "metadata": {},
   "outputs": [
    {
     "name": "stdout",
     "output_type": "stream",
     "text": [
      "NC_001133.gbk\n",
      "La séquence contient 230218\n",
      "10 premières bases : ccacaccacac\n",
      "10 dernières bases : gtgtgtgtggg\n"
     ]
    }
   ],
   "source": [
    "def lit_genbank(file_name):\n",
    "    if not os.path.exists(file_name):\n",
    "        sys.exit(f\"{file_name} don't exist\")\n",
    "    flag = False\n",
    "    seq = \"\"\n",
    "    with open(file_name, \"r\") as filin:\n",
    "        for line in filin:\n",
    "            if line.startswith(\"//\"):\n",
    "                flag = False\n",
    "            elif flag == True:\n",
    "                line = line.split()\n",
    "                seq += line[1] + line[2] + line[3] + line[4] + line[5] + line[6]\n",
    "            elif line.startswith(\"ORIGIN\"):\n",
    "                flag = True\n",
    "            \n",
    "    return seq\n",
    "\n",
    "\n",
    "file_name = \"NC_001133.gbk\"\n",
    "seq = lit_genbank(file_name)\n",
    "\n",
    "print(file_name)\n",
    "print(f\"La séquence contient {len(seq)}\")\n",
    "print(f\"10 premières bases : {seq[:11]}\")\n",
    "print(f\"10 dernières bases : {seq[-11:]}\")"
   ]
  },
  {
   "cell_type": "markdown",
   "id": "5f0c6d29",
   "metadata": {},
   "source": [
    "## Ex 10.8.10 : Affichage des carbones alpha d'un structure de protéine"
   ]
  },
  {
   "cell_type": "code",
   "execution_count": 17,
   "id": "53e657f2",
   "metadata": {},
   "outputs": [],
   "source": [
    "# Téléchargement du fichier 1BTA.pdb s'il n'est pas présent dans\n",
    "# le répertoire courant.\n",
    "\n",
    "if not os.path.isfile('1BTA.pdb'):\n",
    "    print('Downloading the PDB file for barstar protein...')\n",
    "    try:\n",
    "        urlretrieve(\"https://files.rcsb.org/download/1BTA.pdb\", \"1BTA.pdb\")\n",
    "    except:\n",
    "        print(\"Unable to download the file!\")\n",
    "    print('Done!')"
   ]
  },
  {
   "cell_type": "code",
   "execution_count": 18,
   "id": "027db22d",
   "metadata": {},
   "outputs": [
    {
     "name": "stdout",
     "output_type": "stream",
     "text": [
      "ATOM      2  CA  LYS A   1      -7.542   5.187   9.163  1.00  0.52           C  \n",
      "\n",
      "ATOM     26  CA  LYS A   2      -3.813   5.485   8.490  1.00  0.44           C  \n",
      "\n"
     ]
    }
   ],
   "source": [
    "def trouve_calpha(file_name):\n",
    "    if not os.path.exists(file_name):\n",
    "        sys.exit(f\"{file_name} don't exist\")\n",
    "    c_alpha = []\n",
    "    with open(file_name, \"r\") as filin:\n",
    "        for line in filin:\n",
    "            if line.startswith(\"ATOM\") and line[13:15] == \"CA\":\n",
    "                    c_alpha.append(line)\n",
    "    return c_alpha\n",
    "\n",
    "\n",
    "list_calpha = trouve_calpha(\"1BTA.pdb\")\n",
    "for i in range(2):\n",
    "    print(list_calpha[i])\n",
    "                "
   ]
  },
  {
   "cell_type": "code",
   "execution_count": 19,
   "id": "d414a01b",
   "metadata": {},
   "outputs": [
    {
     "data": {
      "text/plain": [
       "89"
      ]
     },
     "execution_count": 19,
     "metadata": {},
     "output_type": "execute_result"
    }
   ],
   "source": [
    "len(list_calpha)"
   ]
  },
  {
   "cell_type": "markdown",
   "id": "6d5aedc0",
   "metadata": {},
   "source": [
    "## Ex 10.8.11 : Calcul des distences entre les carbones alpha consécutifs d'une structure de protéine"
   ]
  },
  {
   "cell_type": "code",
   "execution_count": 20,
   "id": "c830042c",
   "metadata": {},
   "outputs": [
    {
     "name": "stdout",
     "output_type": "stream",
     "text": [
      "  1   2 3.80\n",
      "  2   3 3.80\n",
      "  3   4 3.83\n",
      "  4   5 3.82\n",
      "  5   6 3.81\n",
      "  6   7 3.83\n",
      "  7   8 3.82\n",
      "  8   9 3.82\n",
      "  9  10 3.83\n",
      " 10  11 3.80\n",
      " 11  12 3.82\n",
      " 12  13 3.81\n",
      " 13  14 3.81\n",
      " 14  15 3.81\n",
      " 15  16 3.81\n",
      " 16  17 3.80\n",
      " 17  18 3.80\n",
      " 18  19 3.80\n",
      " 19  20 3.81\n",
      " 20  21 3.80\n",
      " 21  22 3.81\n",
      " 22  23 3.80\n",
      " 23  24 3.80\n",
      " 24  25 3.82\n",
      " 25  26 3.82\n",
      " 26  27 3.81\n",
      " 27  28 3.82\n",
      " 28  29 3.82\n",
      " 29  30 3.84\n",
      " 30  31 3.84\n",
      " 31  32 3.85\n",
      " 32  33 3.85\n",
      " 33  34 3.82\n",
      " 34  35 3.80\n",
      " 35  36 3.81\n",
      " 36  37 3.78\n",
      " 37  38 3.77\n",
      " 38  39 3.77\n",
      " 39  40 3.80\n",
      " 40  41 3.83\n",
      " 41  42 3.82\n",
      " 42  43 3.83\n",
      " 43  44 3.82\n",
      " 44  45 3.81\n",
      " 45  46 3.82\n",
      " 46  47 3.81\n",
      " 47  48 2.87\n",
      " 48  49 3.83\n",
      " 49  50 3.80\n",
      " 50  51 3.81\n",
      " 51  52 3.79\n",
      " 52  53 3.79\n",
      " 53  54 3.81\n",
      " 54  55 3.82\n",
      " 55  56 3.82\n",
      " 56  57 3.83\n",
      " 57  58 3.81\n",
      " 58  59 3.82\n",
      " 59  60 3.81\n",
      " 60  61 3.82\n",
      " 61  62 3.84\n",
      " 62  63 3.81\n",
      " 63  64 3.84\n",
      " 64  65 3.82\n",
      " 65  66 3.82\n",
      " 66  67 3.83\n",
      " 67  68 3.81\n",
      " 68  69 3.84\n",
      " 69  70 3.82\n",
      " 70  71 3.80\n",
      " 71  72 3.81\n",
      " 72  73 3.78\n",
      " 73  74 3.83\n",
      " 74  75 3.82\n",
      " 75  76 3.79\n",
      " 76  77 3.79\n",
      " 77  78 3.80\n",
      " 78  79 3.78\n",
      " 79  80 3.81\n",
      " 80  81 3.82\n",
      " 81  82 3.81\n",
      " 82  83 3.82\n",
      " 83  84 3.83\n",
      " 84  85 3.84\n",
      " 85  86 3.82\n",
      " 86  87 3.82\n",
      " 87  88 3.83\n",
      " 88  89 3.83\n"
     ]
    }
   ],
   "source": [
    "def calcule_distance(list_c_alpha):\n",
    "    for i in range(1, len(list_c_alpha)):\n",
    "        atom1 = list_c_alpha[i-1][30:54].split()\n",
    "        atom2 = list_c_alpha[i][30:54].split()\n",
    "        dist = ((float(atom2[0]) - float(atom1[0]))**2 \\\n",
    "                 + (float(atom2[1]) - float(atom1[1]))**2 \\\n",
    "                 + (float(atom2[2]) - float(atom1[2]))**2)**(1/2)\n",
    "        print(f\"{i:>3d} {(i+1):>3d} {dist:.2f}\")\n",
    "    return\n",
    "\n",
    "calcule_distance(trouve_calpha(\"1BTA.pdb\"))"
   ]
  },
  {
   "cell_type": "markdown",
   "id": "d9ec1ab9",
   "metadata": {},
   "source": [
    "## Ex10.8.12 : Compteur de gène dans un fichier GenBank"
   ]
  },
  {
   "cell_type": "code",
   "execution_count": 21,
   "id": "43fe2dbe",
   "metadata": {},
   "outputs": [
    {
     "name": "stdout",
     "output_type": "stream",
     "text": [
      "gène   1 complémentaire ->   362 bases\n",
      "gène   2 direct         ->   227 bases\n",
      "gène   3 complémentaire ->  1781 bases\n",
      "gène   4 complémentaire ->   386 bases\n",
      "gène   5 direct         ->   380 bases\n",
      "gène   6 complémentaire ->   380 bases\n",
      "gène   7 direct         ->   284 bases\n",
      "gène   8 complémentaire ->   290 bases\n",
      "gène   9 complémentaire ->  3968 bases\n",
      "gène  10 direct         ->  1373 bases\n",
      "gène  11 direct         ->  1253 bases\n",
      "gène  12 direct         ->  1148 bases\n",
      "gène  13 direct         ->   638 bases\n",
      "gène  14 direct         ->  1508 bases\n",
      "gène  15 direct         ->  2642 bases\n",
      "gène  16 direct         ->   542 bases\n",
      "gène  17 complémentaire ->  2141 bases\n",
      "gène  18 direct         ->  2351 bases\n",
      "gène  19 direct         ->  3143 bases\n",
      "gène  20 complémentaire ->   740 bases\n",
      "gène  21 complémentaire ->  1988 bases\n",
      "gène  22 complémentaire ->  1868 bases\n",
      "gène  23 complémentaire ->   356 bases\n",
      "gène  24 direct         ->   332 bases\n",
      "gène  25 complémentaire ->   512 bases\n",
      "gène  26 complémentaire ->  2357 bases\n",
      "gène  27 direct         ->  1247 bases\n",
      "gène  28 direct         ->  2564 bases\n",
      "gène  29 complémentaire ->  1742 bases\n",
      "gène  30 complémentaire ->   809 bases\n",
      "gène  31 direct         ->  1502 bases\n",
      "gène  32 complémentaire ->    92 bases\n",
      "gène  33 direct         ->   803 bases\n",
      "gène  34 complémentaire ->  1109 bases\n",
      "gène  35 direct         ->  3008 bases\n",
      "gène  36 direct         ->   869 bases\n",
      "gène  37 complémentaire ->  1241 bases\n",
      "gène  38 direct         ->   521 bases\n",
      "gène  39 complémentaire ->  1139 bases\n",
      "gène  40 complémentaire ->  2282 bases\n",
      "gène  41 direct         ->   466 bases\n",
      "gène  42 complémentaire ->  4415 bases\n",
      "gène  43 direct         ->  1586 bases\n",
      "gène  44 direct         ->   785 bases\n",
      "gène  45 complémentaire ->  4067 bases\n",
      "gène  46 direct         ->   563 bases\n",
      "gène  47 complémentaire ->   920 bases\n",
      "gène  48 complémentaire ->  4307 bases\n",
      "gène  49 complémentaire ->  2279 bases\n",
      "gène  50 complémentaire ->  1553 bases\n",
      "gène  51 complémentaire ->  2513 bases\n",
      "gène  52 complémentaire ->  1001 bases\n",
      "gène  53 direct         ->  3395 bases\n",
      "gène  54 complémentaire ->   977 bases\n",
      "gène  55 direct         ->  4070 bases\n",
      "gène  56 direct         ->  1907 bases\n",
      "gène  57 complémentaire ->  1199 bases\n",
      "gène  58 complémentaire ->   767 bases\n",
      "gène  59 direct         ->  1217 bases\n",
      "gène  60 direct         ->  1184 bases\n",
      "gène  61 direct         ->  1877 bases\n",
      "gène  62 complémentaire ->  1481 bases\n",
      "gène  63 direct         ->   779 bases\n",
      "gène  64 direct         ->   596 bases\n",
      "gène  65 complémentaire ->   647 bases\n",
      "gène  66 direct         ->   102 bases\n",
      "gène  67 complémentaire ->  1928 bases\n",
      "gène  68 direct         ->   986 bases\n",
      "gène  69 direct         ->   101 bases\n",
      "gène  70 direct         ->  3824 bases\n",
      "gène  71 complémentaire ->  3572 bases\n",
      "gène  72 direct         ->  1619 bases\n",
      "gène  73 complémentaire ->   659 bases\n",
      "gène  74 direct         ->  1280 bases\n",
      "gène  75 complémentaire ->  1865 bases\n",
      "gène  76 direct         ->   827 bases\n",
      "gène  77 complémentaire ->  3590 bases\n",
      "gène  78 complémentaire ->  1322 bases\n",
      "gène  79 direct         ->    72 bases\n",
      "gène  80 complémentaire ->  2129 bases\n",
      "gène  81 direct         ->   920 bases\n",
      "gène  82 complémentaire ->  1307 bases\n",
      "gène  83 complémentaire ->  2924 bases\n",
      "gène  84 complémentaire ->   167 bases\n",
      "gène  85 complémentaire ->   539 bases\n",
      "gène  86 direct         ->   113 bases\n",
      "gène  87 complémentaire ->    81 bases\n",
      "gène  88 direct         ->   707 bases\n",
      "gène  89 direct         ->   704 bases\n",
      "gène  90 direct         ->   224 bases\n",
      "gène  91 direct         ->   896 bases\n",
      "gène  92 direct         ->   704 bases\n",
      "gène  93 direct         ->  2063 bases\n",
      "gène  94 complémentaire ->    80 bases\n",
      "gène  95 direct         ->  3566 bases\n",
      "gène  96 direct         ->  4613 bases\n",
      "gène  97 direct         ->  1005 bases\n",
      "gène  98 direct         ->   299 bases\n",
      "gène  99 direct         ->   611 bases\n",
      "gène 100 direct         ->   485 bases\n",
      "gène 101 direct         ->  1403 bases\n"
     ]
    }
   ],
   "source": [
    "def compteur_gene(file_name):\n",
    "    if not os.path.exists(file_name):\n",
    "        sys.exit(f\"{file_name} don't exist\")\n",
    "    with open(file_name) as filin:\n",
    "        nb_gene = 0\n",
    "        for line in filin:\n",
    "            line = line.strip()\n",
    "            if line.startswith(\"gene  \"):\n",
    "                if \"complement\" in line:\n",
    "                    nb_gene += 1\n",
    "                    tmp_line = line.replace(\"complement\", \"\").replace(\"gene\", \"\").strip()\n",
    "                    tmp_line = tmp_line.replace(\"<\", \"\").replace(\">\", \"\")\n",
    "                    debut, fin = tmp_line.replace(\"(\", \"\").replace(\")\", \"\").split(\"..\")\n",
    "                    debut, fin = int(debut), int(fin)\n",
    "                    nb_bases = fin - debut\n",
    "                    brin = \"complémentaire\"\n",
    "                    print(f\"gène {nb_gene:>3d} {brin:<14s} -> {nb_bases:>5d} bases\")\n",
    "                else:\n",
    "                    nb_gene += 1\n",
    "                    tmp_line = line.replace(\"gene\", \"\").strip()\n",
    "                    tmp_line = tmp_line.replace(\"<\", \"\").replace(\">\", \"\")\n",
    "                    debut, fin = tmp_line.split(\"..\")\n",
    "                    debut, fin = int(debut), int(fin)\n",
    "                    nb_bases = fin - debut\n",
    "                    brin = \"direct\"\n",
    "                    print(f\"gène {nb_gene:>3d} {brin:<14s} -> {nb_bases:>5d} bases\")\n",
    "    return\n",
    "\n",
    "\n",
    "compteur_gene(\"NC_001133.gbk\")"
   ]
  }
 ],
 "metadata": {
  "kernelspec": {
   "display_name": "Python 3 (ipykernel)",
   "language": "python",
   "name": "python3"
  },
  "language_info": {
   "codemirror_mode": {
    "name": "ipython",
    "version": 3
   },
   "file_extension": ".py",
   "mimetype": "text/x-python",
   "name": "python",
   "nbconvert_exporter": "python",
   "pygments_lexer": "ipython3",
   "version": "3.7.9"
  }
 },
 "nbformat": 4,
 "nbformat_minor": 5
}
