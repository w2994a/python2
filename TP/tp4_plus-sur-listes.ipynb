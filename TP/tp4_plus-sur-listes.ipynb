{
 "cells": [
  {
   "cell_type": "markdown",
   "id": "b603e89b",
   "metadata": {},
   "source": [
    "# TP Chapitre 11 : Plus sur les listes"
   ]
  },
  {
   "cell_type": "code",
   "execution_count": 1,
   "id": "bb73277e",
   "metadata": {},
   "outputs": [],
   "source": [
    "import random\n",
    "\n",
    "%load_ext autoreload\n",
    "%autoreload 2"
   ]
  },
  {
   "cell_type": "markdown",
   "id": "f8e6e69f",
   "metadata": {},
   "source": [
    "# Ex 11.6.1 : Trie de liste"
   ]
  },
  {
   "cell_type": "code",
   "execution_count": 2,
   "id": "162e15a6",
   "metadata": {},
   "outputs": [
    {
     "name": "stdout",
     "output_type": "stream",
     "text": [
      "[1, 3, 8, 12.5, 25.5, 45, 52]\n"
     ]
    }
   ],
   "source": [
    "def trie_liste(list_nombre):\n",
    "    list_trie = []\n",
    "    while len(list_nombre) != 0:\n",
    "        minimum = min(list_nombre)\n",
    "        list_trie.append(minimum)\n",
    "        list_nombre.remove(minimum)\n",
    "    return list_trie\n",
    "\n",
    "\n",
    "nombres = [8, 3, 12.5, 45, 25.5, 52, 1]\n",
    "nombres_trie = trie_liste(nombres)\n",
    "print(nombres_trie)"
   ]
  },
  {
   "cell_type": "markdown",
   "id": "e52dd516",
   "metadata": {},
   "source": [
    "## Ex 11.6.2 : Séquence d'ADN aléatoire"
   ]
  },
  {
   "cell_type": "code",
   "execution_count": 3,
   "id": "b1825841",
   "metadata": {},
   "outputs": [
    {
     "name": "stdout",
     "output_type": "stream",
     "text": [
      "['G', 'T', 'C', 'G', 'T', 'T', 'T', 'T', 'C', 'C', 'A', 'G', 'C', 'A', 'A']\n"
     ]
    }
   ],
   "source": [
    "def seq_alea(taille):\n",
    "    bases = [\"A\", \"T\", \"C\", \"G\"]\n",
    "    seq_adn = random.choices(bases, k=taille)\n",
    "    return seq_adn\n",
    "\n",
    "\n",
    "seq_adn = seq_alea(15)\n",
    "print(seq_adn)"
   ]
  },
  {
   "cell_type": "markdown",
   "id": "37a03b89",
   "metadata": {},
   "source": [
    "## Ex 11.6.3 : Séquence d'ADN complémentaire inverse"
   ]
  },
  {
   "cell_type": "code",
   "execution_count": 4,
   "id": "e1302ec7",
   "metadata": {},
   "outputs": [
    {
     "name": "stdout",
     "output_type": "stream",
     "text": [
      "Sequence ADN :                    TCTGTTAACCATCCACTTCG\n",
      "Séquence complémentaire inverse : CGAAGTGGATGGTTAACAGA\n"
     ]
    }
   ],
   "source": [
    "def comp_inv(seq_adn):\n",
    "    seq_comp = seq_adn[::-1].upper()\n",
    "    seq_comp = seq_comp.replace(\"A\", \"t\").replace(\"T\", \"a\")\n",
    "    seq_comp = seq_comp.replace(\"C\", \"g\").replace(\"G\", \"c\")\n",
    "    return seq_comp.upper()\n",
    "\n",
    "\n",
    "seq_adn = \"TCTGTTAACCATCCACTTCG\"\n",
    "seq_comp_inv = comp_inv(seq_adn)\n",
    "print(f\"Sequence ADN : {seq_adn:>39s}\")\n",
    "print(f\"Séquence complémentaire inverse : {seq_comp_inv}\")"
   ]
  },
  {
   "cell_type": "markdown",
   "id": "42ed56c0",
   "metadata": {},
   "source": [
    "## Ex 11.6.4 : Doublons"
   ]
  },
  {
   "cell_type": "code",
   "execution_count": 5,
   "id": "85209aee",
   "metadata": {},
   "outputs": [
    {
     "name": "stdout",
     "output_type": "stream",
     "text": [
      "[1, 2, 3, 4, 5, 6]\n"
     ]
    }
   ],
   "source": [
    "def remove_doublons(nb_list):\n",
    "    nb_list_no_doublons = sorted(set(nb_list))\n",
    "    return nb_list_no_doublons\n",
    "\n",
    "\n",
    "nombre_list = [5, 1, 1, 2, 5, 6, 3, 4, 4, 4, 2]\n",
    "nombre_list_no_doublons = remove_doublons(nombre_list)\n",
    "print(nombre_list_no_doublons)"
   ]
  },
  {
   "cell_type": "markdown",
   "id": "9ed5d8c4",
   "metadata": {},
   "source": [
    "## Ex 11.6.5 : Séquence d'ADN aléatoire 2"
   ]
  },
  {
   "cell_type": "code",
   "execution_count": 6,
   "id": "22be96e6",
   "metadata": {},
   "outputs": [
    {
     "name": "stdout",
     "output_type": "stream",
     "text": [
      "Séquence d'ADN aléatoire : ACCCCATGCCCGTCTCTGTCGTCCACTCCTCCTTCCTCCACTTGCCCTATGACTCCT\n",
      "pourcentage de A : 10.53 %\n",
      "pourcentage de T : 29.82 %\n",
      "pourcentage de C : 49.12 %\n",
      "pourcentage de G : 10.53 %\n",
      "Longeur de la séquence : 57\n"
     ]
    }
   ],
   "source": [
    "def seq_alea_2(taille, pa, pt, pc, pg):\n",
    "    seq = (\"A\" * round(taille*pa) + \"T\" * round(taille*pt) +\n",
    "           \"C\" * round(taille*pc) + \"G\" * round(taille*pg))\n",
    "    seq = list(seq)\n",
    "    random.shuffle(seq)\n",
    "    return \"\".join(seq)\n",
    "\n",
    "\n",
    "seq_adn = seq_alea_2(57, 0.1, 0.3, 0.5, 0.1)\n",
    "print(f\"Séquence d'ADN aléatoire : {seq_adn}\")\n",
    "print(f\"pourcentage de A : {(seq_adn.count('A') / len(seq_adn))*100:.2f} %\")\n",
    "print(f\"pourcentage de T : {(seq_adn.count('T') / len(seq_adn))*100:.2f} %\")\n",
    "print(f\"pourcentage de C : {(seq_adn.count('C') / len(seq_adn))*100:.2f} %\")\n",
    "print(f\"pourcentage de G : {(seq_adn.count('G') / len(seq_adn))*100:.2f} %\")\n",
    "print(f\"Longeur de la séquence : {len(seq_adn)}\")"
   ]
  },
  {
   "cell_type": "markdown",
   "id": "1ecaabee",
   "metadata": {},
   "source": [
    "## Ex 11.6.6. Le nombre mystère"
   ]
  },
  {
   "cell_type": "code",
   "execution_count": 7,
   "id": "b04f79c9",
   "metadata": {},
   "outputs": [
    {
     "name": "stdout",
     "output_type": "stream",
     "text": [
      "Le nombre mystère est : 232\n"
     ]
    }
   ],
   "source": [
    "for i in range(100, 300, 2):\n",
    "    i_str = str(i)\n",
    "    condition1 = int(i_str[0]) + int(i_str[1]) + int(i_str[2])\n",
    "    condition2 = (i_str.count(i_str[0]) == 2 or\n",
    "                  i_str.count(i_str[1]) == 2 or\n",
    "                  i_str.count(i_str[2]) == 2)\n",
    "    if condition1 == 7 and condition2 == True:\n",
    "        print(f\"Le nombre mystère est : {i}\")"
   ]
  },
  {
   "cell_type": "markdown",
   "id": "6a4f4d71",
   "metadata": {},
   "source": [
    "## Ex 11.6.7 : Triangle de Pascal"
   ]
  },
  {
   "cell_type": "code",
   "execution_count": 8,
   "id": "a2ee646e",
   "metadata": {},
   "outputs": [],
   "source": [
    "def build_triangle_pascal(nb_lignes):\n",
    "    pascal = [[1], [1, 1]]\n",
    "    for i in range(2, nb_lignes):\n",
    "        line = [1]\n",
    "        for j in range(1, i):\n",
    "            line.append(pascal[i-1][j-1] + pascal[i-1][j])\n",
    "        line.append(1)\n",
    "        pascal.append(line)\n",
    "    return pascal"
   ]
  },
  {
   "cell_type": "code",
   "execution_count": 9,
   "id": "e4b864dc",
   "metadata": {},
   "outputs": [],
   "source": [
    "def write_triangle_pascal(nb_lignes):\n",
    "    triangle_pascal = build_triangle_pascal(nb_lignes)\n",
    "    with open(\"pascal.out\", \"w\") as filout:\n",
    "        for line in triangle_pascal:\n",
    "            for item in line:\n",
    "                filout.write(f\"{item:>3d} \")\n",
    "            filout.write(\"\\n\")\n",
    "    return"
   ]
  },
  {
   "cell_type": "code",
   "execution_count": 10,
   "id": "06f24b6e-dfd7-47be-9360-4ab0211eb593",
   "metadata": {},
   "outputs": [],
   "source": [
    "write_triangle_pascal(10)"
   ]
  }
 ],
 "metadata": {
  "kernelspec": {
   "display_name": "Python 3 (ipykernel)",
   "language": "python",
   "name": "python3"
  },
  "language_info": {
   "codemirror_mode": {
    "name": "ipython",
    "version": 3
   },
   "file_extension": ".py",
   "mimetype": "text/x-python",
   "name": "python",
   "nbconvert_exporter": "python",
   "pygments_lexer": "ipython3",
   "version": "3.7.9"
  }
 },
 "nbformat": 4,
 "nbformat_minor": 5
}
