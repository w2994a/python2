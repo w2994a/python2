{
 "cells": [
  {
   "cell_type": "markdown",
   "id": "29751dff-9463-4ff5-8b5e-6dc142b833b9",
   "metadata": {},
   "source": [
    "# TP2 : Boucles et comparaisons\n",
    "## ex 5.4.1 : boucles de base"
   ]
  },
  {
   "cell_type": "code",
   "execution_count": 65,
   "id": "fcb4a046-e9e9-46a1-9791-351e518e81cd",
   "metadata": {},
   "outputs": [],
   "source": [
    "import random"
   ]
  },
  {
   "cell_type": "code",
   "execution_count": 4,
   "id": "3f15a863-5344-42d4-bf1b-e82658a0890f",
   "metadata": {},
   "outputs": [
    {
     "name": "stdout",
     "output_type": "stream",
     "text": [
      "vache\n",
      "souris\n",
      "levure\n",
      "bacterie\n"
     ]
    }
   ],
   "source": [
    "eucar = [\"vache\", \"souris\", \"levure\", \"bacterie\"]\n",
    "for indiv in eucar:\n",
    "    print(indiv)"
   ]
  },
  {
   "cell_type": "code",
   "execution_count": 5,
   "id": "aa10018d-9859-4579-9654-6a20aa90d031",
   "metadata": {},
   "outputs": [
    {
     "name": "stdout",
     "output_type": "stream",
     "text": [
      "vache\n",
      "souris\n",
      "levure\n",
      "bacterie\n"
     ]
    }
   ],
   "source": [
    "for i in range(len(eucar)):\n",
    "    print(eucar[i])"
   ]
  },
  {
   "cell_type": "code",
   "execution_count": 8,
   "id": "0e6e5465-362b-4fb6-9d31-59b6b70fc3a8",
   "metadata": {},
   "outputs": [
    {
     "name": "stdout",
     "output_type": "stream",
     "text": [
      "vache\n",
      "souris\n",
      "levure\n",
      "bacterie\n"
     ]
    }
   ],
   "source": [
    "i = 0\n",
    "while i < len(eucar):\n",
    "    print(eucar[i])\n",
    "    i += 1"
   ]
  },
  {
   "cell_type": "markdown",
   "id": "4ddb6caa-b3c3-4e1c-984b-bbbd722dd402",
   "metadata": {},
   "source": [
    "## ex 5.4.2 :"
   ]
  },
  {
   "cell_type": "code",
   "execution_count": 13,
   "id": "fb0ab99a-36a5-42f0-a88c-d884011e5e53",
   "metadata": {},
   "outputs": [
    {
     "name": "stdout",
     "output_type": "stream",
     "text": [
      "Jours semaine : Lundi  Jours semaine : Mardi  Jours semaine : Mercredi  Jours semaine : Jeudi  Jours semaine : Vendredi  \n",
      "\n",
      "Jours week-end : Samedi Jours week-end : Dimanche \n",
      "\n"
     ]
    }
   ],
   "source": [
    "semaine = [\"Lundi\", \"Mardi\", \"Mercredi\", \"Jeudi\", \"Vendredi\", \"Samedi\", \"Dimanche\"]\n",
    "for jour in semaine[0:5]:\n",
    "    print(f\"Jours semaine : {jour} \", end = \" \")\n",
    "print(\"\\n\")\n",
    "\n",
    "i = -len(semaine)\n",
    "while i < 0:\n",
    "    if i > -3:\n",
    "        print(f\"Jours week-end : {semaine[i]}\", end = \" \")\n",
    "    i +=1\n",
    "print(\"\\n\")"
   ]
  },
  {
   "cell_type": "markdown",
   "id": "458e878e-f87d-4020-8b64-1f1f43bbaecb",
   "metadata": {},
   "source": [
    "## ex 5.4.3 :"
   ]
  },
  {
   "cell_type": "code",
   "execution_count": 15,
   "id": "f0ab7378-a0b3-4712-b004-fc4a75a4c452",
   "metadata": {},
   "outputs": [
    {
     "name": "stdout",
     "output_type": "stream",
     "text": [
      "1  2  3  4  5  6  7  8  9  10  "
     ]
    }
   ],
   "source": [
    "for i in range(1, 11):\n",
    "    print(f\"{i} \", end = \" \")"
   ]
  },
  {
   "cell_type": "markdown",
   "id": "88571f60-0b8a-44c8-9045-dc9af54cfb78",
   "metadata": {},
   "source": [
    "## ex 5.4.4"
   ]
  },
  {
   "cell_type": "code",
   "execution_count": 18,
   "id": "c03e254e-8e20-42b3-88c0-0fa0475810e1",
   "metadata": {},
   "outputs": [
    {
     "name": "stdout",
     "output_type": "stream",
     "text": [
      "Impairs : [1, 3, 5, 7, 9, 11, 13, 15, 17, 19, 21]\n",
      "Pairs : [2, 4, 6, 8, 10, 12, 14, 16, 18, 20, 22]\n"
     ]
    }
   ],
   "source": [
    "impairs = list(range(1, 22, 2))\n",
    "pairs = list()\n",
    "for nb in impairs:\n",
    "    pairs.append(nb + 1)\n",
    "print(f\"Impairs : {impairs}\\nPairs : {pairs}\")"
   ]
  },
  {
   "cell_type": "markdown",
   "id": "ee95b4d7-f6e9-4330-9360-97e21f577294",
   "metadata": {},
   "source": [
    "## ex 5.4.5"
   ]
  },
  {
   "cell_type": "code",
   "execution_count": 19,
   "id": "b51b5c93-3cd3-4e60-b557-9567ebaebda9",
   "metadata": {},
   "outputs": [
    {
     "name": "stdout",
     "output_type": "stream",
     "text": [
      "moyenne = 9.8\n"
     ]
    }
   ],
   "source": [
    "notes = [14, 9, 6, 8, 12]\n",
    "print(f\"moyenne = {sum(notes)/len(notes)}\")"
   ]
  },
  {
   "cell_type": "markdown",
   "id": "84dc41d5-1bbc-4f99-ab83-faa27409d1e6",
   "metadata": {},
   "source": [
    "## ex 5.4.6 :"
   ]
  },
  {
   "cell_type": "code",
   "execution_count": 22,
   "id": "c080feb5-f2cb-4ae3-a023-1ec7fb9fa2d6",
   "metadata": {},
   "outputs": [
    {
     "name": "stdout",
     "output_type": "stream",
     "text": [
      "6\n",
      "12\n",
      "20\n",
      "30\n",
      "42\n",
      "56\n",
      "72\n",
      "90\n",
      "110\n",
      "132\n",
      "156\n",
      "182\n",
      "210\n",
      "240\n",
      "272\n",
      "306\n",
      "342\n",
      "380\n"
     ]
    }
   ],
   "source": [
    "entiers = list(range(2, 21))\n",
    "for i in range(len(entiers) - 1):\n",
    "    print(entiers[i] * entiers[i+1])"
   ]
  },
  {
   "cell_type": "markdown",
   "id": "fdf9b368-ea64-42c9-af17-c31216cd25af",
   "metadata": {},
   "source": [
    "## ex 4.4.7 : "
   ]
  },
  {
   "cell_type": "code",
   "execution_count": 23,
   "id": "dad29362-b04b-4aae-8271-147904a6b289",
   "metadata": {},
   "outputs": [
    {
     "name": "stdout",
     "output_type": "stream",
     "text": [
      "\n",
      "*\n",
      "**\n",
      "***\n",
      "****\n",
      "*****\n",
      "******\n",
      "*******\n",
      "********\n",
      "*********\n",
      "**********\n"
     ]
    }
   ],
   "source": [
    "for i in range(1, 11):\n",
    "    print(\"*\"*i)"
   ]
  },
  {
   "cell_type": "markdown",
   "id": "8674f3a0-9c5f-45f5-983d-150a30c6321c",
   "metadata": {},
   "source": [
    "## ex 5.4.8 :"
   ]
  },
  {
   "cell_type": "code",
   "execution_count": 32,
   "id": "e65564aa-2a46-41d5-85b8-0ae49310280d",
   "metadata": {},
   "outputs": [
    {
     "name": "stdout",
     "output_type": "stream",
     "text": [
      "***********\n",
      "**********\n",
      "*********\n",
      "********\n",
      "*******\n",
      "******\n",
      "*****\n",
      "****\n",
      "***\n",
      "**\n",
      "*\n"
     ]
    }
   ],
   "source": [
    "for i in range(11):\n",
    "    print(\"*\" *(11 - i))"
   ]
  },
  {
   "cell_type": "markdown",
   "id": "86ef4c55-7ff0-4dea-b98b-81c9da1aa6fa",
   "metadata": {},
   "source": [
    "## ex 5.4.9 :"
   ]
  },
  {
   "cell_type": "code",
   "execution_count": 40,
   "id": "9d39cf9e-0501-4cd3-b0b7-0e39d292104d",
   "metadata": {},
   "outputs": [
    {
     "name": "stdout",
     "output_type": "stream",
     "text": [
      "         *\n",
      "        **\n",
      "       ***\n",
      "      ****\n",
      "     *****\n",
      "    ******\n",
      "   *******\n",
      "  ********\n",
      " *********\n",
      "**********\n"
     ]
    }
   ],
   "source": [
    "for i in range(1, 11):\n",
    "    print(f\"{('*')*i:>10s}\")"
   ]
  },
  {
   "cell_type": "markdown",
   "id": "9d8c3c68-7add-47d8-b0a8-2ba091963722",
   "metadata": {},
   "source": [
    "## ex 5.4.10"
   ]
  },
  {
   "cell_type": "code",
   "execution_count": 50,
   "id": "6a183627-55d2-45c9-becd-551f3c5639a7",
   "metadata": {},
   "outputs": [
    {
     "name": "stdout",
     "output_type": "stream",
     "text": [
      "         *          \n",
      "        ***         \n",
      "       *****        \n",
      "      *******       \n",
      "     *********      \n",
      "    ***********     \n",
      "   *************    \n",
      "  ***************   \n",
      " *****************  \n",
      "******************* \n"
     ]
    }
   ],
   "source": [
    "for i in range(1, 21, 2):\n",
    "    print(f\"{('*')*i:^20s}\")"
   ]
  },
  {
   "cell_type": "markdown",
   "id": "da041ebc-4c1d-4906-85c6-d9f211a2fd7d",
   "metadata": {},
   "source": [
    "## ex 5.4.11 :"
   ]
  },
  {
   "cell_type": "code",
   "execution_count": 56,
   "id": "839b2631-a32b-4597-9dd5-325471d0a940",
   "metadata": {},
   "outputs": [
    {
     "name": "stdout",
     "output_type": "stream",
     "text": [
      "ligne colonne\n",
      "   1    1\n",
      "   1    2\n",
      "   1    3\n",
      "   2    1\n",
      "   2    2\n",
      "   2    3\n",
      "   3    1\n",
      "   3    2\n",
      "   3    3\n"
     ]
    }
   ],
   "source": [
    "nb_l = 3\n",
    "nb_c = 3\n",
    "print(\"ligne colonne\")\n",
    "for i in range(nb_l):\n",
    "    for j in range(nb_c):\n",
    "        print(f\"{i+1:>4d} {j+1:>4d}\")"
   ]
  },
  {
   "cell_type": "markdown",
   "id": "fd6a3a2d-fb0a-4e1b-9fae-f320565c5702",
   "metadata": {},
   "source": [
    "## ex 5.4.12"
   ]
  },
  {
   "cell_type": "code",
   "execution_count": 60,
   "id": "bd576b60-8639-40d8-ad79-2a60aff16584",
   "metadata": {},
   "outputs": [
    {
     "name": "stdout",
     "output_type": "stream",
     "text": [
      "ligne colonne\n",
      "   1    2\n",
      "   1    3\n",
      "   1    4\n",
      "   2    3\n",
      "   2    4\n",
      "   3    4\n"
     ]
    }
   ],
   "source": [
    "nb_l = 4\n",
    "nb_c = 4\n",
    "print(\"ligne colonne\")\n",
    "for i in range(nb_l):\n",
    "    for j in range(nb_c):\n",
    "        if j <= i:\n",
    "            continue\n",
    "        print(f\"{i+1:>4d} {j+1:>4d}\")"
   ]
  },
  {
   "cell_type": "markdown",
   "id": "40d24ed9-e93e-4d27-820e-ca3f9222e17f",
   "metadata": {},
   "source": [
    "## ex 5.4.13"
   ]
  },
  {
   "cell_type": "code",
   "execution_count": 68,
   "id": "d58859bc-c71e-400d-9afe-c3d243c457de",
   "metadata": {},
   "outputs": [
    {
     "name": "stdout",
     "output_type": "stream",
     "text": [
      "Le nombre de saut est : 6357\n"
     ]
    }
   ],
   "source": [
    "puce, count = 0, 0\n",
    "while puce != 5:\n",
    "    n = random.choice([1, -1])\n",
    "    puce += n\n",
    "    count +=1\n",
    "print(f\"Le nombre de saut est : {count}\")"
   ]
  },
  {
   "cell_type": "markdown",
   "id": "ebe20efe-5406-41a9-b2d5-619907186468",
   "metadata": {},
   "source": [
    "## ex 5.4.14"
   ]
  },
  {
   "cell_type": "code",
   "execution_count": 64,
   "id": "70f8fd4d-ea52-42b1-b99c-b4afbdfa42bc",
   "metadata": {},
   "outputs": [
    {
     "name": "stdin",
     "output_type": "stream",
     "text": [
      "entrer un entier positif :  10\n"
     ]
    },
    {
     "name": "stdout",
     "output_type": "stream",
     "text": [
      "[0, 1, 1, 2, 3, 5, 8, 13, 21, 34]\n"
     ]
    }
   ],
   "source": [
    "fibo = [0, 1]\n",
    "n = int(input(\"entrer un entier positif : \"))\n",
    "for i in range(2, n):\n",
    "    fibo.append(fibo[i-1]+fibo[i-2])\n",
    "print(fibo)"
   ]
  }
 ],
 "metadata": {
  "kernelspec": {
   "display_name": "Python 3 (ipykernel)",
   "language": "python",
   "name": "python3"
  },
  "language_info": {
   "codemirror_mode": {
    "name": "ipython",
    "version": 3
   },
   "file_extension": ".py",
   "mimetype": "text/x-python",
   "name": "python",
   "nbconvert_exporter": "python",
   "pygments_lexer": "ipython3",
   "version": "3.7.9"
  }
 },
 "nbformat": 4,
 "nbformat_minor": 5
}
