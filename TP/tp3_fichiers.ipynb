{
 "cells": [
  {
   "cell_type": "markdown",
   "id": "ae10d4c3-2252-4eba-880e-dd33def1a4ca",
   "metadata": {},
   "source": [
    "# TP 3 : Fichier\n",
    "## ex 7.7.1 :"
   ]
  },
  {
   "cell_type": "code",
   "execution_count": 2,
   "id": "05eef707-c010-4afc-99dd-159d98e0c2fb",
   "metadata": {},
   "outputs": [
    {
     "name": "stdout",
     "output_type": "stream",
     "text": [
      "moyenne : 13.38\n"
     ]
    }
   ],
   "source": [
    "notes = []\n",
    "with open(\"notes.txt\", \"r\") as filin:\n",
    "    for ligne in filin:\n",
    "        notes.append(float(ligne))\n",
    "print(f\"moyenne : {sum(notes)/len(notes):.2f}\")"
   ]
  },
  {
   "cell_type": "markdown",
   "id": "b9ed31c1-b31f-4ee9-85e0-742aeff64d07",
   "metadata": {},
   "source": []
  },
  {
   "cell_type": "code",
   "execution_count": 5,
   "id": "cb6662d7-5d34-4ba1-bbd1-9a3d51512c92",
   "metadata": {},
   "outputs": [],
   "source": [
    "with open(\"notes.txt\", \"r\") as filin, open(\"notes2.txt\", \"w\") as filout:\n",
    "    for ligne in filin:\n",
    "        note = float(ligne)\n",
    "        if note >= 10:\n",
    "            mention = \"admis\"\n",
    "        else:\n",
    "            mention = \"recalé\"\n",
    "        filout.write(f\"{note} {mention}\\n\")"
   ]
  },
  {
   "cell_type": "code",
   "execution_count": null,
   "id": "bc7cf9f7-af0a-4b7c-8a23-5720f025bcf0",
   "metadata": {},
   "outputs": [],
   "source": []
  }
 ],
 "metadata": {
  "kernelspec": {
   "display_name": "Python 3 (ipykernel)",
   "language": "python",
   "name": "python3"
  },
  "language_info": {
   "codemirror_mode": {
    "name": "ipython",
    "version": 3
   },
   "file_extension": ".py",
   "mimetype": "text/x-python",
   "name": "python",
   "nbconvert_exporter": "python",
   "pygments_lexer": "ipython3",
   "version": "3.8.11"
  }
 },
 "nbformat": 4,
 "nbformat_minor": 5
}
