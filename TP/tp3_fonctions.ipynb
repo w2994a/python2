{
 "cells": [
  {
   "cell_type": "markdown",
   "id": "0a75ccf3-a1c9-445e-bbfa-38988e847878",
   "metadata": {},
   "source": [
    "# TP 3 : Fonctions\n",
    "## ex 9.8.2 :"
   ]
  },
  {
   "cell_type": "code",
   "execution_count": 2,
   "id": "672a2d38-ef07-4b5d-9fa9-b408c7612c0a",
   "metadata": {},
   "outputs": [
    {
     "data": {
      "text/plain": [
       "4"
      ]
     },
     "execution_count": 2,
     "metadata": {},
     "output_type": "execute_result"
    }
   ],
   "source": [
    "def puissance(x, y):\n",
    "    return x**y\n",
    "puissance(2, 2)"
   ]
  },
  {
   "cell_type": "markdown",
   "id": "c2e3b582-f796-40ca-ae94-0e77b61b1af7",
   "metadata": {},
   "source": [
    "## ex 9.8.3 :"
   ]
  },
  {
   "cell_type": "code",
   "execution_count": null,
   "id": "2776d4dc-bdcb-418a-81f5-4a41cb447c0a",
   "metadata": {},
   "outputs": [],
   "source": [
    "def gen_pyramide():\n",
    "    n = input(\"nombre de lignes ? : \")\n",
    "    for i in range(n):\n",
    "        print(f\"{\"*\"*(n+1):"
   ]
  }
 ],
 "metadata": {
  "kernelspec": {
   "display_name": "Python 3 (ipykernel)",
   "language": "python",
   "name": "python3"
  },
  "language_info": {
   "codemirror_mode": {
    "name": "ipython",
    "version": 3
   },
   "file_extension": ".py",
   "mimetype": "text/x-python",
   "name": "python",
   "nbconvert_exporter": "python",
   "pygments_lexer": "ipython3",
   "version": "3.8.11"
  }
 },
 "nbformat": 4,
 "nbformat_minor": 5
}
