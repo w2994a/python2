{
 "cells": [
  {
   "cell_type": "markdown",
   "id": "0a75ccf3-a1c9-445e-bbfa-38988e847878",
   "metadata": {
    "tags": []
   },
   "source": [
    "# TP Chapitre 9 : Fonctions"
   ]
  },
  {
   "cell_type": "code",
   "execution_count": 1,
   "id": "70ca32aa-aa75-4e44-9dd0-bea7b77dddd3",
   "metadata": {},
   "outputs": [],
   "source": [
    "%matplotlib inline\n",
    "import random\n",
    "import math\n",
    "import matplotlib.pyplot as plt\n",
    "\n",
    "\n",
    "%load_ext autoreload\n",
    "%autoreload 2"
   ]
  },
  {
   "cell_type": "markdown",
   "id": "11f7afdd-3576-4cd9-96ce-19c5f306a0b5",
   "metadata": {},
   "source": [
    "## ex 9.8.1 : Carré et factorielle"
   ]
  },
  {
   "cell_type": "code",
   "execution_count": 2,
   "id": "28d7924a-d370-4714-abfb-1446135687f7",
   "metadata": {},
   "outputs": [
    {
     "name": "stdout",
     "output_type": "stream",
     "text": [
      "25\n",
      "24\n"
     ]
    }
   ],
   "source": [
    "def carre(x):\n",
    "    y = x**2\n",
    "    return y\n",
    "\n",
    "\n",
    "def calc_factorielle(n):\n",
    "    fact = 1\n",
    "    for i in range(2, n+1):\n",
    "        fact *= i\n",
    "    return fact\n",
    "\n",
    "\n",
    "print(carre(5)) # Return 25\n",
    "print(calc_factorielle(4)) # Return 24."
   ]
  },
  {
   "cell_type": "markdown",
   "id": "f374515c-d72a-4ee0-9de9-5265d4a66586",
   "metadata": {},
   "source": [
    "## ex 9.8.2 : Puissance"
   ]
  },
  {
   "cell_type": "code",
   "execution_count": 3,
   "id": "672a2d38-ef07-4b5d-9fa9-b408c7612c0a",
   "metadata": {},
   "outputs": [
    {
     "data": {
      "text/plain": [
       "4"
      ]
     },
     "execution_count": 3,
     "metadata": {},
     "output_type": "execute_result"
    }
   ],
   "source": [
    "def puissance(x, y):\n",
    "    return x**y\n",
    "\n",
    "\n",
    "puissance(2, 2)"
   ]
  },
  {
   "cell_type": "markdown",
   "id": "c2e3b582-f796-40ca-ae94-0e77b61b1af7",
   "metadata": {},
   "source": [
    "## ex 9.8.3 : Pyramide"
   ]
  },
  {
   "cell_type": "code",
   "execution_count": 4,
   "id": "2776d4dc-bdcb-418a-81f5-4a41cb447c0a",
   "metadata": {},
   "outputs": [
    {
     "name": "stdin",
     "output_type": "stream",
     "text": [
      "nombre de lignes ? (entier positif) :  10\n"
     ]
    },
    {
     "name": "stdout",
     "output_type": "stream",
     "text": [
      "         *         \n",
      "        ***        \n",
      "       *****       \n",
      "      *******      \n",
      "     *********     \n",
      "    ***********    \n",
      "   *************   \n",
      "  ***************  \n",
      " ***************** \n",
      "*******************\n"
     ]
    }
   ],
   "source": [
    "def gen_pyramide():\n",
    "    n = int(input(\"nombre de lignes ? (entier positif) : \"))\n",
    "    for i in range(1, n*2, 2):\n",
    "        print(f\"{'*'*(i):^{(n*2)-1}s}\")\n",
    "    return\n",
    "\n",
    "\n",
    "gen_pyramide()"
   ]
  },
  {
   "cell_type": "markdown",
   "id": "14b3fb63-e0c5-4261-b7db-9aa83c7a1db3",
   "metadata": {},
   "source": [
    "## ex 9.8.4 : Nombre premiers"
   ]
  },
  {
   "cell_type": "code",
   "execution_count": 5,
   "id": "139ed894-1dd0-436d-825a-8ca16a4896e9",
   "metadata": {},
   "outputs": [
    {
     "name": "stdin",
     "output_type": "stream",
     "text": [
      "entrer un entier positif :  100\n"
     ]
    },
    {
     "name": "stdout",
     "output_type": "stream",
     "text": [
      "  2 est premier\n",
      "  3 est premier\n",
      "  4 n'est pas premier\n",
      "  5 est premier\n",
      "  6 n'est pas premier\n",
      "  7 est premier\n",
      "  8 n'est pas premier\n",
      "  9 n'est pas premier\n",
      " 10 n'est pas premier\n",
      " 11 est premier\n",
      " 12 n'est pas premier\n",
      " 13 est premier\n",
      " 14 n'est pas premier\n",
      " 15 n'est pas premier\n",
      " 16 n'est pas premier\n",
      " 17 est premier\n",
      " 18 n'est pas premier\n",
      " 19 est premier\n",
      " 20 n'est pas premier\n",
      " 21 n'est pas premier\n",
      " 22 n'est pas premier\n",
      " 23 est premier\n",
      " 24 n'est pas premier\n",
      " 25 n'est pas premier\n",
      " 26 n'est pas premier\n",
      " 27 n'est pas premier\n",
      " 28 n'est pas premier\n",
      " 29 est premier\n",
      " 30 n'est pas premier\n",
      " 31 est premier\n",
      " 32 n'est pas premier\n",
      " 33 n'est pas premier\n",
      " 34 n'est pas premier\n",
      " 35 n'est pas premier\n",
      " 36 n'est pas premier\n",
      " 37 est premier\n",
      " 38 n'est pas premier\n",
      " 39 n'est pas premier\n",
      " 40 n'est pas premier\n",
      " 41 est premier\n",
      " 42 n'est pas premier\n",
      " 43 est premier\n",
      " 44 n'est pas premier\n",
      " 45 n'est pas premier\n",
      " 46 n'est pas premier\n",
      " 47 est premier\n",
      " 48 n'est pas premier\n",
      " 49 n'est pas premier\n",
      " 50 n'est pas premier\n",
      " 51 n'est pas premier\n",
      " 52 n'est pas premier\n",
      " 53 est premier\n",
      " 54 n'est pas premier\n",
      " 55 n'est pas premier\n",
      " 56 n'est pas premier\n",
      " 57 n'est pas premier\n",
      " 58 n'est pas premier\n",
      " 59 est premier\n",
      " 60 n'est pas premier\n",
      " 61 est premier\n",
      " 62 n'est pas premier\n",
      " 63 n'est pas premier\n",
      " 64 n'est pas premier\n",
      " 65 n'est pas premier\n",
      " 66 n'est pas premier\n",
      " 67 est premier\n",
      " 68 n'est pas premier\n",
      " 69 n'est pas premier\n",
      " 70 n'est pas premier\n",
      " 71 est premier\n",
      " 72 n'est pas premier\n",
      " 73 est premier\n",
      " 74 n'est pas premier\n",
      " 75 n'est pas premier\n",
      " 76 n'est pas premier\n",
      " 77 n'est pas premier\n",
      " 78 n'est pas premier\n",
      " 79 est premier\n",
      " 80 n'est pas premier\n",
      " 81 n'est pas premier\n",
      " 82 n'est pas premier\n",
      " 83 est premier\n",
      " 84 n'est pas premier\n",
      " 85 n'est pas premier\n",
      " 86 n'est pas premier\n",
      " 87 n'est pas premier\n",
      " 88 n'est pas premier\n",
      " 89 est premier\n",
      " 90 n'est pas premier\n",
      " 91 n'est pas premier\n",
      " 92 n'est pas premier\n",
      " 93 n'est pas premier\n",
      " 94 n'est pas premier\n",
      " 95 n'est pas premier\n",
      " 96 n'est pas premier\n",
      " 97 est premier\n",
      " 98 n'est pas premier\n",
      " 99 n'est pas premier\n",
      "100 n'est pas premier\n"
     ]
    }
   ],
   "source": [
    "def est_premier():\n",
    "    n = int(input(\"entrer un entier positif : \"))\n",
    "    premiers = [2]\n",
    "    print(f\"{premiers[0]:>3d} est premier\")\n",
    "    for i in range(3, n+1):\n",
    "        flags = 0\n",
    "        for nb in premiers:\n",
    "            if i % nb == 0:\n",
    "                flags = 1\n",
    "                break\n",
    "        if flags == 0:\n",
    "            premiers.append(i)\n",
    "            print(f\"{i:>3d} est premier\")\n",
    "        else:\n",
    "            print(f\"{i:>3d} n'est pas premier\")\n",
    "    return\n",
    "\n",
    "\n",
    "est_premier()"
   ]
  },
  {
   "cell_type": "markdown",
   "id": "6f501514-d5b0-4f7b-848f-df50ec394ddd",
   "metadata": {},
   "source": [
    "## ex 9.8.5 : Séquence complémentaire"
   ]
  },
  {
   "cell_type": "code",
   "execution_count": 6,
   "id": "0feb6988-fa21-44e3-bae3-6b8ad5c81716",
   "metadata": {},
   "outputs": [
    {
     "name": "stdout",
     "output_type": "stream",
     "text": [
      "['A', 'T', 'C', 'G', 'A', 'T', 'C', 'G', 'A', 'T', 'C']\n",
      "['T', 'A', 'G', 'C', 'T', 'A', 'G', 'C', 'T', 'A', 'G']\n"
     ]
    }
   ],
   "source": [
    "def seq_comp(seq):\n",
    "    seq = \"\".join(seq)\n",
    "    seq = seq.replace('A', 't')\n",
    "    seq = seq.replace(\"T\", \"a\")\n",
    "    seq = seq.replace(\"C\", \"g\")\n",
    "    seq = seq.replace(\"G\", \"c\")\n",
    "    seq = seq.upper()\n",
    "    return list(seq)\n",
    "\n",
    "seq = [\"A\", \"T\", \"C\", \"G\", \"A\", \"T\", \"C\", \"G\", \"A\", \"T\", \"C\"]\n",
    "print(seq)\n",
    "print(seq_comp(seq))\n",
    "      "
   ]
  },
  {
   "cell_type": "markdown",
   "id": "dd6111c2-00ac-4adc-b108-9e8704ac5bff",
   "metadata": {},
   "source": [
    "## ex 9.8.6 : Distance 3D"
   ]
  },
  {
   "cell_type": "code",
   "execution_count": 7,
   "id": "a6fe9f58-b06e-4d93-b5f7-ec72f61de7d6",
   "metadata": {},
   "outputs": [
    {
     "name": "stdout",
     "output_type": "stream",
     "text": [
      "1.73205\n",
      "1.73205\n"
     ]
    }
   ],
   "source": [
    "def calc_distance_3d(a, b):\n",
    "    return ((b[0]-a[0])**2 + (b[1]-a[1])**2 + (b[2]-a[2])**2)**(1/2)\n",
    "\n",
    "\n",
    "a = (0, 0, 0)\n",
    "b = (1, 1, 1)\n",
    "dist = calc_distance_3d(a, b)\n",
    "print(f\"{dist:.5f}\")\n",
    "print(f\"{3**(1/2):.5f}\")"
   ]
  },
  {
   "cell_type": "markdown",
   "id": "1fda7125-cf21-4b98-9332-95068c74ce02",
   "metadata": {},
   "source": [
    "## ex 9.8.7 : Distribution et statistique"
   ]
  },
  {
   "cell_type": "code",
   "execution_count": 8,
   "id": "508a7af2-af08-44be-b936-0704b606e603",
   "metadata": {},
   "outputs": [
    {
     "name": "stdout",
     "output_type": "stream",
     "text": [
      "Liste  1 : min = 0.02 ; max = 50.06 ; moyenne = 50.06\n",
      "Liste  2 : min = 0.01 ; max = 49.66 ; moyenne = 49.66\n",
      "Liste  3 : min = 0.00 ; max = 50.08 ; moyenne = 50.08\n",
      "Liste  4 : min = 0.01 ; max = 49.96 ; moyenne = 49.96\n",
      "Liste  5 : min = 0.00 ; max = 49.72 ; moyenne = 49.72\n",
      "Liste  6 : min = 0.01 ; max = 50.39 ; moyenne = 50.39\n",
      "Liste  7 : min = 0.05 ; max = 50.29 ; moyenne = 50.29\n",
      "Liste  8 : min = 0.01 ; max = 49.98 ; moyenne = 49.98\n",
      "Liste  9 : min = 0.01 ; max = 50.29 ; moyenne = 50.29\n",
      "Liste 10 : min = 0.01 ; max = 49.86 ; moyenne = 49.86\n",
      "Liste 11 : min = 0.02 ; max = 49.65 ; moyenne = 49.65\n",
      "Liste 12 : min = 0.03 ; max = 49.93 ; moyenne = 49.93\n",
      "Liste 13 : min = 0.01 ; max = 50.07 ; moyenne = 50.07\n",
      "Liste 14 : min = 0.00 ; max = 49.59 ; moyenne = 49.59\n",
      "Liste 15 : min = 0.00 ; max = 50.20 ; moyenne = 50.20\n",
      "Liste 16 : min = 0.00 ; max = 49.75 ; moyenne = 49.75\n",
      "Liste 17 : min = 0.00 ; max = 49.98 ; moyenne = 49.98\n",
      "Liste 18 : min = 0.00 ; max = 49.93 ; moyenne = 49.93\n",
      "Liste 19 : min = 0.06 ; max = 50.14 ; moyenne = 50.14\n",
      "Liste 20 : min = 0.01 ; max = 49.99 ; moyenne = 49.99\n",
      "Liste 21 : min = 0.02 ; max = 50.13 ; moyenne = 50.13\n"
     ]
    }
   ],
   "source": [
    "def gen_distrib(debut, fin, n):\n",
    "    list_nombre = []\n",
    "    for i in range(n+1):\n",
    "        nb_aléatoire = random.uniform(debut, fin)\n",
    "        list_nombre.append(nb_aléatoire)\n",
    "    return list_nombre\n",
    "\n",
    "\n",
    "def calc_stat(liste_floats):\n",
    "    stat = [min(liste_floats), max(liste_floats),\n",
    "            sum(liste_floats)/len(liste_floats)]\n",
    "    return stat\n",
    "\n",
    "\n",
    "nb_liste = 20\n",
    "debut = 0\n",
    "fin = 100\n",
    "n = 10000\n",
    "for i in range(nb_liste + 1):\n",
    "    liste_floats = gen_distrib(debut, fin, n)\n",
    "    liste_stat = calc_stat(liste_floats)\n",
    "    print(f\"Liste {i+1:>2d} : min = {liste_stat[0]:.2f} ; max = \"\n",
    "          f\"{liste_stat[2]:.2f} ; moyenne = {liste_stat[2]:.2f}\")"
   ]
  },
  {
   "cell_type": "markdown",
   "id": "9de317a9-1251-403d-acfc-a25a25287ee8",
   "metadata": {},
   "source": [
    "## ex 9.8.8 : Distance à l'origine"
   ]
  },
  {
   "cell_type": "code",
   "execution_count": 9,
   "id": "1ae07002-6382-466e-932d-447d09318ef3",
   "metadata": {},
   "outputs": [],
   "source": [
    "def calc_distance_2d(a, b):\n",
    "    return ((b[0]-a[0])**2 + (b[1]-a[1])**2)**(1/2)\n",
    "\n",
    "\n",
    "def calc_dist2ori(list_x, list_y):\n",
    "    if len(list_x) != len(list_y):\n",
    "        return -1\n",
    "    list_dist = []\n",
    "    for i in range(len(list_x)):\n",
    "        dist = calc_distance_2d((list_x[i], list_y[i]), (0,0))\n",
    "        list_dist.append(dist)\n",
    "    return list_dist\n",
    "\n",
    "\n",
    "# Programme principale.\n",
    "\n",
    "list_x = []\n",
    "list_y = []\n",
    "x = - math.pi\n",
    "while x <= math.pi:\n",
    "    list_x.append(x)\n",
    "    list_y.append(math.sin(x))\n",
    "    x += 0.1\n",
    "\n",
    "dist_list = calc_dist2ori(list_x, list_y)\n",
    "\n",
    "with open(\"sin2ori.dat\", \"w\") as filout:\n",
    "    for i in range(0, len(list_x)):\n",
    "        filout.write(f\"{list_x[i]:3.2f} {dist_list[i]:8.2f}\\n\")"
   ]
  },
  {
   "cell_type": "code",
   "execution_count": 10,
   "id": "6239e727-daf5-4466-a221-6a24186ceded",
   "metadata": {},
   "outputs": [
    {
     "data": {
      "image/png": "[encoded data removed]",
      "text/plain": [
       "<Figure size 576x576 with 1 Axes>"
      ]
     },
     "metadata": {
      "needs_background": "light"
     },
     "output_type": "display_data"
    }
   ],
   "source": [
    "# Création d'une image pour la visualisation du résultat.\n",
    "\n",
    "x = []\n",
    "y = []\n",
    "\n",
    "with open(\"sin2ori.dat\", \"r\") as f_in:\n",
    "    for line in f_in:\n",
    "        coords = line.split()\n",
    "        x.append(float(coords [0]))\n",
    "        y.append(float(coords [1]))\n",
    "\n",
    "plt.figure(figsize =(8 ,8))\n",
    "plt.plot(x, y)\n",
    "plt.xlabel (\"x\")\n",
    "plt.ylabel (\" Distance de sin(x)à l'origine \")\n",
    "plt.savefig (\" sin2ori.png\");"
   ]
  },
  {
   "cell_type": "markdown",
   "id": "7fae73d8-d5c6-4481-b7f5-f2b33cf0b113",
   "metadata": {},
   "source": [
    "### Seconde méthode avec la fonction `zip()` :"
   ]
  },
  {
   "cell_type": "code",
   "execution_count": 11,
   "id": "16a24dfb-4c07-4489-aa5e-08838643eaf8",
   "metadata": {},
   "outputs": [
    {
     "data": {
      "image/png": "[encoded data removed]",
      "text/plain": [
       "<Figure size 576x576 with 1 Axes>"
      ]
     },
     "metadata": {
      "needs_background": "light"
     },
     "output_type": "display_data"
    }
   ],
   "source": [
    "def calc_distance_2D(atome_A, atome_B):\n",
    "    d = math.sqrt((atome_B[0]-atome_A[0])**2 + (atome_B[1]-atome_A[1])**2)\n",
    "    return d\n",
    "\n",
    "def calc_dist2ori(list_x, list_y):\n",
    "    dist_list = []\n",
    "    for x, y in zip(list_x, list_y):\n",
    "        dist_list.append(calc_distance_2D((x,y), (0,0)))\n",
    "\n",
    "    return dist_list\n",
    "\n",
    "\n",
    "# Programme principal.\n",
    "x_list = []\n",
    "y_list = []\n",
    "x = - math.pi\n",
    "while x <= math.pi:\n",
    "    x_list.append(x)\n",
    "    y_list.append(math.sin(x))\n",
    "    x += 0.1\n",
    "\n",
    "d_list = calc_dist2ori(x_list, y_list)\n",
    "\n",
    "with open(\"sin2ori.dat\", \"w\") as output:\n",
    "    for x, dist in zip(x_list, d_list):\n",
    "        output.write(f\"{x:3.2f} {dist:8.2f}\\n\")\n",
    "\n",
    "# Création d'une image pour la visualisation du résultat.\n",
    "\n",
    "x = []\n",
    "y = []\n",
    "with open(\"sin2ori.dat\", \"r\") as f_in:\n",
    "    for line in f_in:\n",
    "        coords = line.split()\n",
    "        x.append(float(coords[0]))\n",
    "        y.append(float(coords[1]))\n",
    "plt.figure(figsize=(8,8))\n",
    "plt.plot(x, y)\n",
    "plt.xlabel(\"x\")\n",
    "plt.ylabel(\"Distance de sin(x)à l'origine\")\n",
    "plt.savefig(\"sin2ori.png\")"
   ]
  }
 ],
 "metadata": {
  "kernelspec": {
   "display_name": "Python 3 (ipykernel)",
   "language": "python",
   "name": "python3"
  },
  "language_info": {
   "codemirror_mode": {
    "name": "ipython",
    "version": 3
   },
   "file_extension": ".py",
   "mimetype": "text/x-python",
   "name": "python",
   "nbconvert_exporter": "python",
   "pygments_lexer": "ipython3",
   "version": "3.7.9"
  }
 },
 "nbformat": 4,
 "nbformat_minor": 5
}
