{
 "cells": [
  {
   "cell_type": "markdown",
   "id": "dc95c61c-0a40-4a9e-90f5-d13a8ca607fb",
   "metadata": {},
   "source": [
    "# TP2 : Chapitre 6 - Tests\n",
    "## ex 6.7.1"
   ]
  },
  {
   "cell_type": "code",
   "execution_count": 18,
   "id": "c5a97f69-79eb-43e7-9164-a59cdf22c6c8",
   "metadata": {},
   "outputs": [],
   "source": [
    "import random as rand"
   ]
  },
  {
   "cell_type": "code",
   "execution_count": 5,
   "id": "fac92afb-e0fa-4e48-ae56-e6d9eeadda80",
   "metadata": {},
   "outputs": [
    {
     "name": "stdout",
     "output_type": "stream",
     "text": [
      "Lundi : Au travail !!\n",
      "Mardi : Au travail !!\n",
      "Mercredi : Au travail !!\n",
      "Jeudi : Au travail !!\n",
      "Vendrdi : Choutte c'est vendredi !!\n",
      "Samedi : Repos ce week-end !!\n",
      "Dimanche : Repos ce week-end !!\n"
     ]
    }
   ],
   "source": [
    "semaine = [\"Lundi\", \"Mardi\", \"Mercredi\", \"Jeudi\", \"Vendrdi\", \"Samedi\",\n",
    "           \"Dimanche\"]\n",
    "for jour in semaine:\n",
    "    if jour[0] == \"L\" or jour[0] == \"M\" or jour[0] == \"J\":\n",
    "        print(f\"{jour} : Au travail !!\")\n",
    "    elif jour[0] == \"V\":\n",
    "        print(f\"{jour} : Choutte c'est vendredi !!\")\n",
    "    else:\n",
    "        print(f\"{jour} : Repos ce week-end !!\")"
   ]
  },
  {
   "cell_type": "markdown",
   "id": "8fc275bf-f454-4bb3-9d04-c9be45ea6408",
   "metadata": {},
   "source": [
    "## ex 6.7.2 :"
   ]
  },
  {
   "cell_type": "code",
   "execution_count": 15,
   "id": "f8640da8-32a8-47a4-a1f8-ad3baa817bfc",
   "metadata": {},
   "outputs": [
    {
     "name": "stdout",
     "output_type": "stream",
     "text": [
      "séquence :                ACGTTAGCTAACG\n",
      "Séquence complémentaire : TGCAATCGATTGC"
     ]
    }
   ],
   "source": [
    "seq = [\"A\", \"C\", \"G\", \"T\", \"T\", \"A\", \"G\", \"C\", \"T\", \"A\", \"A\", \"C\", \"G\"]\n",
    "seq_comp = []\n",
    "for base in seq:\n",
    "    if base == \"A\":\n",
    "        seq_comp.append(\"T\")\n",
    "    elif base == \"T\":\n",
    "        seq_comp.append(\"A\")\n",
    "    elif base == \"C\":\n",
    "        seq_comp.append(\"G\")\n",
    "    elif base == \"G\":\n",
    "        seq_comp.append(\"C\")\n",
    "    else:\n",
    "        seq_comp.append(\"N\")\n",
    "print(\"séquence : \", end = \"\")\n",
    "print(\" \" * 15, end = \"\")\n",
    "for base in seq:\n",
    "    print(base, end = \"\")\n",
    "print(\"\\nSéquence complémentaire : \", end = \"\")\n",
    "for base in seq_comp:\n",
    "    print(base, end = \"\")"
   ]
  },
  {
   "cell_type": "markdown",
   "id": "62ba1cda-f82e-4600-8cb3-c72fd043130a",
   "metadata": {},
   "source": [
    "## ex 6.7.4 : "
   ]
  },
  {
   "cell_type": "code",
   "execution_count": 24,
   "id": "ffa3f7ef-d48b-44ac-b15f-db1e7188d0f9",
   "metadata": {},
   "outputs": [
    {
     "name": "stdout",
     "output_type": "stream",
     "text": [
      "Le minimum de la liste est : 1\n"
     ]
    }
   ],
   "source": [
    "nb = list(range(1, 21, 3))\n",
    "mini = nb[0]\n",
    "for x in nb:\n",
    "    if x < mini:\n",
    "        mini = x\n",
    "    else:\n",
    "        continue\n",
    "print(f\"Le minimum de la liste est : {mini}\")"
   ]
  },
  {
   "cell_type": "markdown",
   "id": "50e772b8-b87b-454a-a8c4-d7a15cc7b370",
   "metadata": {},
   "source": [
    "## ex 6.7.4 :"
   ]
  },
  {
   "cell_type": "code",
   "execution_count": 27,
   "id": "94ed6365-77a3-4d0e-b056-82f15f8e216d",
   "metadata": {},
   "outputs": [
    {
     "name": "stdout",
     "output_type": "stream",
     "text": [
      "Fréqeunce A : 35.71\n",
      "Fréqeunce R : 21.43\n",
      "Fréqeunce W : 35.71\n",
      "Fréqeunce G : 7.14\n",
      "Fréqeunce aa inconnu : 0.00\n"
     ]
    }
   ],
   "source": [
    "seq_aa = [\"A\", \"R\", \"A\", \"W\", \"W\", \"A\", \"W\", \"A\", \"R\", \"W\", \"W\", \"R\", \"A\", \"G\"]\n",
    "nb_a, nb_r, nb_w, nb_g, nb_z = 0, 0, 0, 0, 0\n",
    "for aa in seq_aa:\n",
    "    if aa == \"A\":\n",
    "        nb_a += 1\n",
    "    elif aa == \"R\":\n",
    "        nb_r += 1\n",
    "    elif aa == \"W\":\n",
    "        nb_w += 1\n",
    "    elif aa == \"G\":\n",
    "        nb_g += 1\n",
    "    else:\n",
    "        nb_z += 1\n",
    "print(f\"Fréqeunce A : {(nb_a/len(seq_aa))*100:.2f}\")\n",
    "print(f\"Fréqeunce R : {(nb_r/len(seq_aa))*100:.2f}\")\n",
    "print(f\"Fréqeunce W : {(nb_w/len(seq_aa))*100:.2f}\")\n",
    "print(f\"Fréqeunce G : {(nb_g/len(seq_aa))*100:.2f}\")\n",
    "print(f\"Fréqeunce aa inconnu : {(nb_z/len(seq_aa))*100:.2f}\")"
   ]
  },
  {
   "cell_type": "markdown",
   "id": "4d85b103-4e79-4fe5-8c42-18988cc36017",
   "metadata": {},
   "source": [
    "## 6.7.5 :"
   ]
  },
  {
   "cell_type": "code",
   "execution_count": 29,
   "id": "8fb0c1b2-187b-4105-908b-c2e96ef17366",
   "metadata": {},
   "outputs": [
    {
     "name": "stdout",
     "output_type": "stream",
     "text": [
      "Note max : 15\n",
      "Note min : 9\n",
      "Moyenne : 12.60  assez bien\n"
     ]
    }
   ],
   "source": [
    "notes = [14, 9, 13, 15, 12]\n",
    "moyenne = sum(notes)/len(notes)\n",
    "print(f\"Note max : {max(notes)}\")\n",
    "print(f\"Note min : {min(notes)}\")\n",
    "if moyenne >= 10 and moyenne < 12:\n",
    "    mention = \"passable\"\n",
    "elif moyenne >= 12 and moyenne < 14:\n",
    "    mention = \"assez bien\"\n",
    "elif moyenne > 14:\n",
    "    mention = \"bien\"\n",
    "else:\n",
    "    mention = \"\"\n",
    "print(f\"Moyenne : {moyenne:.2f}{mention:>12s}\")"
   ]
  },
  {
   "cell_type": "markdown",
   "id": "4f0e9ddb-11df-4c26-be68-8f995b531117",
   "metadata": {},
   "source": [
    "## ex 6.7.6 :"
   ]
  },
  {
   "cell_type": "code",
   "execution_count": 30,
   "id": "ece49e5e-5a1f-44e1-8128-9b23ceae2a8c",
   "metadata": {},
   "outputs": [
    {
     "name": "stdout",
     "output_type": "stream",
     "text": [
      "0 2 4 6 8 10 11 13 15 17 19 "
     ]
    }
   ],
   "source": [
    "for i in range(21):\n",
    "    if i % 2 == 0 and i <= 10:\n",
    "        print(i, end = \" \")\n",
    "    elif i % 2 != 0 and i > 10:\n",
    "        print(i, end = \" \")"
   ]
  },
  {
   "cell_type": "markdown",
   "id": "98606635-0cfd-4c0b-b162-6f7552a857a9",
   "metadata": {},
   "source": [
    "## ex 6.7.7 :"
   ]
  },
  {
   "cell_type": "code",
   "execution_count": 35,
   "id": "8549a108-0c6c-43db-b351-7fb1b234968f",
   "metadata": {},
   "outputs": [
    {
     "name": "stdin",
     "output_type": "stream",
     "text": [
      "Entrer un nombre entier positif :  10\n"
     ]
    },
    {
     "name": "stdout",
     "output_type": "stream",
     "text": [
      "[10, 5, 16, 8, 4, 2, 1]\n"
     ]
    }
   ],
   "source": [
    "n = int(input(\"Entrer un nombre entier positif : \"))\n",
    "syracuse = []\n",
    "syracuse.append(n)\n",
    "while n != 1:\n",
    "    if n % 2 == 0:\n",
    "        n /= 2\n",
    "    else:\n",
    "        n = (n * 3) + 1\n",
    "    syracuse.append(int(n))\n",
    "print(syracuse)"
   ]
  },
  {
   "cell_type": "markdown",
   "id": "72c69f01-d864-404d-828a-dac6105a6364",
   "metadata": {},
   "source": [
    "## ex 6.7.8 :"
   ]
  },
  {
   "cell_type": "code",
   "execution_count": 52,
   "id": "67e1a9b0-46f7-489f-8103-c300ef6e3cc3",
   "metadata": {},
   "outputs": [
    {
     "name": "stdout",
     "output_type": "stream",
     "text": [
      "[48.6, 53.4] n'est pas en hélice\n",
      "[-124.9, 156.7] n'est pas en hélice\n",
      "[-66.2, -30.8] est en hélice\n",
      "[-58.8, -43.1] est en hélice\n",
      "[-73.9, -40.6] est en hélice\n",
      "[-53.7, -37.5] est en hélice\n",
      "[-80.6, -26.0] est en hélice\n",
      "[-68.5, 135.0] n'est pas en hélice\n",
      "[-64.9, -23.5] est en hélice\n",
      "[-66.9, -45.5] est en hélice\n",
      "[-69.6, -41.0] est en hélice\n",
      "[-62.7, -37.5] est en hélice\n",
      "[-68.2, -38.3] est en hélice\n",
      "[-61.2, -49.1] est en hélice\n",
      "[-59.7, -41.1] est en hélice\n"
     ]
    }
   ],
   "source": [
    "angle_aa = [[48.6 , 53.4] ,[ -124.9 , 156.7] ,[ -66.2 , -30.8], \\\n",
    "            [-58.8, -43.1],[-73.9, -40.6],[-53.7, -37.5], \\\n",
    "            [-80.6, -26.0],[-68.5, 135.0] ,[ -64.9 , -23.5], \\\n",
    "            [-66.9, -45.5],[-69.6, -41.0],[-62.7, -37.5], \\\n",
    "            [-68.2, -38.3],[-61.2, -49.1],[-59.7, -41.1]]\n",
    "for aa in angle_aa:\n",
    "    if (aa[0] > -57-30 and aa[0] < -57+30) and \\\n",
    "    (aa[1] > -47-30 and aa[1] < -47+30):\n",
    "        print(f\"{aa} est en hélice\")\n",
    "    else:\n",
    "        print(f\"{aa} n'est pas en hélice\")"
   ]
  },
  {
   "cell_type": "code",
   "execution_count": null,
   "id": "b5438f14-1a6a-4dcf-943d-6af76935a004",
   "metadata": {},
   "outputs": [],
   "source": [
    "# avec delta\n",
    "delta = \n",
    "for aa in angle_aa:\n",
    "    if (aa[0] > -57-30 and aa[0] < -57+30) and \\\n",
    "    (aa[1] > -47-30 and aa[1] < -47+30):\n",
    "        print(f\"{aa} est en hélice\")\n",
    "    else:\n",
    "        print(f\"{aa} n'est pas en hélice\")"
   ]
  },
  {
   "cell_type": "markdown",
   "id": "ae3fafd0-a483-4a38-b456-03aa39f51b17",
   "metadata": {},
   "source": [
    "## ex 6.7.9 :"
   ]
  },
  {
   "cell_type": "code",
   "execution_count": null,
   "id": "e2494f7b-d0d7-45ff-b658-1d62c94db34b",
   "metadata": {},
   "outputs": [],
   "source": [
    "for i in range("
   ]
  }
 ],
 "metadata": {
  "kernelspec": {
   "display_name": "Python 3 (ipykernel)",
   "language": "python",
   "name": "python3"
  },
  "language_info": {
   "codemirror_mode": {
    "name": "ipython",
    "version": 3
   },
   "file_extension": ".py",
   "mimetype": "text/x-python",
   "name": "python",
   "nbconvert_exporter": "python",
   "pygments_lexer": "ipython3",
   "version": "3.8.11"
  }
 },
 "nbformat": 4,
 "nbformat_minor": 5
}
