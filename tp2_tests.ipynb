{
 "cells": [
  {
   "cell_type": "markdown",
   "id": "47a4801c",
   "metadata": {},
   "source": [
    "# TP2 : Chapitre 6 - Tests"
   ]
  },
  {
   "cell_type": "code",
   "execution_count": 1,
   "id": "686d083b",
   "metadata": {},
   "outputs": [],
   "source": [
    "import random as rand"
   ]
  },
  {
   "cell_type": "markdown",
   "id": "b3a521aa-b28d-438d-ad02-3e50a2d4d7e7",
   "metadata": {},
   "source": [
    "## ex 6.7.1 : jours de la semaine\n",
    "Constituez une liste semaine contenant le nom des sept jours de la semaine.  \n",
    "En utilisant une boucle, écrivez chaque jour de la semaine ainsi que les messages suivants :  \n",
    "— Au travail s’il s’agit du lundi au jeudi ;  \n",
    "— Chouette c'est vendredis’ils’agitduvendredi;  \n",
    "— Repos ce week-end s’il s’agit du samedi ou du dimanche.  \n",
    "Ces messages ne sont que des suggestions, vous pouvez laisser libre cours à votre imagination."
   ]
  },
  {
   "cell_type": "code",
   "execution_count": 2,
   "id": "ba0bea7f",
   "metadata": {},
   "outputs": [
    {
     "name": "stdout",
     "output_type": "stream",
     "text": [
      "Lundi : Au travail !!\n",
      "Mardi : Au travail !!\n",
      "Mercredi : Au travail !!\n",
      "Jeudi : Au travail !!\n",
      "Vendrdi : Choutte c'est vendredi !!\n",
      "Samedi : Repos ce week-end !!\n",
      "Dimanche : Repos ce week-end !!\n"
     ]
    }
   ],
   "source": [
    "semaine = [\"Lundi\", \"Mardi\", \"Mercredi\", \"Jeudi\", \"Vendrdi\", \"Samedi\",\n",
    "           \"Dimanche\"]\n",
    "for jour in semaine:\n",
    "    if jour[0] == \"L\" or jour[0] == \"M\" or jour[0] == \"J\":\n",
    "        print(f\"{jour} : Au travail !!\")\n",
    "    elif jour[0] == \"V\":\n",
    "        print(f\"{jour} : Choutte c'est vendredi !!\")\n",
    "    else:\n",
    "        print(f\"{jour} : Repos ce week-end !!\")"
   ]
  },
  {
   "cell_type": "markdown",
   "id": "c8a4cc72-f791-42bc-870b-628b0e4e159f",
   "metadata": {},
   "source": [
    "## ex 6.7.2 : Séquence complémentaire d'un brin d'ADN  \n",
    "La liste ci-dessous représente la séquence d’un brin d’ADN :  \n",
    "[\"A\", \"C\", \"G\", \"T\", \"T\", \"A\", \"G\", \"C\", \"T\", \"A\", \"A\", \"C\", \"G\"]  \n",
    "Créez un script qui transforme cette séquence en sa séquence complémentaire.  \n",
    "Rappel : la séquence complémentaire s’obtient en remplaçant A par T, T par A, C par G et G par C.\n"
   ]
  },
  {
   "cell_type": "code",
   "execution_count": 3,
   "id": "8e5e0240",
   "metadata": {},
   "outputs": [
    {
     "name": "stdout",
     "output_type": "stream",
     "text": [
      "séquence :                ACGTTAGCTAACG\n",
      "Séquence complémentaire : TGCAATCGATTGC"
     ]
    }
   ],
   "source": [
    "seq = [\"A\", \"C\", \"G\", \"T\", \"T\", \"A\", \"G\", \"C\", \"T\", \"A\", \"A\", \"C\", \"G\"]\n",
    "seq_comp = []\n",
    "for base in seq:\n",
    "    if base == \"A\":\n",
    "        seq_comp.append(\"T\")\n",
    "    elif base == \"T\":\n",
    "        seq_comp.append(\"A\")\n",
    "    elif base == \"C\":\n",
    "        seq_comp.append(\"G\")\n",
    "    elif base == \"G\":\n",
    "        seq_comp.append(\"C\")\n",
    "    else:\n",
    "        seq_comp.append(\"N\")\n",
    "print(\"séquence : \", end = \"\")\n",
    "print(\" \" * 15, end = \"\")\n",
    "for base in seq:\n",
    "    print(base, end = \"\")\n",
    "print(\"\\nSéquence complémentaire : \", end = \"\")\n",
    "for base in seq_comp:\n",
    "    print(base, end = \"\")"
   ]
  },
  {
   "cell_type": "markdown",
   "id": "235b324c",
   "metadata": {},
   "source": [
    "## ex 6.7.3 Minimum d’une liste  \n",
    "La fonction min() de Python renvoie l’élément le plus petit d’une liste constituée de valeurs numériques ou de chaînes de caractères. Sans utiliser cette fonction, créez un script qui détermine le plus petit élément de la liste [8, 4, 6, 1, 5]."
   ]
  },
  {
   "cell_type": "code",
   "execution_count": 4,
   "id": "09778ab1",
   "metadata": {},
   "outputs": [
    {
     "name": "stdout",
     "output_type": "stream",
     "text": [
      "Le minimum de la liste est : 1\n"
     ]
    }
   ],
   "source": [
    "nb = [8, 4, 6, 1, 5]\n",
    "mini = nb[0]\n",
    "for x in nb:\n",
    "    if x < mini:\n",
    "        mini = x\n",
    "    else:\n",
    "        continue\n",
    "print(f\"Le minimum de la liste est : {mini}\")"
   ]
  },
  {
   "cell_type": "markdown",
   "id": "20a92f9a",
   "metadata": {},
   "source": [
    "## ex 6.7.4 : Fréquence des acides aminés  \n",
    "La liste ci-dessous représente une séquence d’acides aminés :  \n",
    "[\"A\", \"R\", \"A\", \"W\", \"W\", \"A\", \"W\", \"A\", \"R\", \"W\", \"W\", \"R\", \"A\", \"G\"]  \n",
    "Calculez la fréquence des acides aminés alanine (A), arginine (R), tryptophane (W) et glycine (G) dans cette séquence.\n"
   ]
  },
  {
   "cell_type": "code",
   "execution_count": 5,
   "id": "d1fd5a69",
   "metadata": {},
   "outputs": [
    {
     "name": "stdout",
     "output_type": "stream",
     "text": [
      "Fréqeunce A : 35.71\n",
      "Fréqeunce R : 21.43\n",
      "Fréqeunce W : 35.71\n",
      "Fréqeunce G : 7.14\n",
      "Fréqeunce aa inconnu : 0.00\n"
     ]
    }
   ],
   "source": [
    "seq_aa = [\"A\", \"R\", \"A\", \"W\", \"W\", \"A\", \"W\", \"A\", \"R\", \"W\", \"W\", \"R\", \"A\", \"G\"]\n",
    "nb_a, nb_r, nb_w, nb_g, nb_z = 0, 0, 0, 0, 0\n",
    "for aa in seq_aa:\n",
    "    if aa == \"A\":\n",
    "        nb_a += 1\n",
    "    elif aa == \"R\":\n",
    "        nb_r += 1\n",
    "    elif aa == \"W\":\n",
    "        nb_w += 1\n",
    "    elif aa == \"G\":\n",
    "        nb_g += 1\n",
    "    else:\n",
    "        nb_z += 1\n",
    "print(f\"Fréqeunce A : {(nb_a/len(seq_aa))*100:.2f}\")\n",
    "print(f\"Fréqeunce R : {(nb_r/len(seq_aa))*100:.2f}\")\n",
    "print(f\"Fréqeunce W : {(nb_w/len(seq_aa))*100:.2f}\")\n",
    "print(f\"Fréqeunce G : {(nb_g/len(seq_aa))*100:.2f}\")\n",
    "print(f\"Fréqeunce aa inconnu : {(nb_z/len(seq_aa))*100:.2f}\")"
   ]
  },
  {
   "cell_type": "markdown",
   "id": "c9ff33e3",
   "metadata": {},
   "source": [
    "## 6.7.5 : Notes et mention d’un étudiant  \n",
    "Voici les notes d’un étudiant : 14, 9, 13, 15 et 12. Créez un script qui affiche la note maximum (utilisez la fonction max()), la note minimum (utilisez la fonction min()) et qui calcule la moyenne.  \n",
    "Affichez la valeur de la moyenne avec deux décimales. Affichez aussi la mention obtenue sachant que la mention est « passable » si la moyenne est entre 10 inclus et 12 exclus, « assez bien » entre 12 inclus et 14 exclus et « bien » au-delà de 14.\n"
   ]
  },
  {
   "cell_type": "code",
   "execution_count": 6,
   "id": "729bd536",
   "metadata": {},
   "outputs": [
    {
     "name": "stdout",
     "output_type": "stream",
     "text": [
      "Note max : 15\n",
      "Note min : 9\n",
      "Moyenne : 12.60  assez bien\n"
     ]
    }
   ],
   "source": [
    "notes = [14, 9, 13, 15, 12]\n",
    "moyenne = sum(notes)/len(notes)\n",
    "print(f\"Note max : {max(notes)}\")\n",
    "print(f\"Note min : {min(notes)}\")\n",
    "if moyenne >= 10 and moyenne < 12:\n",
    "    mention = \"passable\"\n",
    "elif moyenne >= 12 and moyenne < 14:\n",
    "    mention = \"assez bien\"\n",
    "elif moyenne > 14:\n",
    "    mention = \"bien\"\n",
    "else:\n",
    "    mention = \"\"\n",
    "print(f\"Moyenne : {moyenne:.2f}{mention:>12s}\")"
   ]
  },
  {
   "cell_type": "markdown",
   "id": "c93c472f",
   "metadata": {},
   "source": [
    "## ex 6.7.6 : Nombres pairs  \n",
    "Construisez une boucle qui parcourt les nombres de 0 à 20 et qui affiche les nombres pairs inférieurs ou égaux à 10 d’une part, et les nombres impairs strictement supérieurs à 10 d’autre part.  \n",
    "Pour cet exercice, vous pourrez utiliser l’opérateur modulo % qui renvoie le reste de la division entière entre deux nombres.\n"
   ]
  },
  {
   "cell_type": "code",
   "execution_count": 7,
   "id": "9fd713e7",
   "metadata": {},
   "outputs": [
    {
     "name": "stdout",
     "output_type": "stream",
     "text": [
      "0 2 4 6 8 10 11 13 15 17 19 "
     ]
    }
   ],
   "source": [
    "for i in range(21):\n",
    "    if i % 2 == 0 and i <= 10:\n",
    "        print(i, end = \" \")\n",
    "    elif i % 2 != 0 and i > 10:\n",
    "        print(i, end = \" \")"
   ]
  },
  {
   "cell_type": "markdown",
   "id": "8bb6ae15",
   "metadata": {},
   "source": [
    "## ex 6.7.7 : Conjecture de Syracuse (exercice +++)  \n",
    "La conjecture de Syracuse 2 est une conjecture mathématique qui reste improuvée à ce jour et qui est définie de la manière suivante.  \n",
    "Soit un entier positif n. Si n est pair, alors le diviser par 2. Si il est impair, alors le multiplier par 3 et lui ajouter 1. En répétant cette procédure, la suite de nombres atteint la valeur 1 puis se prolonge indéfiniment par une suite de trois valeurs triviales appelée cycle trivial.  \n",
    "Jusqu’à présent, la conjecture de Syracuse, selon laquelle depuis n’importe quel entier positif la suite de Syracuse atteint 1, n’a pas été mise en défaut.  \n",
    "Par exemple, les premiers éléments de la suite de Syracuse si on prend comme point de départ 10 sont : 10, 5, 16, 8, 4, 2, 1...  \n",
    "\n",
    "Créez un script qui, partant d’un entier positif n (par exemple 10 ou 20), crée une liste des nombres de la suite de Syracuse. Avec différents points de départ (c’est-à-dire avec différentes valeurs de n), la conjecture de Syracuse est-elle toujours vérifiée ? Quels sont les nombres qui constituent le cycle trivial ?"
   ]
  },
  {
   "cell_type": "code",
   "execution_count": 8,
   "id": "1414185e",
   "metadata": {},
   "outputs": [
    {
     "name": "stdin",
     "output_type": "stream",
     "text": [
      "Entrer un nombre entier positif :  10\n"
     ]
    },
    {
     "name": "stdout",
     "output_type": "stream",
     "text": [
      "[10, 5, 16, 8, 4, 2, 1]\n"
     ]
    }
   ],
   "source": [
    "n = int(input(\"Entrer un nombre entier positif : \"))\n",
    "syracuse = []\n",
    "syracuse.append(n)\n",
    "while n != 1:\n",
    "    if n % 2 == 0:\n",
    "        n /= 2\n",
    "    else:\n",
    "        n = (n * 3) + 1\n",
    "    syracuse.append(int(n))\n",
    "print(syracuse)"
   ]
  },
  {
   "cell_type": "markdown",
   "id": "8c8f4c85",
   "metadata": {},
   "source": [
    "## ex 6.7.8 : Attribution de la structure secondaire des acides aminés d’une protéine (exercice +++)  \n",
    "Dans une protéine, les différents acides aminés sont liés entre eux par une liaison peptidique. Les angles phi et psi sont deux angles mesurés autour de cette liaison peptidique. Leurs valeurs sont utiles pour définir la conformation spatiale (appelée « structure secondaire ») adoptée par les acides aminés.  \n",
    "Par exemples, les angles phi et psi d’une conformation en « hélice alpha » parfaite ont une valeur de -57 degrés et -47 degrés respectivement. Bien sûr, il est très rare que l’on trouve ces valeurs parfaites dans une protéine, et il est habituel de tolérer une déviation de ± 30 degrés autour des valeurs idéales de ces angles.  \n",
    "\n",
    "Vous trouverez ci-dessous une liste de listes contenant les valeurs des angles phi et psi de 15 acides aminés de la protéine 1TFE3 :  \n",
    "[[48.6 , 53.4] ,[ -124.9 , 156.7] ,[ -66.2 , -30.8], \\  \n",
    "[-58.8, -43.1],[-73.9, -40.6],[-53.7, -37.5], \\  \n",
    "[-80.6, -26.0],[-68.5, 135.0] ,[ -64.9 , -23.5], \\  \n",
    "[-66.9, -45.5],[-69.6, -41.0],[-62.7, -37.5], \\  \n",
    "[-68.2, -38.3],[-61.2, -49.1],[-59.7, -41.1]]  \n",
    "\n",
    "Pour le premier acide aminé, l’angle phi vaut 48.6 et l’angle psi 53.4. Pour le deuxième, l’angle phi vaut -124.9 et l’angle psi 156.7, etc.  \n",
    "En utilisant cette liste, créez un script qui teste, pour chaque acide aminé, s’il est ou non en hélice et affiche les valeurs des angles phi et psi et le message adapté est en hélice ou n’est pas en hélice.  \n",
    "\n",
    "Par exemple, pour les 3 premiers acides aminés :\n",
    "[48.6, 53.4] n'est pas en hélice  \n",
    "[-124.9, 156.7] n'est pas en hélice  \n",
    "[-66.2, -30.8] est en hélice  \n",
    "\n",
    "D’après vous, quelle est la structure secondaire majoritaire de ces 15 acides aminés ?  \n",
    "\n",
    "\n",
    "### Méthode 1 :"
   ]
  },
  {
   "cell_type": "code",
   "execution_count": 9,
   "id": "38404e4b",
   "metadata": {},
   "outputs": [
    {
     "name": "stdout",
     "output_type": "stream",
     "text": [
      "[48.6, 53.4] n'est pas en hélice\n",
      "[-124.9, 156.7] n'est pas en hélice\n",
      "[-66.2, -30.8] est en hélice\n",
      "[-58.8, -43.1] est en hélice\n",
      "[-73.9, -40.6] est en hélice\n",
      "[-53.7, -37.5] est en hélice\n",
      "[-80.6, -26.0] est en hélice\n",
      "[-68.5, 135.0] n'est pas en hélice\n",
      "[-64.9, -23.5] est en hélice\n",
      "[-66.9, -45.5] est en hélice\n",
      "[-69.6, -41.0] est en hélice\n",
      "[-62.7, -37.5] est en hélice\n",
      "[-68.2, -38.3] est en hélice\n",
      "[-61.2, -49.1] est en hélice\n",
      "[-59.7, -41.1] est en hélice\n"
     ]
    }
   ],
   "source": [
    "angle_aa = [[48.6 , 53.4] ,[ -124.9 , 156.7] ,[ -66.2 , -30.8], \\\n",
    "            [-58.8, -43.1],[-73.9, -40.6],[-53.7, -37.5], \\\n",
    "            [-80.6, -26.0],[-68.5, 135.0] ,[ -64.9 , -23.5], \\\n",
    "            [-66.9, -45.5],[-69.6, -41.0],[-62.7, -37.5], \\\n",
    "            [-68.2, -38.3],[-61.2, -49.1],[-59.7, -41.1]]\n",
    "for aa in angle_aa:\n",
    "    if (aa[0] > -57-30 and aa[0] < -57+30) and \\\n",
    "    (aa[1] > -47-30 and aa[1] < -47+30):\n",
    "        print(f\"{aa} est en hélice\")\n",
    "    else:\n",
    "        print(f\"{aa} n'est pas en hélice\")"
   ]
  },
  {
   "cell_type": "markdown",
   "id": "466ec085-c946-49c1-9789-fd23c5854b3d",
   "metadata": {},
   "source": [
    "### Méthode 2 : Avec utilisation d'un delta"
   ]
  },
  {
   "cell_type": "code",
   "execution_count": 10,
   "id": "7f98a107",
   "metadata": {},
   "outputs": [
    {
     "name": "stdout",
     "output_type": "stream",
     "text": [
      "[48.6, 53.4] n'est pas en hélice\n",
      "[-124.9, 156.7] n'est pas en hélice\n",
      "[-66.2, -30.8] est en hélice\n",
      "[-58.8, -43.1] est en hélice\n",
      "[-73.9, -40.6] est en hélice\n",
      "[-53.7, -37.5] est en hélice\n",
      "[-80.6, -26.0] est en hélice\n",
      "[-68.5, 135.0] n'est pas en hélice\n",
      "[-64.9, -23.5] est en hélice\n",
      "[-66.9, -45.5] est en hélice\n",
      "[-69.6, -41.0] est en hélice\n",
      "[-62.7, -37.5] est en hélice\n",
      "[-68.2, -38.3] est en hélice\n",
      "[-61.2, -49.1] est en hélice\n",
      "[-59.7, -41.1] est en hélice\n"
     ]
    }
   ],
   "source": [
    "# avec delta\n",
    "delta = 30\n",
    "for aa in angle_aa:\n",
    "    if abs(aa[0] + 57) < delta and abs(aa[1] + 47) < 30:\n",
    "        print(f\"{aa} est en hélice\")\n",
    "    else:\n",
    "        print(f\"{aa} n'est pas en hélice\")"
   ]
  },
  {
   "cell_type": "markdown",
   "id": "03251213",
   "metadata": {},
   "source": [
    "## ex 6.7.9 : Détermination des nombres premiers inférieurs à 100 (exercice +++)  \n",
    "Voici un extrait de l’article sur les nombres premiers tiré de l’encyclopédie en ligne wikipédia 5.  \n",
    "_Un nombre premier est un entier naturel qui admet exactement deux diviseurs distincts entiers et positifs (qui sont alors 1 et lui-même). Cette définition exclut 1, qui n’a qu’un seul diviseur entier positif. Par opposition, un nombre non nul produit de deux nombres entiers différents de 1 est dit composé. Par exemple 6 = 2 × 3 est composé, tout comme 21 = 3 × 7, mais 11 est premier car 1 et 11 sont les seuls diviseurs de 11. Les nombres 0 et 1 ne sont ni premiers ni composés._  \n",
    "Déterminez les nombres premiers inférieurs à 100. Combien y a-t-il de nombres premiers entre 0 et 100 ?\n",
    "\n",
    "### Méthode 1:"
   ]
  },
  {
   "cell_type": "code",
   "execution_count": 11,
   "id": "368b9557",
   "metadata": {},
   "outputs": [
    {
     "name": "stdout",
     "output_type": "stream",
     "text": [
      "2 3 5 7 11 13 17 19 23 29 31 37 41 43 47 53 59 61 67 71 73 79 83 89 97 "
     ]
    }
   ],
   "source": [
    "for i in range(2, 101):\n",
    "    n = 0\n",
    "    for j in range(1, i+1):\n",
    "        if i % j == 0:\n",
    "            n += 1\n",
    "    if n == 2:\n",
    "        print(f\"{i}\", end = \" \")"
   ]
  },
  {
   "cell_type": "markdown",
   "id": "9095aef2",
   "metadata": {},
   "source": [
    "### Méthode 2:"
   ]
  },
  {
   "cell_type": "code",
   "execution_count": 12,
   "id": "f9cf929e",
   "metadata": {},
   "outputs": [
    {
     "name": "stdout",
     "output_type": "stream",
     "text": [
      "[2, 3, 5, 7, 11, 13, 17, 19, 23, 29, 31, 37, 41, 43, 47, 53, 59, 61, 67, 71, 73, 79, 83, 89, 97]\n"
     ]
    }
   ],
   "source": [
    "premiers = [2]\n",
    "for i in range(2, 101):\n",
    "    flags = 0\n",
    "    for nb in premiers:\n",
    "        if i % nb == 0:\n",
    "            flags = 1\n",
    "            break\n",
    "    if flags == 0:\n",
    "        premiers.append(i)\n",
    "print(premiers)"
   ]
  },
  {
   "cell_type": "markdown",
   "id": "7798dc19-7ce2-4e81-b6ae-0278578c1a4c",
   "metadata": {},
   "source": [
    "## ex 6.7.10 : Recherche d’un nombre par dichotomie (exercice +++)\n",
    "### Méthode 1 :"
   ]
  },
  {
   "cell_type": "code",
   "execution_count": 13,
   "id": "ecf83d80-7ad4-4bdd-af77-3065adb207dd",
   "metadata": {},
   "outputs": [
    {
     "name": "stdout",
     "output_type": "stream",
     "text": [
      "Penssez à un nombre entier entre 1 et 100.\n"
     ]
    },
    {
     "name": "stdin",
     "output_type": "stream",
     "text": [
      "votre nombre est plus grand, plus petit, ou egal à 50 ? [+/-/=] :  +\n",
      "votre nombre est plus grand, plus petit, ou egal à 75 ? [+/-/=] :  +\n",
      "votre nombre est plus grand, plus petit, ou egal à 88 ? [+/-/=] :  -\n",
      "votre nombre est plus grand, plus petit, ou egal à 81 ? [+/-/=] :  -\n",
      "votre nombre est plus grand, plus petit, ou egal à 78 ? [+/-/=] :  +\n",
      "votre nombre est plus grand, plus petit, ou egal à 79 ? [+/-/=] :  =\n"
     ]
    },
    {
     "name": "stdout",
     "output_type": "stream",
     "text": [
      "j'ai trouvé en 6 question !\n"
     ]
    }
   ],
   "source": [
    "print(\"Penssez à un nombre entier entre 1 et 100.\")\n",
    "nb = 50\n",
    "maxi = 100\n",
    "mini = 0\n",
    "compt = 1\n",
    "rep = \"\"\n",
    "while rep != \"=\":\n",
    "    nb = int((maxi / 2) + (mini / 2))\n",
    "    rep = input(f\"votre nombre est plus grand, plus petit, ou egal à {nb} ? [+/-/=] : \")\n",
    "    if maxi == mini and rep != \"=\":\n",
    "        print(f\"Vous avez changé de nombre :(\")\n",
    "        break\n",
    "    elif rep == \"+\":\n",
    "        mini = nb + 1\n",
    "        compt += 1\n",
    "    elif rep == \"-\":\n",
    "        maxi = nb - 1\n",
    "        compt += 1\n",
    "    elif rep == \"=\":\n",
    "        print(f\"j'ai trouvé en {compt} question !\")\n",
    "        break\n",
    "    else:\n",
    "        continue"
   ]
  },
  {
   "cell_type": "markdown",
   "id": "cce8a499-3dfd-4c62-b463-9514af59bcb6",
   "metadata": {},
   "source": [
    "### Méthode 2 : avec une liste"
   ]
  },
  {
   "cell_type": "code",
   "execution_count": 14,
   "id": "b5f8aaa8-59df-4630-9a88-6b50e6d749aa",
   "metadata": {},
   "outputs": [
    {
     "name": "stdout",
     "output_type": "stream",
     "text": [
      "Penssez à un nombre entier entre 1 et 100.\n"
     ]
    },
    {
     "name": "stdin",
     "output_type": "stream",
     "text": [
      "votre nombre est plus grand, plus petit, ou egal à 50 ? [+/-/=] :  +\n",
      "votre nombre est plus grand, plus petit, ou egal à 75 ? [+/-/=] :  +\n",
      "votre nombre est plus grand, plus petit, ou egal à 88 ? [+/-/=] :  -\n",
      "votre nombre est plus grand, plus petit, ou egal à 81 ? [+/-/=] :  -\n",
      "votre nombre est plus grand, plus petit, ou egal à 78 ? [+/-/=] :  +\n",
      "votre nombre est plus grand, plus petit, ou egal à 79 ? [+/-/=] :  =\n"
     ]
    },
    {
     "name": "stdout",
     "output_type": "stream",
     "text": [
      "j'ai trouvé en 6 questions !\n"
     ]
    }
   ],
   "source": [
    "nombres = list(range(1, 101))\n",
    "compt = 1\n",
    "rep = \"\"\n",
    "print(\"Penssez à un nombre entier entre 1 et 100.\")\n",
    "while rep != \"=\":\n",
    "    if len(nombres) % 2 == 0:\n",
    "        id_nb = int(len(nombres)/2 - 1)\n",
    "    else:\n",
    "        id_nb = int(len(nombres)/2)\n",
    "    rep = input(f\"votre nombre est plus grand, plus petit, ou egal à {nombres[id_nb]} ? [+/-/=] : \")\n",
    "    if len(nombres) == 1 and rep != \"=\":\n",
    "        print(f\"Vous avez changé de nombre :(\")\n",
    "        break\n",
    "    elif rep == \"+\":\n",
    "        nombres = nombres[id_nb+1:]\n",
    "        compt += 1\n",
    "    elif rep == \"-\":\n",
    "        nombres = nombres[:id_nb]\n",
    "        compt += 1\n",
    "    elif rep == \"=\":\n",
    "        print(f\"j'ai trouvé en {compt} questions !\")\n",
    "        break\n",
    "    else:\n",
    "        continue"
   ]
  }
 ],
 "metadata": {
  "interpreter": {
   "hash": "569d6b7e9215e11aba41c6454007e5c1b78bad7df09dab765d8cf00362c40f03"
  },
  "kernelspec": {
   "display_name": "Python 3 (ipykernel)",
   "language": "python",
   "name": "python3"
  },
  "language_info": {
   "codemirror_mode": {
    "name": "ipython",
    "version": 3
   },
   "file_extension": ".py",
   "mimetype": "text/x-python",
   "name": "python",
   "nbconvert_exporter": "python",
   "pygments_lexer": "ipython3",
   "version": "3.7.9"
  }
 },
 "nbformat": 4,
 "nbformat_minor": 5
}
