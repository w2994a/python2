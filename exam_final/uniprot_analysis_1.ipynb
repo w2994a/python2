{
 "cells": [
  {
   "cell_type": "markdown",
   "metadata": {},
   "source": [
    "Nom : Amory\n",
    "\n",
    "Prénom : William\n",
    "\n",
    "Cursus : M1 BI-IPFB"
   ]
  },
  {
   "cell_type": "markdown",
   "metadata": {
    "tags": []
   },
   "source": [
    "# Analyse de données provenant d'UniProt\n",
    "\n",
    "Dans la cellule de code ci-dessous, chargez les bibliothèques Python dont vous avez besoin :"
   ]
  },
  {
   "cell_type": "code",
   "execution_count": 1,
   "metadata": {},
   "outputs": [],
   "source": [
    "import pandas as pd\n",
    "import matplotlib.pyplot as plt\n",
    "\n",
    "%matplotlib inline"
   ]
  },
  {
   "cell_type": "markdown",
   "metadata": {},
   "source": [
    "## Présentation du jeu de données\n",
    "\n",
    "Le fichier `proteins_1.tsv` est un fichier au format TSV contenant, pour plusieurs milliers de protéines, des informations provenant d'UniProt.\n",
    "\n",
    "Les colonnes de ce fichier sont :\n",
    "\n",
    "- `Entry` : identifiant de la protéine.\n",
    "- `Entry_name` : nom de la proténe.\n",
    "- `Length` : taille de la protéine, c'est-à-dire le nombre de résidus.\n",
    "- `Mass` : masse de la protéine, en Da.\n",
    "- `Annotation_score` : qualité des annotations disponibles pour la protéine. Le score est compris entre 1 et 5. Plus le score est élevé, plus les annotations sont de bonne qualité.\n",
    "- `Organism` : organisme de la protéine.\n",
    "- `Class` : catégorie de la protéine."
   ]
  },
  {
   "cell_type": "markdown",
   "metadata": {},
   "source": [
    "## Chargement du jeu de données\n",
    "\n",
    "Dans la cellule de code ci-dessous :\n",
    "\n",
    "- chargez le jeu de données dans un *dataframe* pandas avec la colonne `Entry` comme index ;\n",
    "- affichez les dimensions du dataframe ;\n",
    "- et affichez les 5 premières lignes du dataframe obtenu."
   ]
  },
  {
   "cell_type": "code",
   "execution_count": 3,
   "metadata": {},
   "outputs": [
    {
     "name": "stdout",
     "output_type": "stream",
     "text": [
      "(7000, 6)\n"
     ]
    },
    {
     "data": {
      "text/html": [
       "<div>\n",
       "<style scoped>\n",
       "    .dataframe tbody tr th:only-of-type {\n",
       "        vertical-align: middle;\n",
       "    }\n",
       "\n",
       "    .dataframe tbody tr th {\n",
       "        vertical-align: top;\n",
       "    }\n",
       "\n",
       "    .dataframe thead th {\n",
       "        text-align: right;\n",
       "    }\n",
       "</style>\n",
       "<table border=\"1\" class=\"dataframe\">\n",
       "  <thead>\n",
       "    <tr style=\"text-align: right;\">\n",
       "      <th></th>\n",
       "      <th>Entry_name</th>\n",
       "      <th>Length</th>\n",
       "      <th>Mass</th>\n",
       "      <th>Annotation_score</th>\n",
       "      <th>Organism</th>\n",
       "      <th>Class</th>\n",
       "    </tr>\n",
       "    <tr>\n",
       "      <th>Entry</th>\n",
       "      <th></th>\n",
       "      <th></th>\n",
       "      <th></th>\n",
       "      <th></th>\n",
       "      <th></th>\n",
       "      <th></th>\n",
       "    </tr>\n",
       "  </thead>\n",
       "  <tbody>\n",
       "    <tr>\n",
       "      <th>P93304</th>\n",
       "      <td>M490_ARATH</td>\n",
       "      <td>107</td>\n",
       "      <td>12125</td>\n",
       "      <td>1</td>\n",
       "      <td>thaliana</td>\n",
       "      <td>mitochondrial</td>\n",
       "    </tr>\n",
       "    <tr>\n",
       "      <th>P34897</th>\n",
       "      <td>GLYM_HUMAN</td>\n",
       "      <td>504</td>\n",
       "      <td>55993</td>\n",
       "      <td>5</td>\n",
       "      <td>human</td>\n",
       "      <td>mitochondrial</td>\n",
       "    </tr>\n",
       "    <tr>\n",
       "      <th>Q9FX35</th>\n",
       "      <td>PP117_ARATH</td>\n",
       "      <td>568</td>\n",
       "      <td>65679</td>\n",
       "      <td>2</td>\n",
       "      <td>thaliana</td>\n",
       "      <td>mitochondrial</td>\n",
       "    </tr>\n",
       "    <tr>\n",
       "      <th>Q9Z2B2</th>\n",
       "      <td>UCP5_MOUSE</td>\n",
       "      <td>325</td>\n",
       "      <td>36286</td>\n",
       "      <td>5</td>\n",
       "      <td>mouse</td>\n",
       "      <td>mitochondrial</td>\n",
       "    </tr>\n",
       "    <tr>\n",
       "      <th>P82914</th>\n",
       "      <td>RT15_HUMAN</td>\n",
       "      <td>257</td>\n",
       "      <td>29842</td>\n",
       "      <td>4</td>\n",
       "      <td>human</td>\n",
       "      <td>mitochondrial</td>\n",
       "    </tr>\n",
       "  </tbody>\n",
       "</table>\n",
       "</div>"
      ],
      "text/plain": [
       "         Entry_name  Length   Mass  Annotation_score  Organism          Class\n",
       "Entry                                                                        \n",
       "P93304   M490_ARATH     107  12125                 1  thaliana  mitochondrial\n",
       "P34897   GLYM_HUMAN     504  55993                 5     human  mitochondrial\n",
       "Q9FX35  PP117_ARATH     568  65679                 2  thaliana  mitochondrial\n",
       "Q9Z2B2   UCP5_MOUSE     325  36286                 5     mouse  mitochondrial\n",
       "P82914   RT15_HUMAN     257  29842                 4     human  mitochondrial"
      ]
     },
     "execution_count": 3,
     "metadata": {},
     "output_type": "execute_result"
    }
   ],
   "source": [
    "dtf_prot = pd.read_csv(\"proteins_1.tsv\", sep=\"\\t\", index_col=\"Entry\")\n",
    "print(dtf_prot.shape)\n",
    "dtf_prot.head(5)"
   ]
  },
  {
   "cell_type": "markdown",
   "metadata": {},
   "source": [
    "Dans la cellule de code ci-dessous, déterminez le nombre de protéines pour chaque organisme"
   ]
  },
  {
   "cell_type": "code",
   "execution_count": 9,
   "metadata": {},
   "outputs": [
    {
     "data": {
      "text/html": [
       "<div>\n",
       "<style scoped>\n",
       "    .dataframe tbody tr th:only-of-type {\n",
       "        vertical-align: middle;\n",
       "    }\n",
       "\n",
       "    .dataframe tbody tr th {\n",
       "        vertical-align: top;\n",
       "    }\n",
       "\n",
       "    .dataframe thead th {\n",
       "        text-align: right;\n",
       "    }\n",
       "</style>\n",
       "<table border=\"1\" class=\"dataframe\">\n",
       "  <thead>\n",
       "    <tr style=\"text-align: right;\">\n",
       "      <th></th>\n",
       "      <th>Length</th>\n",
       "      <th>Mass</th>\n",
       "      <th>Annotation_score</th>\n",
       "    </tr>\n",
       "    <tr>\n",
       "      <th>Organism</th>\n",
       "      <th></th>\n",
       "      <th></th>\n",
       "      <th></th>\n",
       "    </tr>\n",
       "  </thead>\n",
       "  <tbody>\n",
       "    <tr>\n",
       "      <th>human</th>\n",
       "      <td>1361044</td>\n",
       "      <td>152213620</td>\n",
       "      <td>11298</td>\n",
       "    </tr>\n",
       "    <tr>\n",
       "      <th>mouse</th>\n",
       "      <td>1009728</td>\n",
       "      <td>112458499</td>\n",
       "      <td>7742</td>\n",
       "    </tr>\n",
       "    <tr>\n",
       "      <th>thaliana</th>\n",
       "      <td>647462</td>\n",
       "      <td>72221658</td>\n",
       "      <td>6076</td>\n",
       "    </tr>\n",
       "    <tr>\n",
       "      <th>yeast</th>\n",
       "      <td>315682</td>\n",
       "      <td>35748814</td>\n",
       "      <td>3504</td>\n",
       "    </tr>\n",
       "  </tbody>\n",
       "</table>\n",
       "</div>"
      ],
      "text/plain": [
       "           Length       Mass  Annotation_score\n",
       "Organism                                      \n",
       "human     1361044  152213620             11298\n",
       "mouse     1009728  112458499              7742\n",
       "thaliana   647462   72221658              6076\n",
       "yeast      315682   35748814              3504"
      ]
     },
     "execution_count": 9,
     "metadata": {},
     "output_type": "execute_result"
    }
   ],
   "source": [
    "dtf_prot.groupby(\"Organism\")"
   ]
  },
  {
   "cell_type": "markdown",
   "metadata": {},
   "source": [
    "Dans la cellule de code ci-dessous, déterminez la masse moyenne pour les protéines de chaque organisme."
   ]
  },
  {
   "cell_type": "code",
   "execution_count": 11,
   "metadata": {},
   "outputs": [
    {
     "data": {
      "text/plain": [
       "Organism\n",
       "human       59855.926072\n",
       "mouse       57938.433282\n",
       "thaliana    42861.518101\n",
       "yeast       43019.030084\n",
       "Name: Mass, dtype: float64"
      ]
     },
     "execution_count": 11,
     "metadata": {},
     "output_type": "execute_result"
    }
   ],
   "source": [
    "dtf_prot.groupby(\"Organism\")[\"Mass\"].mean()"
   ]
  },
  {
   "cell_type": "markdown",
   "metadata": {},
   "source": [
    "Dans la cellule ci-dessous, affichez uniquement le nom et l'organisme des protéines Q12387, P47045 et Q12036."
   ]
  },
  {
   "cell_type": "code",
   "execution_count": 13,
   "metadata": {},
   "outputs": [
    {
     "data": {
      "text/html": [
       "<div>\n",
       "<style scoped>\n",
       "    .dataframe tbody tr th:only-of-type {\n",
       "        vertical-align: middle;\n",
       "    }\n",
       "\n",
       "    .dataframe tbody tr th {\n",
       "        vertical-align: top;\n",
       "    }\n",
       "\n",
       "    .dataframe thead th {\n",
       "        text-align: right;\n",
       "    }\n",
       "</style>\n",
       "<table border=\"1\" class=\"dataframe\">\n",
       "  <thead>\n",
       "    <tr style=\"text-align: right;\">\n",
       "      <th></th>\n",
       "      <th>Entry_name</th>\n",
       "      <th>Organism</th>\n",
       "    </tr>\n",
       "    <tr>\n",
       "      <th>Entry</th>\n",
       "      <th></th>\n",
       "      <th></th>\n",
       "    </tr>\n",
       "  </thead>\n",
       "  <tbody>\n",
       "    <tr>\n",
       "      <th>Q12387</th>\n",
       "      <td>NAA25_YEAST</td>\n",
       "      <td>yeast</td>\n",
       "    </tr>\n",
       "    <tr>\n",
       "      <th>P47045</th>\n",
       "      <td>TIM54_YEAST</td>\n",
       "      <td>yeast</td>\n",
       "    </tr>\n",
       "    <tr>\n",
       "      <th>Q12036</th>\n",
       "      <td>PPT2_YEAST</td>\n",
       "      <td>yeast</td>\n",
       "    </tr>\n",
       "  </tbody>\n",
       "</table>\n",
       "</div>"
      ],
      "text/plain": [
       "         Entry_name Organism\n",
       "Entry                       \n",
       "Q12387  NAA25_YEAST    yeast\n",
       "P47045  TIM54_YEAST    yeast\n",
       "Q12036   PPT2_YEAST    yeast"
      ]
     },
     "execution_count": 13,
     "metadata": {},
     "output_type": "execute_result"
    }
   ],
   "source": [
    "dtf_prot.loc[[\"Q12387\", \"P47045\", \"Q12036\"], [\"Entry_name\", \"Organism\"]]"
   ]
  },
  {
   "cell_type": "markdown",
   "metadata": {},
   "source": [
    "Dans la cellule ci-dessous, affichez uniquement les noms des protéines de la levure (*yeast*) qui contiennent plus de 1500 résidus."
   ]
  },
  {
   "cell_type": "code",
   "execution_count": 15,
   "metadata": {},
   "outputs": [
    {
     "data": {
      "text/html": [
       "<div>\n",
       "<style scoped>\n",
       "    .dataframe tbody tr th:only-of-type {\n",
       "        vertical-align: middle;\n",
       "    }\n",
       "\n",
       "    .dataframe tbody tr th {\n",
       "        vertical-align: top;\n",
       "    }\n",
       "\n",
       "    .dataframe thead th {\n",
       "        text-align: right;\n",
       "    }\n",
       "</style>\n",
       "<table border=\"1\" class=\"dataframe\">\n",
       "  <thead>\n",
       "    <tr style=\"text-align: right;\">\n",
       "      <th></th>\n",
       "      <th>Entry_name</th>\n",
       "      <th>Length</th>\n",
       "      <th>Mass</th>\n",
       "      <th>Annotation_score</th>\n",
       "      <th>Organism</th>\n",
       "      <th>Class</th>\n",
       "    </tr>\n",
       "    <tr>\n",
       "      <th>Entry</th>\n",
       "      <th></th>\n",
       "      <th></th>\n",
       "      <th></th>\n",
       "      <th></th>\n",
       "      <th></th>\n",
       "      <th></th>\n",
       "    </tr>\n",
       "  </thead>\n",
       "  <tbody>\n",
       "    <tr>\n",
       "      <th>Q06179</th>\n",
       "      <td>FMP27_YEAST</td>\n",
       "      <td>2628</td>\n",
       "      <td>303479</td>\n",
       "      <td>2</td>\n",
       "      <td>yeast</td>\n",
       "      <td>mitochondrial</td>\n",
       "    </tr>\n",
       "    <tr>\n",
       "      <th>Q03280</th>\n",
       "      <td>TOM1_YEAST</td>\n",
       "      <td>3268</td>\n",
       "      <td>374185</td>\n",
       "      <td>5</td>\n",
       "      <td>yeast</td>\n",
       "      <td>ubiquitin</td>\n",
       "    </tr>\n",
       "    <tr>\n",
       "      <th>Q07963</th>\n",
       "      <td>UBR2_YEAST</td>\n",
       "      <td>1872</td>\n",
       "      <td>216778</td>\n",
       "      <td>5</td>\n",
       "      <td>yeast</td>\n",
       "      <td>ubiquitin</td>\n",
       "    </tr>\n",
       "    <tr>\n",
       "      <th>P19812</th>\n",
       "      <td>UBR1_YEAST</td>\n",
       "      <td>1950</td>\n",
       "      <td>224838</td>\n",
       "      <td>5</td>\n",
       "      <td>yeast</td>\n",
       "      <td>ubiquitin</td>\n",
       "    </tr>\n",
       "    <tr>\n",
       "      <th>Q05022</th>\n",
       "      <td>RRP5_YEAST</td>\n",
       "      <td>1729</td>\n",
       "      <td>193134</td>\n",
       "      <td>5</td>\n",
       "      <td>yeast</td>\n",
       "      <td>ribosomal</td>\n",
       "    </tr>\n",
       "    <tr>\n",
       "      <th>P34241</th>\n",
       "      <td>URB1_YEAST</td>\n",
       "      <td>1764</td>\n",
       "      <td>203287</td>\n",
       "      <td>4</td>\n",
       "      <td>yeast</td>\n",
       "      <td>ribosomal</td>\n",
       "    </tr>\n",
       "    <tr>\n",
       "      <th>Q04781</th>\n",
       "      <td>LTN1_YEAST</td>\n",
       "      <td>1562</td>\n",
       "      <td>180186</td>\n",
       "      <td>5</td>\n",
       "      <td>yeast</td>\n",
       "      <td>ubiquitin</td>\n",
       "    </tr>\n",
       "  </tbody>\n",
       "</table>\n",
       "</div>"
      ],
      "text/plain": [
       "         Entry_name  Length    Mass  Annotation_score Organism          Class\n",
       "Entry                                                                        \n",
       "Q06179  FMP27_YEAST    2628  303479                 2    yeast  mitochondrial\n",
       "Q03280   TOM1_YEAST    3268  374185                 5    yeast      ubiquitin\n",
       "Q07963   UBR2_YEAST    1872  216778                 5    yeast      ubiquitin\n",
       "P19812   UBR1_YEAST    1950  224838                 5    yeast      ubiquitin\n",
       "Q05022   RRP5_YEAST    1729  193134                 5    yeast      ribosomal\n",
       "P34241   URB1_YEAST    1764  203287                 4    yeast      ribosomal\n",
       "Q04781   LTN1_YEAST    1562  180186                 5    yeast      ubiquitin"
      ]
     },
     "execution_count": 15,
     "metadata": {},
     "output_type": "execute_result"
    }
   ],
   "source": [
    "dtf_prot[(dtf_prot[\"Organism\"] == \"yeast\") & (dtf_prot[\"Length\"] > 1500)]"
   ]
  },
  {
   "cell_type": "markdown",
   "metadata": {},
   "source": [
    "Dans le reste de l'énoncé, vous ne considérerez que les protéines qui possèdent un score d'annotation supérieur ou égale à 3.\n",
    "\n",
    "Dans la cellule ci-dessous :\n",
    "- Modifiez votre dataframe pour qu'il ne contienne que les protéines pour lesquelles le score d'annotation est supérieur ou égale à 3.\n",
    "- Affichez les nouvelles dimensions du dataframe."
   ]
  },
  {
   "cell_type": "code",
   "execution_count": 16,
   "metadata": {},
   "outputs": [
    {
     "data": {
      "text/plain": [
       "(6212, 6)"
      ]
     },
     "execution_count": 16,
     "metadata": {},
     "output_type": "execute_result"
    }
   ],
   "source": [
    "dtf_annot = dtf_prot[dtf_prot[\"Annotation_score\"] >= 3]\n",
    "dtf_annot.shape"
   ]
  },
  {
   "cell_type": "markdown",
   "metadata": {},
   "source": [
    "Dans la cellule ci-dessous, représentez graphiquement sous la forme d'un nuage de points la masse en fonction de la taille des protéines de l'organisme *thaliana*.\n",
    "\n",
    "Vous ajouterez un titre pour le graphique et des étiquettes pour les axes des abscisses et des ordonnées. La couleur des points sera orange."
   ]
  },
  {
   "cell_type": "code",
   "execution_count": 19,
   "metadata": {},
   "outputs": [
    {
     "data": {
      "image/png": "[encoded data removed]",
      "text/plain": [
       "<Figure size 432x288 with 1 Axes>"
      ]
     },
     "metadata": {
      "needs_background": "light"
     },
     "output_type": "display_data"
    }
   ],
   "source": [
    "plt.scatter(dtf_annot[dtf_annot[\"Organism\"] == \"thaliana\"][\"Mass\"],\n",
    "            dtf_annot[dtf_annot[\"Organism\"] == \"thaliana\"][\"Length\"])\n",
    "plt.title(\"Mass vs Length in thaliana protiens\")\n",
    "plt.xlabel(\"Mass\")\n",
    "plt.ylabel(\"Length\");"
   ]
  },
  {
   "cell_type": "markdown",
   "metadata": {},
   "source": [
    "Dans la cellule ci-dessous, représentez graphiquement sous la forme d'un diagramme en bâtons le score moyen des annotations pour les différents organismes.\n",
    "\n",
    "Vous ajouterez un titre pour le graphique et des étiquettes pour les axes des abscisses et des ordonnées.\n",
    "La couleur des barres sera rouge."
   ]
  },
  {
   "cell_type": "code",
   "execution_count": 36,
   "metadata": {},
   "outputs": [
    {
     "data": {
      "text/plain": [
       "Organism\n",
       "human       4.595745\n",
       "mouse       4.286474\n",
       "thaliana    4.065672\n",
       "yeast       4.374680\n",
       "Name: Annotation_score, dtype: float64"
      ]
     },
     "execution_count": 36,
     "metadata": {},
     "output_type": "execute_result"
    }
   ],
   "source": [
    "dtf_annot.groupby(\"Organism\")[\"Annotation_score\"].mean()"
   ]
  },
  {
   "cell_type": "code",
   "execution_count": 53,
   "metadata": {},
   "outputs": [
    {
     "data": {
      "text/plain": [
       "<BarContainer object of 4 artists>"
      ]
     },
     "execution_count": 53,
     "metadata": {},
     "output_type": "execute_result"
    },
    {
     "data": {
      "image/png": "[encoded data removed]",
      "text/plain": [
       "<Figure size 432x288 with 1 Axes>"
      ]
     },
     "metadata": {
      "needs_background": "light"
     },
     "output_type": "display_data"
    }
   ],
   "source": [
    "plt.bar(dtf_annot.groupby(\"Organism\")[\"Annotation_score\"].mean(), 6)"
   ]
  },
  {
   "cell_type": "code",
   "execution_count": null,
   "metadata": {},
   "outputs": [],
   "source": []
  }
 ],
 "metadata": {
  "interpreter": {
   "hash": "aa3d7931c7d6ef75c62ca75d03696cafa25a566d7923ee0b9b44814c23eb1bb3"
  },
  "kernelspec": {
   "display_name": "Python 3 (ipykernel)",
   "language": "python",
   "name": "python3"
  },
  "language_info": {
   "codemirror_mode": {
    "name": "ipython",
    "version": 3
   },
   "file_extension": ".py",
   "mimetype": "text/x-python",
   "name": "python",
   "nbconvert_exporter": "python",
   "pygments_lexer": "ipython3",
   "version": "3.8.12"
  }
 },
 "nbformat": 4,
 "nbformat_minor": 4
}
